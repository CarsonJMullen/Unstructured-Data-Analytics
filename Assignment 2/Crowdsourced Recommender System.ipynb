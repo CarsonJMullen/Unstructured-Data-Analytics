{
 "cells": [
  {
   "cell_type": "markdown",
   "id": "7b4cb879-9377-4df4-b1d6-c155f3280a0c",
   "metadata": {},
   "source": [
    "**Team Members: Ethan Wong, Timmy Ren, Mason Shu, Medha Nalamada, Carson Mullen, Bethel Kim**\n",
    "\n",
    "**Morning Cohort (11 AM - 1 PM)**"
   ]
  },
  {
   "cell_type": "markdown",
   "id": "3c3b6562-292d-4ffe-a12b-3c2614e483d8",
   "metadata": {},
   "source": [
    "*Note to all: Please pull any changes from the repo before working on this file!*"
   ]
  },
  {
   "cell_type": "code",
   "execution_count": 3,
   "id": "454091d9-68eb-4a66-b740-e0c067393f52",
   "metadata": {},
   "outputs": [],
   "source": [
    "# Import Libraries"
   ]
  },
  {
   "cell_type": "markdown",
   "id": "f699e527-081d-4a2c-b17e-5c2d5055f1d4",
   "metadata": {},
   "source": [
    "# Task A: Scrape from ratebeer.com - extract 5-6K reviews"
   ]
  },
  {
   "cell_type": "code",
   "execution_count": 14,
   "id": "a1fa0a43-5853-4df3-9812-4c358fefe6bb",
   "metadata": {},
   "outputs": [],
   "source": [
    "# May end up with only 1700-2000 reviews with text"
   ]
  },
  {
   "cell_type": "code",
   "execution_count": 1,
   "id": "65dadca5",
   "metadata": {},
   "outputs": [
    {
     "ename": "ElementNotInteractableException",
     "evalue": "Message: element not interactable\n  (Session info: chrome=129.0.6668.70)\nStacktrace:\n0   chromedriver                        0x0000000102980274 cxxbridge1$str$ptr + 1907280\n1   chromedriver                        0x000000010297875c cxxbridge1$str$ptr + 1875768\n2   chromedriver                        0x000000010258c0d0 cxxbridge1$string$len + 89088\n3   chromedriver                        0x00000001025d14cc cxxbridge1$string$len + 372732\n4   chromedriver                        0x00000001025c7034 cxxbridge1$string$len + 330596\n5   chromedriver                        0x00000001025c6ad0 cxxbridge1$string$len + 329216\n6   chromedriver                        0x000000010260a7d0 cxxbridge1$string$len + 606976\n7   chromedriver                        0x00000001025c512c cxxbridge1$string$len + 322652\n8   chromedriver                        0x00000001025c5d7c cxxbridge1$string$len + 325804\n9   chromedriver                        0x0000000102948504 cxxbridge1$str$ptr + 1678560\n10  chromedriver                        0x000000010294ce6c cxxbridge1$str$ptr + 1697352\n11  chromedriver                        0x000000010292d618 cxxbridge1$str$ptr + 1568244\n12  chromedriver                        0x000000010294d73c cxxbridge1$str$ptr + 1699608\n13  chromedriver                        0x000000010291ebbc cxxbridge1$str$ptr + 1508248\n14  chromedriver                        0x0000000102969854 cxxbridge1$str$ptr + 1814576\n15  chromedriver                        0x00000001029699ac cxxbridge1$str$ptr + 1814920\n16  chromedriver                        0x00000001029783fc cxxbridge1$str$ptr + 1874904\n17  libsystem_pthread.dylib             0x00000001a2885240 _pthread_start + 148\n18  libsystem_pthread.dylib             0x00000001a2880024 thread_start + 8\n",
     "output_type": "error",
     "traceback": [
      "\u001b[0;31m---------------------------------------------------------------------------\u001b[0m",
      "\u001b[0;31mElementNotInteractableException\u001b[0m           Traceback (most recent call last)",
      "Cell \u001b[0;32mIn[1], line 213\u001b[0m\n\u001b[1;32m    209\u001b[0m     \u001b[38;5;28mprint\u001b[39m(\u001b[38;5;124mf\u001b[39m\u001b[38;5;124m\"\u001b[39m\u001b[38;5;124mSaved \u001b[39m\u001b[38;5;132;01m{\u001b[39;00m\u001b[38;5;28mlen\u001b[39m(df)\u001b[38;5;132;01m}\u001b[39;00m\u001b[38;5;124m reviews to \u001b[39m\u001b[38;5;124m'\u001b[39m\u001b[38;5;124mBeerReviews.csv\u001b[39m\u001b[38;5;124m'\u001b[39m\u001b[38;5;124m\"\u001b[39m)\n\u001b[1;32m    212\u001b[0m \u001b[38;5;28;01mif\u001b[39;00m \u001b[38;5;18m__name__\u001b[39m \u001b[38;5;241m==\u001b[39m \u001b[38;5;124m\"\u001b[39m\u001b[38;5;124m__main__\u001b[39m\u001b[38;5;124m\"\u001b[39m:\n\u001b[0;32m--> 213\u001b[0m     main()\n",
      "Cell \u001b[0;32mIn[1], line 153\u001b[0m, in \u001b[0;36mmain\u001b[0;34m()\u001b[0m\n\u001b[1;32m    150\u001b[0m driver\u001b[38;5;241m.\u001b[39mget(\u001b[38;5;124m\"\u001b[39m\u001b[38;5;124mhttps://www.ratebeer.com/top-beers\u001b[39m\u001b[38;5;124m\"\u001b[39m)\n\u001b[1;32m    152\u001b[0m \u001b[38;5;66;03m# Handle cookie consent if present\u001b[39;00m\n\u001b[0;32m--> 153\u001b[0m handle_cookie_consent()\n\u001b[1;32m    155\u001b[0m \u001b[38;5;66;03m# Wait for the beer elements to be present\u001b[39;00m\n\u001b[1;32m    156\u001b[0m WebDriverWait(driver, \u001b[38;5;241m10\u001b[39m)\u001b[38;5;241m.\u001b[39muntil(\n\u001b[1;32m    157\u001b[0m     EC\u001b[38;5;241m.\u001b[39mpresence_of_all_elements_located(\n\u001b[1;32m    158\u001b[0m         (By\u001b[38;5;241m.\u001b[39mXPATH, \u001b[38;5;124m\"\u001b[39m\u001b[38;5;124m//div[contains(@class,\u001b[39m\u001b[38;5;124m'\u001b[39m\u001b[38;5;124mDataTable__Row\u001b[39m\u001b[38;5;124m'\u001b[39m\u001b[38;5;124m)]/div[2]/a\u001b[39m\u001b[38;5;124m\"\u001b[39m)\n\u001b[1;32m    159\u001b[0m     )\n\u001b[1;32m    160\u001b[0m )\n",
      "Cell \u001b[0;32mIn[1], line 37\u001b[0m, in \u001b[0;36mhandle_cookie_consent\u001b[0;34m()\u001b[0m\n\u001b[1;32m     33\u001b[0m \u001b[38;5;66;03m# Click the \"Accept\" button\u001b[39;00m\n\u001b[1;32m     34\u001b[0m accept_button \u001b[38;5;241m=\u001b[39m driver\u001b[38;5;241m.\u001b[39mfind_element(\n\u001b[1;32m     35\u001b[0m     By\u001b[38;5;241m.\u001b[39mXPATH, \u001b[38;5;124m\"\u001b[39m\u001b[38;5;124m//button[@id=\u001b[39m\u001b[38;5;124m'\u001b[39m\u001b[38;5;124monetrust-accept-btn-handler\u001b[39m\u001b[38;5;124m'\u001b[39m\u001b[38;5;124m]\u001b[39m\u001b[38;5;124m\"\u001b[39m\n\u001b[1;32m     36\u001b[0m )\n\u001b[0;32m---> 37\u001b[0m accept_button\u001b[38;5;241m.\u001b[39mclick()\n\u001b[1;32m     38\u001b[0m \u001b[38;5;28mprint\u001b[39m(\u001b[38;5;124m\"\u001b[39m\u001b[38;5;124mCookie consent accepted.\u001b[39m\u001b[38;5;124m\"\u001b[39m)\n\u001b[1;32m     39\u001b[0m \u001b[38;5;66;03m# Wait for the banner to disappear\u001b[39;00m\n",
      "File \u001b[0;32m~/anaconda3/lib/python3.11/site-packages/selenium/webdriver/remote/webelement.py:94\u001b[0m, in \u001b[0;36mWebElement.click\u001b[0;34m(self)\u001b[0m\n\u001b[1;32m     92\u001b[0m \u001b[38;5;28;01mdef\u001b[39;00m \u001b[38;5;21mclick\u001b[39m(\u001b[38;5;28mself\u001b[39m) \u001b[38;5;241m-\u001b[39m\u001b[38;5;241m>\u001b[39m \u001b[38;5;28;01mNone\u001b[39;00m:\n\u001b[1;32m     93\u001b[0m \u001b[38;5;250m    \u001b[39m\u001b[38;5;124;03m\"\"\"Clicks the element.\"\"\"\u001b[39;00m\n\u001b[0;32m---> 94\u001b[0m     \u001b[38;5;28mself\u001b[39m\u001b[38;5;241m.\u001b[39m_execute(Command\u001b[38;5;241m.\u001b[39mCLICK_ELEMENT)\n",
      "File \u001b[0;32m~/anaconda3/lib/python3.11/site-packages/selenium/webdriver/remote/webelement.py:395\u001b[0m, in \u001b[0;36mWebElement._execute\u001b[0;34m(self, command, params)\u001b[0m\n\u001b[1;32m    393\u001b[0m     params \u001b[38;5;241m=\u001b[39m {}\n\u001b[1;32m    394\u001b[0m params[\u001b[38;5;124m\"\u001b[39m\u001b[38;5;124mid\u001b[39m\u001b[38;5;124m\"\u001b[39m] \u001b[38;5;241m=\u001b[39m \u001b[38;5;28mself\u001b[39m\u001b[38;5;241m.\u001b[39m_id\n\u001b[0;32m--> 395\u001b[0m \u001b[38;5;28;01mreturn\u001b[39;00m \u001b[38;5;28mself\u001b[39m\u001b[38;5;241m.\u001b[39m_parent\u001b[38;5;241m.\u001b[39mexecute(command, params)\n",
      "File \u001b[0;32m~/anaconda3/lib/python3.11/site-packages/selenium/webdriver/remote/webdriver.py:347\u001b[0m, in \u001b[0;36mWebDriver.execute\u001b[0;34m(self, driver_command, params)\u001b[0m\n\u001b[1;32m    345\u001b[0m response \u001b[38;5;241m=\u001b[39m \u001b[38;5;28mself\u001b[39m\u001b[38;5;241m.\u001b[39mcommand_executor\u001b[38;5;241m.\u001b[39mexecute(driver_command, params)\n\u001b[1;32m    346\u001b[0m \u001b[38;5;28;01mif\u001b[39;00m response:\n\u001b[0;32m--> 347\u001b[0m     \u001b[38;5;28mself\u001b[39m\u001b[38;5;241m.\u001b[39merror_handler\u001b[38;5;241m.\u001b[39mcheck_response(response)\n\u001b[1;32m    348\u001b[0m     response[\u001b[38;5;124m\"\u001b[39m\u001b[38;5;124mvalue\u001b[39m\u001b[38;5;124m\"\u001b[39m] \u001b[38;5;241m=\u001b[39m \u001b[38;5;28mself\u001b[39m\u001b[38;5;241m.\u001b[39m_unwrap_value(response\u001b[38;5;241m.\u001b[39mget(\u001b[38;5;124m\"\u001b[39m\u001b[38;5;124mvalue\u001b[39m\u001b[38;5;124m\"\u001b[39m, \u001b[38;5;28;01mNone\u001b[39;00m))\n\u001b[1;32m    349\u001b[0m     \u001b[38;5;28;01mreturn\u001b[39;00m response\n",
      "File \u001b[0;32m~/anaconda3/lib/python3.11/site-packages/selenium/webdriver/remote/errorhandler.py:229\u001b[0m, in \u001b[0;36mErrorHandler.check_response\u001b[0;34m(self, response)\u001b[0m\n\u001b[1;32m    227\u001b[0m         alert_text \u001b[38;5;241m=\u001b[39m value[\u001b[38;5;124m\"\u001b[39m\u001b[38;5;124malert\u001b[39m\u001b[38;5;124m\"\u001b[39m]\u001b[38;5;241m.\u001b[39mget(\u001b[38;5;124m\"\u001b[39m\u001b[38;5;124mtext\u001b[39m\u001b[38;5;124m\"\u001b[39m)\n\u001b[1;32m    228\u001b[0m     \u001b[38;5;28;01mraise\u001b[39;00m exception_class(message, screen, stacktrace, alert_text)  \u001b[38;5;66;03m# type: ignore[call-arg]  # mypy is not smart enough here\u001b[39;00m\n\u001b[0;32m--> 229\u001b[0m \u001b[38;5;28;01mraise\u001b[39;00m exception_class(message, screen, stacktrace)\n",
      "\u001b[0;31mElementNotInteractableException\u001b[0m: Message: element not interactable\n  (Session info: chrome=129.0.6668.70)\nStacktrace:\n0   chromedriver                        0x0000000102980274 cxxbridge1$str$ptr + 1907280\n1   chromedriver                        0x000000010297875c cxxbridge1$str$ptr + 1875768\n2   chromedriver                        0x000000010258c0d0 cxxbridge1$string$len + 89088\n3   chromedriver                        0x00000001025d14cc cxxbridge1$string$len + 372732\n4   chromedriver                        0x00000001025c7034 cxxbridge1$string$len + 330596\n5   chromedriver                        0x00000001025c6ad0 cxxbridge1$string$len + 329216\n6   chromedriver                        0x000000010260a7d0 cxxbridge1$string$len + 606976\n7   chromedriver                        0x00000001025c512c cxxbridge1$string$len + 322652\n8   chromedriver                        0x00000001025c5d7c cxxbridge1$string$len + 325804\n9   chromedriver                        0x0000000102948504 cxxbridge1$str$ptr + 1678560\n10  chromedriver                        0x000000010294ce6c cxxbridge1$str$ptr + 1697352\n11  chromedriver                        0x000000010292d618 cxxbridge1$str$ptr + 1568244\n12  chromedriver                        0x000000010294d73c cxxbridge1$str$ptr + 1699608\n13  chromedriver                        0x000000010291ebbc cxxbridge1$str$ptr + 1508248\n14  chromedriver                        0x0000000102969854 cxxbridge1$str$ptr + 1814576\n15  chromedriver                        0x00000001029699ac cxxbridge1$str$ptr + 1814920\n16  chromedriver                        0x00000001029783fc cxxbridge1$str$ptr + 1874904\n17  libsystem_pthread.dylib             0x00000001a2885240 _pthread_start + 148\n18  libsystem_pthread.dylib             0x00000001a2880024 thread_start + 8\n"
     ]
    }
   ],
   "source": [
    "# Import necessary libraries\n",
    "# Import necessary libraries\n",
    "import pandas as pd\n",
    "from selenium import webdriver\n",
    "from selenium.webdriver.chrome.service import Service\n",
    "from selenium.webdriver.chrome.options import Options\n",
    "from selenium.webdriver.common.by import By\n",
    "from selenium.webdriver.support.ui import WebDriverWait\n",
    "from selenium.webdriver.support import expected_conditions as EC\n",
    "from selenium.common.exceptions import (\n",
    "    TimeoutException,\n",
    "    NoSuchElementException,\n",
    "    ElementClickInterceptedException,\n",
    ")\n",
    "from webdriver_manager.chrome import ChromeDriverManager\n",
    "import time\n",
    "\n",
    "# Set up Selenium to use Chrome browser\n",
    "chrome_options = Options()\n",
    "chrome_options.add_argument(\"--headless\")  # Run in headless mode\n",
    "chrome_options.add_argument(\"--disable-gpu\")\n",
    "chrome_options.add_argument(\"--window-size=1920,1080\")\n",
    "chrome_service = Service(ChromeDriverManager().install())\n",
    "driver = webdriver.Chrome(service=chrome_service, options=chrome_options)\n",
    "\n",
    "# Function to handle cookie consent banner\n",
    "def handle_cookie_consent():\n",
    "    try:\n",
    "        # Wait for the cookie consent banner to be present\n",
    "        WebDriverWait(driver, 5).until(\n",
    "            EC.presence_of_element_located((By.ID, \"onetrust-banner-sdk\"))\n",
    "        )\n",
    "        # Click the \"Accept\" button\n",
    "        accept_button = driver.find_element(\n",
    "            By.XPATH, \"//button[@id='onetrust-accept-btn-handler']\"\n",
    "        )\n",
    "        accept_button.click()\n",
    "        print(\"Cookie consent accepted.\")\n",
    "        # Wait for the banner to disappear\n",
    "        WebDriverWait(driver, 5).until(\n",
    "            EC.invisibility_of_element_located((By.ID, \"onetrust-banner-sdk\"))\n",
    "        )\n",
    "    except (TimeoutException, NoSuchElementException):\n",
    "        # If the banner does not appear, proceed\n",
    "        print(\"No cookie consent banner to accept.\")\n",
    "\n",
    "# Function to scrape reviews from a single beer page\n",
    "def scrape_beer_reviews(beer_name, beer_link):\n",
    "    driver.get(beer_link)\n",
    "    all_product_names = []\n",
    "    all_reviews = []\n",
    "    all_ratings = []\n",
    "\n",
    "    # Handle cookie consent if present\n",
    "    handle_cookie_consent()\n",
    "\n",
    "    try:\n",
    "        # Wait for the product name element to be present\n",
    "        WebDriverWait(driver, 10).until(\n",
    "            EC.presence_of_element_located(\n",
    "                (By.XPATH, \"//div[contains(@class,'MuiTypography-h4') and contains(@class,'mt-3')]\")\n",
    "            )\n",
    "        )\n",
    "        product_name_element = driver.find_element(\n",
    "            By.XPATH, \"//div[contains(@class,'MuiTypography-h4') and contains(@class,'mt-3')]\"\n",
    "        )\n",
    "        product_name = product_name_element.text\n",
    "    except TimeoutException:\n",
    "        print(f\"Product name not found for beer: {beer_name}\")\n",
    "        return [], [], []\n",
    "\n",
    "    page_number = 1  # Initialize page number\n",
    "\n",
    "    while True:\n",
    "        print(f\"Scraping page {page_number} of reviews for {beer_name}\")\n",
    "\n",
    "        try:\n",
    "            # Wait for the review elements to be present\n",
    "            WebDriverWait(driver, 10).until(\n",
    "                EC.presence_of_all_elements_located((By.XPATH, \"//div[@class='py-4']\"))\n",
    "            )\n",
    "            review_elements = driver.find_elements(By.XPATH, \"//div[@class='py-4']\")\n",
    "        except TimeoutException:\n",
    "            print(\"No review elements found\")\n",
    "            break  # No reviews found on this page, exit loop\n",
    "\n",
    "        if not review_elements:\n",
    "            print(\"No review elements found\")\n",
    "            break  # No reviews found on this page, exit loop\n",
    "\n",
    "        for review_element in review_elements:\n",
    "            try:\n",
    "                rating_element = review_element.find_element(\n",
    "                    By.XPATH, \".//span[contains(@class,'MuiTypography-subtitle1')]\"\n",
    "                )\n",
    "                rating = rating_element.text\n",
    "            except NoSuchElementException:\n",
    "                rating = None\n",
    "            try:\n",
    "                review_text_element = review_element.find_element(\n",
    "                    By.XPATH, \".//div[contains(@class,'BeerReviewListItem___StyledText')]\"\n",
    "                )\n",
    "                review_text = review_text_element.text\n",
    "            except NoSuchElementException:\n",
    "                review_text = None\n",
    "\n",
    "            if review_text:\n",
    "                all_product_names.append(product_name)\n",
    "                all_reviews.append(review_text)\n",
    "                all_ratings.append(rating)\n",
    "\n",
    "        # Check if 'Next' button exists and is enabled\n",
    "        try:\n",
    "            # Using the relative XPath for the 'Next' button\n",
    "            next_button = driver.find_element(\n",
    "                By.XPATH,\n",
    "                \"//div[@class='MuiTablePagination-actions']/button[@title='Next page']\",\n",
    "            )\n",
    "            # Check if the 'Next' button is not disabled\n",
    "            if next_button.is_enabled():\n",
    "                try:\n",
    "                    # Scroll to the 'Next' button to ensure it's clickable\n",
    "                    driver.execute_script(\"arguments[0].scrollIntoView();\", next_button)\n",
    "                    next_button.click()\n",
    "                    page_number += 1\n",
    "                    # Wait for new reviews to load by waiting for new content\n",
    "                    WebDriverWait(driver, 10).until(\n",
    "                        EC.presence_of_element_located(\n",
    "                            (By.XPATH, f\"//div[@class='py-4']//span[contains(text(), '{page_number}')]\")\n",
    "                        )\n",
    "                    )\n",
    "                except (ElementClickInterceptedException, TimeoutException):\n",
    "                    # Handle any overlays or delays\n",
    "                    print(\"Handling potential overlay or slow loading.\")\n",
    "                    handle_cookie_consent()\n",
    "                    time.sleep(2)  # Wait a bit before retrying\n",
    "                    next_button.click()\n",
    "            else:\n",
    "                print(\"Next button is disabled, moving to next beer\")\n",
    "                break  # 'Next' button is disabled, exit the loop\n",
    "        except NoSuchElementException:\n",
    "            print(\"No 'Next' button found, moving to next beer\")\n",
    "            break  # No 'Next' button, exit the loop\n",
    "\n",
    "    return all_product_names, all_reviews, all_ratings\n",
    "\n",
    "# Main scraping logic\n",
    "def main():\n",
    "    # Go to the top beers page\n",
    "    driver.get(\"https://www.ratebeer.com/top-beers\")\n",
    "\n",
    "    # Handle cookie consent if present\n",
    "    handle_cookie_consent()\n",
    "\n",
    "    # Wait for the beer elements to be present\n",
    "    WebDriverWait(driver, 10).until(\n",
    "        EC.presence_of_all_elements_located(\n",
    "            (By.XPATH, \"//div[contains(@class,'DataTable__Row')]/div[2]/a\")\n",
    "        )\n",
    "    )\n",
    "\n",
    "    # Find beer elements\n",
    "    beer_elements = driver.find_elements(\n",
    "        By.XPATH, \"//div[contains(@class,'DataTable__Row')]/div[2]/a\"\n",
    "    )\n",
    "\n",
    "    # Collect beer names and links\n",
    "    beer_links = []\n",
    "    for beer_element in beer_elements:\n",
    "        beer_name = beer_element.text\n",
    "        beer_link = beer_element.get_attribute(\"href\")\n",
    "        beer_links.append((beer_name, beer_link))\n",
    "\n",
    "    # Now, for each beer, collect the reviews\n",
    "    all_product_names = []\n",
    "    all_reviews = []\n",
    "    all_ratings = []\n",
    "\n",
    "    for beer_name, beer_link in beer_links:\n",
    "        print(f\"Scraping reviews for beer: {beer_name}\")\n",
    "        names, reviews, ratings = scrape_beer_reviews(beer_name, beer_link)\n",
    "        all_product_names.extend(names)\n",
    "        all_reviews.extend(reviews)\n",
    "        all_ratings.extend(ratings)\n",
    "\n",
    "        # Optional: stop if we have collected enough reviews\n",
    "        if len(all_reviews) >= 6000:\n",
    "            print(\"Collected 6000 reviews, stopping.\")\n",
    "            break\n",
    "\n",
    "    # Close the browser\n",
    "    driver.quit()\n",
    "\n",
    "    # Create a DataFrame and save it to a CSV file\n",
    "    df = pd.DataFrame(\n",
    "        {\n",
    "            \"product_name\": all_product_names,\n",
    "            \"product_review\": all_reviews,\n",
    "            \"user_rating\": all_ratings,\n",
    "        }\n",
    "    )\n",
    "\n",
    "    # Remove duplicates and reviews without text\n",
    "    df = df.drop_duplicates(subset=[\"product_review\"]).dropna(subset=[\"product_review\"])\n",
    "    df = df[df[\"product_review\"].str.strip().astype(bool)]  # Remove empty strings\n",
    "\n",
    "    # Save the DataFrame to CSV\n",
    "    df.to_csv(\"BeerReviews.csv\", index=False, encoding=\"utf-8\")\n",
    "    print(f\"Saved {len(df)} reviews to 'BeerReviews.csv'\")\n",
    "\n",
    "\n",
    "if __name__ == \"__main__\":\n",
    "    main()"
   ]
  },
  {
   "cell_type": "markdown",
   "id": "35a3a479-7c02-489b-bbff-c64dfda73210",
   "metadata": {},
   "source": [
    "# Task B: Develop a system where a customer specifies three attributes they desire in a beer, and the system recommends three beers that best match those attributes based on the extracted reviews"
   ]
  },
  {
   "cell_type": "code",
   "execution_count": 18,
   "id": "4cc587e7-1f87-457c-a0c0-73ecb2b97873",
   "metadata": {},
   "outputs": [],
   "source": [
    "# Choose three attributes from the actual data\n",
    "# Consider a word frequency analsysi of beer reviews to find important attributes in the actual data.\n",
    "# Ensure attributes specified are likely to be mentioned together in a review (lift analysis) "
   ]
  },
  {
   "cell_type": "markdown",
   "id": "5bc66bc6-6461-46b7-a662-57633721f018",
   "metadata": {},
   "source": [
    "# Task C: Perform a similarity analysis using cosine similarity with the three attributes specified by the customer and the reviews\n",
    "\n",
    "**Note: Used the bag-of-words model as opposed to word embeddings**"
   ]
  },
  {
   "cell_type": "code",
   "execution_count": 19,
   "id": "74cfb185-3927-4cf6-962b-de07fd4292ee",
   "metadata": {},
   "outputs": [],
   "source": [
    "# Script should accept a file as input that has the product attributes and calculate similarity scores (0-1) \n",
    "    # between these attributes and each review\n",
    "# Output fule should have three columns: product_name (will have a row for each review), product_review, \n",
    "    # and similarity_score"
   ]
  },
  {
   "cell_type": "markdown",
   "id": "92e7413e-f53f-443e-92e9-dba26f32b7bd",
   "metadata": {},
   "source": [
    "# Task D: Perform a sentiment analysis for every review"
   ]
  },
  {
   "cell_type": "code",
   "execution_count": 20,
   "id": "ca16abe8-4c98-40c3-a9ba-e8405d0818d3",
   "metadata": {},
   "outputs": [],
   "source": [
    "# Use VADER or any LLM"
   ]
  },
  {
   "cell_type": "markdown",
   "id": "e36f9441-6f1d-47e7-8e41-92f966812ac9",
   "metadata": {},
   "source": [
    "# Task E: Create an evaluation score for each beer that uses both similarity and sentiment scores and recommended three products to the customer"
   ]
  },
  {
   "cell_type": "code",
   "execution_count": 21,
   "id": "deea05a9-ec89-477f-8c63-9d2ddb4d582f",
   "metadata": {},
   "outputs": [],
   "source": [
    "# Add sentiment and similarity scores for the three products recommended."
   ]
  },
  {
   "cell_type": "markdown",
   "id": "ba6827b0-c1bb-4c98-be2d-5bf977cbed31",
   "metadata": {},
   "source": [
    "# Task F: How would our recommendations change if we use word vectors instead of the standard bag-of-words cosine similarity?"
   ]
  },
  {
   "cell_type": "code",
   "execution_count": 22,
   "id": "d2d1f546-8639-4dad-96b7-b2d26c154a9e",
   "metadata": {},
   "outputs": [],
   "source": [
    "# Consider the % of reviews that mention a preferred attribute\n",
    "    # For a recommended product, what % of its reviews mention an attribute specified by the customer\n",
    "# Differences between bag-of-words and word vector approaches\n",
    "# Bag of words, under certain conditions, will likely be better than word embeddings for recommender systems\n",
    "# Show rating, similarity scores, and sentiments for the products recommended in this task and the previous one"
   ]
  },
  {
   "cell_type": "markdown",
   "id": "3cca59e7-de2f-44a7-b1b1-e06e49cf4825",
   "metadata": {},
   "source": [
    "# Task G: How would our recommendations differ if we ignored the similarity and feature sentiment scores and just chose the 3 highest rated products fro the entire data set? Would these products meet the requirements of the user looking for recommendations? Why or why not?"
   ]
  },
  {
   "cell_type": "code",
   "execution_count": 23,
   "id": "0f970bf9-6998-4c23-9782-981fddd880bf",
   "metadata": {},
   "outputs": [],
   "source": [
    "# Justify with analysis - use similarity and sentiment scores as well as overall ratings to answer this questions"
   ]
  },
  {
   "cell_type": "markdown",
   "id": "e2235908-ff03-4ec7-92f6-1e41b6e0c26d",
   "metadata": {},
   "source": [
    "# Task H: From 10 beers in the data, choose 1, and find the most similar beer among the remaining 9"
   ]
  },
  {
   "cell_type": "code",
   "execution_count": 24,
   "id": "f342e3d7-fee2-4c25-80dd-fd3726b06ac2",
   "metadata": {},
   "outputs": [],
   "source": [
    "# Show logic we are using in addition to finding the most similar product with markdown; explain method/logic"
   ]
  }
 ],
 "metadata": {
  "kernelspec": {
   "display_name": "Python 3 (ipykernel)",
   "language": "python",
   "name": "python3"
  },
  "language_info": {
   "codemirror_mode": {
    "name": "ipython",
    "version": 3
   },
   "file_extension": ".py",
   "mimetype": "text/x-python",
   "name": "python",
   "nbconvert_exporter": "python",
   "pygments_lexer": "ipython3",
   "version": "3.11.4"
  }
 },
 "nbformat": 4,
 "nbformat_minor": 5
}
