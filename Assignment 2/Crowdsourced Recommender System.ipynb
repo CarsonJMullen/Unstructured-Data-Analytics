{
 "cells": [
  {
   "cell_type": "markdown",
   "id": "7b4cb879-9377-4df4-b1d6-c155f3280a0c",
   "metadata": {},
   "source": [
    "**Team Members: Ethan Wong, Timmy Ren, Mason Shu, Medha Nalamada, Carson Mullen, Bethel Kim**\n",
    "\n",
    "**Morning Cohort (11 AM - 1 PM)**"
   ]
  },
  {
   "cell_type": "markdown",
   "id": "3c3b6562-292d-4ffe-a12b-3c2614e483d8",
   "metadata": {},
   "source": [
    "*Note to all: Please pull any changes from the repo before working on this file!*"
   ]
  },
  {
   "cell_type": "code",
   "execution_count": 1,
   "id": "454091d9-68eb-4a66-b740-e0c067393f52",
   "metadata": {},
   "outputs": [],
   "source": [
    "# Import Libraries"
   ]
  },
  {
   "cell_type": "markdown",
   "id": "f699e527-081d-4a2c-b17e-5c2d5055f1d4",
   "metadata": {},
   "source": [
    "# Task A: Scrape from ratebeer.com - extract 5-6K reviews"
   ]
  },
  {
   "cell_type": "code",
   "execution_count": 2,
   "id": "a1fa0a43-5853-4df3-9812-4c358fefe6bb",
   "metadata": {},
   "outputs": [],
   "source": [
    "# May end up with only 1700-2000 reviews with text"
   ]
  },
  {
   "cell_type": "markdown",
   "id": "35a3a479-7c02-489b-bbff-c64dfda73210",
   "metadata": {},
   "source": [
    "# Task B: Develop a system where a customer specifies three attributes they desire in a beer, and the system recommends three beers that best match those attributes based on the extracted reviews"
   ]
  },
  {
   "cell_type": "code",
   "execution_count": null,
   "id": "4cc587e7-1f87-457c-a0c0-73ecb2b97873",
   "metadata": {},
   "outputs": [],
   "source": [
    "# Choose three attributes from the actual data\n",
    "# Consider a word frequency analsysi of beer reviews to find important attributes in the actual data.\n",
    "# Ensure attributes specified are likely to be mentioned together in a review (lift analysis) "
   ]
  },
  {
   "cell_type": "markdown",
   "id": "5bc66bc6-6461-46b7-a662-57633721f018",
   "metadata": {},
   "source": [
    "# Task C: Perform a similarity analysis using cosine similarity with the three attributes specified by the customer and the reviews\n",
    "\n",
    "**Note: Used the bag-of-words model as opposed to word embeddings**"
   ]
  },
  {
   "cell_type": "code",
   "execution_count": null,
   "id": "74cfb185-3927-4cf6-962b-de07fd4292ee",
   "metadata": {},
   "outputs": [],
   "source": [
    "# Script should accept a file as input that has the product attributes and calculate similarity scores (0-1) \n",
    "    # between these attributes and each review\n",
    "# Output fule should have three columns: product_name (will have a row for each review), product_review, \n",
    "    # and similarity_score"
   ]
  },
  {
   "cell_type": "markdown",
   "id": "92e7413e-f53f-443e-92e9-dba26f32b7bd",
   "metadata": {},
   "source": [
    "# Task D: Perform a sentiment analysis for every review"
   ]
  },
  {
   "cell_type": "code",
   "execution_count": null,
   "id": "ca16abe8-4c98-40c3-a9ba-e8405d0818d3",
   "metadata": {},
   "outputs": [],
   "source": [
    "# Use VADER or any LLM"
   ]
  },
  {
   "cell_type": "markdown",
   "id": "e36f9441-6f1d-47e7-8e41-92f966812ac9",
   "metadata": {},
   "source": [
    "# Task E: Create an evaluation score for each beer that uses both similarity and sentiment scores and recommended three products to the customer"
   ]
  },
  {
   "cell_type": "code",
   "execution_count": null,
   "id": "deea05a9-ec89-477f-8c63-9d2ddb4d582f",
   "metadata": {},
   "outputs": [],
   "source": [
    "# Add sentiment and similarity scores for the three products recommended."
   ]
  },
  {
   "cell_type": "markdown",
   "id": "ba6827b0-c1bb-4c98-be2d-5bf977cbed31",
   "metadata": {},
   "source": [
    "# Task F: How would our recommendations change if we use word vectors instead of the standard bag-of-words cosine similarity?"
   ]
  },
  {
   "cell_type": "code",
   "execution_count": null,
   "id": "d2d1f546-8639-4dad-96b7-b2d26c154a9e",
   "metadata": {},
   "outputs": [],
   "source": [
    "# Consider the % of reviews that mention a preferred attribute\n",
    "    # For a recommended product, what % of its reviews mention an attribute specified by the customer\n",
    "# Differences between bag-of-words and word vector approaches\n",
    "# Bag of words, under certain conditions, will likely be better than word embeddings for recommender systems\n",
    "# Show rating, similarity scores, and sentiments for the products recommended in this task and the previous one"
   ]
  },
  {
   "cell_type": "markdown",
   "id": "3cca59e7-de2f-44a7-b1b1-e06e49cf4825",
   "metadata": {},
   "source": [
    "# Task G: How would our recommendations differ if we ignored the similarity and feature sentiment scores and just chose the 3 highest rated products fro the entire data set? Would these products meet the requirements of the user looking for recommendations? Why or why not?"
   ]
  },
  {
   "cell_type": "code",
   "execution_count": null,
   "id": "0f970bf9-6998-4c23-9782-981fddd880bf",
   "metadata": {},
   "outputs": [],
   "source": [
    "# Justify with analysis - use similarity and sentiment scores as well as overall ratings to answer this questions"
   ]
  },
  {
   "cell_type": "markdown",
   "id": "e2235908-ff03-4ec7-92f6-1e41b6e0c26d",
   "metadata": {},
   "source": [
    "# Task H: From 10 beers in the data, choose 1, and find the most similar beer among the remaining 9"
   ]
  },
  {
   "cell_type": "code",
   "execution_count": null,
   "id": "f342e3d7-fee2-4c25-80dd-fd3726b06ac2",
   "metadata": {},
   "outputs": [],
   "source": [
    "# Show logic we are using in addition to finding the most similar product with markdown; explain method/logic"
   ]
  }
 ],
 "metadata": {
  "kernelspec": {
   "display_name": "Python 3 (ipykernel)",
   "language": "python",
   "name": "python3"
  },
  "language_info": {
   "codemirror_mode": {
    "name": "ipython",
    "version": 3
   },
   "file_extension": ".py",
   "mimetype": "text/x-python",
   "name": "python",
   "nbconvert_exporter": "python",
   "pygments_lexer": "ipython3",
   "version": "3.12.4"
  }
 },
 "nbformat": 4,
 "nbformat_minor": 5
}
