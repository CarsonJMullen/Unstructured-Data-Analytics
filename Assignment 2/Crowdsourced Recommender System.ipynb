{
 "cells": [
  {
   "cell_type": "markdown",
   "id": "7b4cb879-9377-4df4-b1d6-c155f3280a0c",
   "metadata": {},
   "source": [
    "**Team Members: Ethan Wong, Timmy Ren, Mason Shu, Medha Nalamada, Carson Mullen, Bethel Kim**\n",
    "\n",
    "**Morning Cohort (11 AM - 1 PM)**"
   ]
  },
  {
   "cell_type": "markdown",
   "id": "3c3b6562-292d-4ffe-a12b-3c2614e483d8",
   "metadata": {},
   "source": [
    "*Note to all: Please pull any changes from the repo before working on this file!*"
   ]
  },
  {
   "cell_type": "code",
   "execution_count": null,
   "id": "50d2be70",
   "metadata": {},
   "outputs": [],
   "source": [
    "# Install Libraries\n",
    "#!pip install deep-translator\n",
    "#!pip install langdetect"
   ]
  },
  {
   "cell_type": "code",
   "execution_count": 3,
   "id": "454091d9-68eb-4a66-b740-e0c067393f52",
   "metadata": {},
   "outputs": [],
   "source": [
    "# Import Libraries\n",
    "from selenium import webdriver\n",
    "from selenium.webdriver.chrome.service import Service\n",
    "from selenium.webdriver.chrome.options import Options\n",
    "from selenium.webdriver.common.by import By\n",
    "from selenium.webdriver.support.ui import WebDriverWait\n",
    "from selenium.webdriver.support import expected_conditions as EC\n",
    "from selenium.common.exceptions import (\n",
    "    TimeoutException,\n",
    "    NoSuchElementException,\n",
    "    ElementClickInterceptedException,\n",
    "    WebDriverException,\n",
    ")\n",
    "from webdriver_manager.chrome import ChromeDriverManager\n",
    "import pandas as pd\n",
    "import time\n",
    "import numpy as np\n",
    "import json\n",
    "from deep_translator import GoogleTranslator\n",
    "from langdetect import detect"
   ]
  },
  {
   "cell_type": "markdown",
   "id": "f699e527-081d-4a2c-b17e-5c2d5055f1d4",
   "metadata": {},
   "source": [
    "# Task A: Scrape from ratebeer.com - extract 5-6K reviews"
   ]
  },
  {
   "cell_type": "code",
   "execution_count": null,
   "id": "2250e651",
   "metadata": {},
   "outputs": [],
   "source": [
    "def handle_cookie_consent():\n",
    "    try:\n",
    "        WebDriverWait(driver, 5).until(\n",
    "            EC.presence_of_element_located((By.ID, \"onetrust-banner-sdk\"))\n",
    "        )\n",
    "        accept_button = WebDriverWait(driver, 10).until(\n",
    "            EC.element_to_be_clickable((By.XPATH, \"//button[@id='onetrust-accept-btn-handler']\"))\n",
    "        )\n",
    "        accept_button.click()\n",
    "        WebDriverWait(driver, 5).until(\n",
    "            EC.invisibility_of_element_located((By.ID, \"onetrust-banner-sdk\"))\n",
    "        )\n",
    "    except (TimeoutException, NoSuchElementException, WebDriverException):\n",
    "        pass\n",
    "\n",
    "def handle_ratebeer_banner():\n",
    "    try:\n",
    "        WebDriverWait(driver, 5).until(\n",
    "            EC.presence_of_element_located((By.CLASS_NAME, 'RateBeerBestBanner___StyledDiv-jAauHc'))\n",
    "        )\n",
    "        close_button = driver.find_element(By.CSS_SELECTOR, '.RateBeerBestBanner___StyledDiv-jAauHc .MuiIconButton-root')\n",
    "        close_button.click()\n",
    "        WebDriverWait(driver, 5).until(\n",
    "            EC.invisibility_of_element_located((By.CLASS_NAME, 'RateBeerBestBanner___StyledDiv-jAauHc'))\n",
    "        )\n",
    "    except (TimeoutException, NoSuchElementException, WebDriverException):\n",
    "        pass\n",
    "\n",
    "json_file_path = 'beer_reviews.json'\n",
    "with open(json_file_path, 'w', encoding='utf-8') as f:\n",
    "    f.write('[')\n",
    "\n",
    "chrome_options = Options()\n",
    "chrome_options.add_argument(\"--headless\")  # Run in headless mode\n",
    "chrome_options.add_argument(\"--disable-gpu\")\n",
    "chrome_options.add_argument(\"--window-size=1920,1080\")\n",
    "chrome_options.add_argument(\"--disable-blink-features=AutomationControlled\")\n",
    "chrome_options.add_experimental_option(\"excludeSwitches\", [\"enable-automation\"])\n",
    "chrome_options.add_experimental_option('useAutomationExtension', False)\n",
    "\n",
    "driver = webdriver.Chrome(\n",
    "    service=Service(ChromeDriverManager().install()), options=chrome_options\n",
    ")\n",
    "driver.execute_script(\"Object.defineProperty(navigator, 'webdriver', {get: () => undefined})\")\n",
    "\n",
    "# Navigate to the RateBeer Top Beers page\n",
    "driver.get(\"https://www.ratebeer.com/top-beers\")\n",
    "\n",
    "handle_cookie_consent()\n",
    "\n",
    "WebDriverWait(driver, 10).until(\n",
    "    EC.presence_of_all_elements_located(\n",
    "        (By.XPATH, \"//div[contains(@class,'DataTable__Row')]/div[2]/a\")\n",
    "    )\n",
    ")\n",
    "\n",
    "# Get the list of beers and their links\n",
    "beer_elements = driver.find_elements(By.XPATH, \"//div[contains(@class,'DataTable__Row')]/div[2]/a\")\n",
    "beers = []\n",
    "for beer_element in beer_elements:\n",
    "    full_text = beer_element.text\n",
    "    product_name = full_text.split('\\n')[0]  # Take the first line before the newline\n",
    "    product_link = beer_element.get_attribute('href')\n",
    "    beers.append({'name': product_name, 'link': product_link})\n",
    "\n",
    "total_reviews_collected = 0\n",
    "max_reviews = 30000  # Set your desired number of reviews to collect\n",
    "first_review = True  # Flag to handle commas in JSON\n",
    "\n",
    "# Loop through all beers\n",
    "for i in range(len(beers)):\n",
    "    product_name = beers[i]['name']\n",
    "    product_link = beers[i]['link']\n",
    "\n",
    "    # Navigate to the beer page\n",
    "    driver.get(product_link)\n",
    "\n",
    "    handle_cookie_consent()\n",
    "    handle_ratebeer_banner()\n",
    "\n",
    "    # Wait for the dropdown to be present\n",
    "    try:\n",
    "        dropdown = WebDriverWait(driver, 10).until(\n",
    "            EC.presence_of_element_located((By.CLASS_NAME, \"MuiSelect-selectMenu\"))\n",
    "        )\n",
    "        dropdown.click()\n",
    "\n",
    "        # Wait for the dropdown options to be visible\n",
    "        option_100 = WebDriverWait(driver, 10).until(\n",
    "            EC.visibility_of_element_located((By.XPATH, \"//li[contains(text(), '100')]\"))\n",
    "        )\n",
    "        option_100.click()\n",
    "    except (TimeoutException, NoSuchElementException, WebDriverException):\n",
    "        continue\n",
    "\n",
    "    # Get the total number of reviews\n",
    "    try:\n",
    "        num_items_text = driver.find_element(By.CSS_SELECTOR, \".MuiTablePagination-selectRoot + .MuiTypography-colorInherit\").text\n",
    "        total_reviews = int(num_items_text.split(\" \")[-1])\n",
    "        num_pages = int(np.ceil(total_reviews / 100))\n",
    "    except (NoSuchElementException, ValueError, WebDriverException):\n",
    "        continue\n",
    "\n",
    "    for j in range(num_pages):\n",
    "        time.sleep(2)\n",
    "        # Expand all \"Show more\" buttons\n",
    "        while True:\n",
    "            try:\n",
    "                show_more_button = driver.find_element(By.XPATH, \"//span[text()='Show more']\")\n",
    "                driver.execute_script(\"arguments[0].scrollIntoView(true);\", show_more_button)\n",
    "                show_more_button.click()\n",
    "                time.sleep(1)\n",
    "            except NoSuchElementException:\n",
    "                break\n",
    "            except ElementClickInterceptedException:\n",
    "                handle_ratebeer_banner()\n",
    "                driver.execute_script(\"arguments[0].click();\", show_more_button)\n",
    "            except Exception as e:\n",
    "                print(f\"Could not click 'Show more' button: {e}\")\n",
    "                break\n",
    "\n",
    "        # Get all comments and store as a list\n",
    "        comments_elements = driver.find_elements(By.CSS_SELECTOR, \".pre-wrap.MuiTypography-body1\")\n",
    "        product_reviews = [comment.text for comment in comments_elements]\n",
    "\n",
    "        rating_elements = driver.find_elements(By.CSS_SELECTOR, \".bRPQdN.MuiTypography-subtitle1\")\n",
    "        ratings = [rating.text for rating in rating_elements]\n",
    "\n",
    "        beer_data_list = []\n",
    "\n",
    "        for review, rating in zip(product_reviews, ratings):\n",
    "            beer_data = {\n",
    "                'product_name': product_name,\n",
    "                'product_review': review,\n",
    "                'rating': rating\n",
    "            }\n",
    "            beer_data_list.append(beer_data)\n",
    "            total_reviews_collected += 1\n",
    "\n",
    "            if total_reviews_collected >= max_reviews:\n",
    "                break\n",
    "\n",
    "        # Write data to the JSON file\n",
    "        with open(json_file_path, 'a', encoding='utf-8') as f:\n",
    "            for beer_data in beer_data_list:\n",
    "                if not first_review:\n",
    "                    f.write(',\\n')\n",
    "                json.dump(beer_data, f, ensure_ascii=False)\n",
    "                first_review = False\n",
    "        beer_data_list = []\n",
    "\n",
    "        if total_reviews_collected >= max_reviews:\n",
    "            break\n",
    "\n",
    "        if j + 1 < num_pages:\n",
    "            try:\n",
    "                button_to_click = WebDriverWait(driver, 10).until(\n",
    "                    EC.element_to_be_clickable((By.CSS_SELECTOR, \".MuiIconButton-colorInherit + .MuiIconButton-colorInherit\"))\n",
    "                )\n",
    "                handle_ratebeer_banner()\n",
    "                button_to_click.click()\n",
    "                time.sleep(1)\n",
    "            except ElementClickInterceptedException:\n",
    "                handle_ratebeer_banner()\n",
    "                driver.execute_script(\"arguments[0].click();\", button_to_click)\n",
    "            except Exception as e:\n",
    "                print(f\"Could not click 'Next' button: {e}\")\n",
    "                break\n",
    "\n",
    "    if total_reviews_collected >= max_reviews:\n",
    "        break\n",
    "\n",
    "# Close the JSON array properly\n",
    "with open(json_file_path, 'a', encoding='utf-8') as f:\n",
    "    f.write(']')\n",
    "\n",
    "driver.quit()"
   ]
  },
  {
   "cell_type": "code",
   "execution_count": null,
   "id": "2aeb76e4",
   "metadata": {},
   "outputs": [],
   "source": [
    "# Load the JSON data into a DataFrame\n",
    "with open('beer_reviews.json', 'r', encoding='utf-8') as file:\n",
    "    beer_reviews = json.load(file)\n",
    "\n",
    "df = pd.DataFrame(beer_reviews)\n",
    "print(df['product_name'].value_counts())"
   ]
  },
  {
   "cell_type": "code",
   "execution_count": null,
   "id": "deff8a5f",
   "metadata": {},
   "outputs": [],
   "source": [
    "# Downsampling Reviews"
   ]
  },
  {
   "cell_type": "code",
   "execution_count": null,
   "id": "abcca19d",
   "metadata": {},
   "outputs": [],
   "source": [
    "# Function to translate text to English if it's not already in English\n",
    "def translate_to_english_if_needed(text):\n",
    "    try:\n",
    "        # Detect the language of the text\n",
    "        lang = detect(text)\n",
    "        # Translate only if the language is not English\n",
    "        if lang != 'en':\n",
    "            translated = GoogleTranslator(source='auto', target='en').translate(text)\n",
    "            return translated\n",
    "        else:\n",
    "            return text\n",
    "    except Exception as e:\n",
    "        return str(e)\n",
    "\n",
    "# Apply the translation function to the 'product_review' column\n",
    "df['product_review'] = df['product_review'].apply(translate_to_english_if_needed)\n",
    "\n",
    "print(df)"
   ]
  },
  {
   "cell_type": "code",
   "execution_count": null,
   "id": "60899f64",
   "metadata": {},
   "outputs": [],
   "source": [
    "# Export the DataFrame to a CSV or json file to prevent re-running the code in the future"
   ]
  },
  {
   "cell_type": "markdown",
   "id": "35a3a479-7c02-489b-bbff-c64dfda73210",
   "metadata": {},
   "source": [
    "# Task B: Develop a system where a customer specifies three attributes they desire in a beer, and the system recommends three beers that best match those attributes based on the extracted reviews"
   ]
  },
  {
   "cell_type": "code",
   "execution_count": 18,
   "id": "4cc587e7-1f87-457c-a0c0-73ecb2b97873",
   "metadata": {},
   "outputs": [],
   "source": [
    "# Choose three attributes from the actual data\n",
    "# Consider a word frequency analsysi of beer reviews to find important attributes in the actual data.\n",
    "# Ensure attributes specified are likely to be mentioned together in a review (lift analysis) "
   ]
  },
  {
   "cell_type": "markdown",
   "id": "5bc66bc6-6461-46b7-a662-57633721f018",
   "metadata": {},
   "source": [
    "# Task C: Perform a similarity analysis using cosine similarity with the three attributes specified by the customer and the reviews\n",
    "\n",
    "**Note: Used the bag-of-words model as opposed to word embeddings**"
   ]
  },
  {
   "cell_type": "code",
   "execution_count": 19,
   "id": "74cfb185-3927-4cf6-962b-de07fd4292ee",
   "metadata": {},
   "outputs": [],
   "source": [
    "# Script should accept a file as input that has the product attributes and calculate similarity scores (0-1) \n",
    "    # between these attributes and each review\n",
    "# Output fule should have three columns: product_name (will have a row for each review), product_review, \n",
    "    # and similarity_score"
   ]
  },
  {
   "cell_type": "markdown",
   "id": "92e7413e-f53f-443e-92e9-dba26f32b7bd",
   "metadata": {},
   "source": [
    "# Task D: Perform a sentiment analysis for every review"
   ]
  },
  {
   "cell_type": "code",
   "execution_count": 20,
   "id": "ca16abe8-4c98-40c3-a9ba-e8405d0818d3",
   "metadata": {},
   "outputs": [],
   "source": [
    "# Use VADER or any LLM"
   ]
  },
  {
   "cell_type": "markdown",
   "id": "e36f9441-6f1d-47e7-8e41-92f966812ac9",
   "metadata": {},
   "source": [
    "# Task E: Create an evaluation score for each beer that uses both similarity and sentiment scores and recommended three products to the customer"
   ]
  },
  {
   "cell_type": "code",
   "execution_count": 21,
   "id": "deea05a9-ec89-477f-8c63-9d2ddb4d582f",
   "metadata": {},
   "outputs": [],
   "source": [
    "# Add sentiment and similarity scores for the three products recommended."
   ]
  },
  {
   "cell_type": "markdown",
   "id": "ba6827b0-c1bb-4c98-be2d-5bf977cbed31",
   "metadata": {},
   "source": [
    "# Task F: How would our recommendations change if we use word vectors instead of the standard bag-of-words cosine similarity?"
   ]
  },
  {
   "cell_type": "code",
   "execution_count": 22,
   "id": "d2d1f546-8639-4dad-96b7-b2d26c154a9e",
   "metadata": {},
   "outputs": [],
   "source": [
    "# Consider the % of reviews that mention a preferred attribute\n",
    "    # For a recommended product, what % of its reviews mention an attribute specified by the customer\n",
    "# Differences between bag-of-words and word vector approaches\n",
    "# Bag of words, under certain conditions, will likely be better than word embeddings for recommender systems\n",
    "# Show rating, similarity scores, and sentiments for the products recommended in this task and the previous one"
   ]
  },
  {
   "cell_type": "markdown",
   "id": "3cca59e7-de2f-44a7-b1b1-e06e49cf4825",
   "metadata": {},
   "source": [
    "# Task G: How would our recommendations differ if we ignored the similarity and feature sentiment scores and just chose the 3 highest rated products fro the entire data set? Would these products meet the requirements of the user looking for recommendations? Why or why not?"
   ]
  },
  {
   "cell_type": "code",
   "execution_count": 23,
   "id": "0f970bf9-6998-4c23-9782-981fddd880bf",
   "metadata": {},
   "outputs": [],
   "source": [
    "# Justify with analysis - use similarity and sentiment scores as well as overall ratings to answer this questions"
   ]
  },
  {
   "cell_type": "markdown",
   "id": "e2235908-ff03-4ec7-92f6-1e41b6e0c26d",
   "metadata": {},
   "source": [
    "# Task H: From 10 beers in the data, choose 1, and find the most similar beer among the remaining 9"
   ]
  },
  {
   "cell_type": "code",
   "execution_count": 24,
   "id": "f342e3d7-fee2-4c25-80dd-fd3726b06ac2",
   "metadata": {},
   "outputs": [],
   "source": [
    "# Show logic we are using in addition to finding the most similar product with markdown; explain method/logic"
   ]
  }
 ],
 "metadata": {
  "kernelspec": {
   "display_name": "Python 3 (ipykernel)",
   "language": "python",
   "name": "python3"
  },
  "language_info": {
   "codemirror_mode": {
    "name": "ipython",
    "version": 3
   },
   "file_extension": ".py",
   "mimetype": "text/x-python",
   "name": "python",
   "nbconvert_exporter": "python",
   "pygments_lexer": "ipython3",
   "version": "3.11.4"
  }
 },
 "nbformat": 4,
 "nbformat_minor": 5
}
