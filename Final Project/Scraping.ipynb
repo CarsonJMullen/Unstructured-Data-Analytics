{
 "cells": [
  {
   "cell_type": "code",
   "execution_count": 1,
   "id": "e4f7e67b",
   "metadata": {},
   "outputs": [],
   "source": [
    "#!pip install eventregistry\n",
    "from eventregistry import *\n",
    "import pandas as pd\n",
    "import json"
   ]
  },
  {
   "cell_type": "code",
   "execution_count": 22,
   "id": "bcaf719e",
   "metadata": {},
   "outputs": [
    {
     "name": "stdout",
     "output_type": "stream",
     "text": [
      "Generated DataFrames: ['Donald_Trump_df', 'Kamala_Harris_df', 'Israel_df', 'Palestine_df', 'Palestinians_df', 'Hamas_df', 'FEMA_df', 'Abortion_df', 'Inflation_df', 'Unemployment_df', 'Economy_df', 'Dockworkers_df', 'ILA_Port_df', 'Immigration_df']\n"
     ]
    }
   ],
   "source": [
    "# Load the API key from the JSON file\n",
    "with open(\"config.json\", \"r\") as file:\n",
    "    config = json.load(file)\n",
    "api_key = config[\"api_key\"]\n",
    "\n",
    "# Initialize EventRegistry with the API key\n",
    "er = EventRegistry(apiKey=api_key, allowUseOfArchive=False)\n",
    "\n",
    "# Define topics to search for\n",
    "topics = [\n",
    "    \"Donald Trump\", \"Kamala Harris\", \"Israel\", \"Palestine\", \"Palestinians\", \"Hamas\", \"FEMA\", \"Abortion\",\n",
    "    \"Inflation\", \"Unemployment\", \"Economy\", \"Dockworkers\", \"ILA Port\", \"Immigration\"\n",
    "]\n",
    "\n",
    "# Define sources to search for and get their URIs\n",
    "source_names = [\"NPR\", \"MSNBC\", \"AP News\", \"FOX\", \"Forbes\"]\n",
    "source_uris = {source: er.getNewsSourceUri(source) for source in source_names}\n",
    "\n",
    "# List to store the names of all generated DataFrames\n",
    "dataframe_names = []\n",
    "\n",
    "# Loop through each topic\n",
    "for topic in topics:\n",
    "    # Get the URI for the concept\n",
    "    concept_uri = er.getConceptUri(topic)\n",
    "    \n",
    "    # List to hold all articles' data for the current topic (across all sources)\n",
    "    articles_data = []\n",
    "    \n",
    "    # Loop through each source individually\n",
    "    for source_name, source_uri in source_uris.items():\n",
    "        # Define the query for each topic and source\n",
    "        q = QueryArticlesIter(\n",
    "            conceptUri=concept_uri,\n",
    "            sourceUri=source_uri,\n",
    "            sourceLocationUri=er.getLocationUri(\"United States\"),  # Only US sources\n",
    "        )\n",
    "\n",
    "        # Fetch and accumulate up to 500 articles for the current topic from this source\n",
    "        for art in q.execQuery(er, sortBy=\"date\", maxItems=500):\n",
    "            articles_data.append({\n",
    "                \"title\": art.get(\"title\"),\n",
    "                \"source\": art.get(\"source\", {}).get(\"title\"),\n",
    "                \"author\": art.get(\"author\"),\n",
    "                \"url\": art.get(\"url\"),\n",
    "                \"publishedAt\": art.get(\"dateTime\"),\n",
    "                \"content\": art.get(\"body\")\n",
    "            })\n",
    "\n",
    "    # Create a single DataFrame for the current topic with articles from all sources\n",
    "    articles_df = pd.DataFrame(articles_data)\n",
    "    \n",
    "    # Save the DataFrame to a CSV file\n",
    "    file_name = f\"{topic.replace(' ', '_')}_articles.csv\"\n",
    "    articles_df.to_csv(file_name, index=False)\n",
    "\n",
    "    # Dynamically set the DataFrame name based on the topic, replacing spaces with underscores\n",
    "    df_name = f\"{topic.replace(' ', '_')}_df\"\n",
    "    globals()[df_name] = articles_df\n",
    "\n",
    "    # Append the DataFrame name to the list\n",
    "    dataframe_names.append(df_name)\n",
    "\n",
    "# Print the list of all generated DataFrame names\n",
    "print(\"Generated DataFrames:\", dataframe_names)"
   ]
  },
  {
   "cell_type": "code",
   "execution_count": 23,
   "id": "61e6a00c",
   "metadata": {},
   "outputs": [
    {
     "data": {
      "text/html": [
       "<div>\n",
       "<style scoped>\n",
       "    .dataframe tbody tr th:only-of-type {\n",
       "        vertical-align: middle;\n",
       "    }\n",
       "\n",
       "    .dataframe tbody tr th {\n",
       "        vertical-align: top;\n",
       "    }\n",
       "\n",
       "    .dataframe thead th {\n",
       "        text-align: right;\n",
       "    }\n",
       "</style>\n",
       "<table border=\"1\" class=\"dataframe\">\n",
       "  <thead>\n",
       "    <tr style=\"text-align: right;\">\n",
       "      <th></th>\n",
       "      <th>title</th>\n",
       "      <th>source</th>\n",
       "      <th>author</th>\n",
       "      <th>url</th>\n",
       "      <th>publishedAt</th>\n",
       "      <th>content</th>\n",
       "    </tr>\n",
       "  </thead>\n",
       "  <tbody>\n",
       "    <tr>\n",
       "      <th>0</th>\n",
       "      <td>The politics of natural disasters : The NPR Po...</td>\n",
       "      <td>NPR</td>\n",
       "      <td>None</td>\n",
       "      <td>https://www.npr.org/2024/10/10/1210938546/poli...</td>\n",
       "      <td>2024-10-10T21:01:48Z</td>\n",
       "      <td>The politics of natural disasters : The NPR Po...</td>\n",
       "    </tr>\n",
       "    <tr>\n",
       "      <th>1</th>\n",
       "      <td>How The Internet, Social Media, And Podcasts A...</td>\n",
       "      <td>NPR</td>\n",
       "      <td>None</td>\n",
       "      <td>https://www.npr.org/2024/10/10/1210938545/1a-1...</td>\n",
       "      <td>2024-10-10T21:01:39Z</td>\n",
       "      <td>Jemele Hill (L) and Senator Kamala Harris spea...</td>\n",
       "    </tr>\n",
       "    <tr>\n",
       "      <th>2</th>\n",
       "      <td>Ethel Kennedy, social activist and widow of Ro...</td>\n",
       "      <td>NPR</td>\n",
       "      <td>None</td>\n",
       "      <td>https://www.npr.org/2024/10/10/nx-s1-5148861/e...</td>\n",
       "      <td>2024-10-10T15:53:45Z</td>\n",
       "      <td>BOSTON, Mass. -- Ethel Kennedy, the widow of S...</td>\n",
       "    </tr>\n",
       "    <tr>\n",
       "      <th>3</th>\n",
       "      <td>What matters to key swing state voters in Wisc...</td>\n",
       "      <td>NPR</td>\n",
       "      <td>None</td>\n",
       "      <td>https://www.npr.org/2024/10/10/nx-s1-5143006/w...</td>\n",
       "      <td>2024-10-10T13:41:06Z</td>\n",
       "      <td>The Milwaukee Running Group -- OMG meets up on...</td>\n",
       "    </tr>\n",
       "    <tr>\n",
       "      <th>4</th>\n",
       "      <td>Politicians say health plans should cover IVF....</td>\n",
       "      <td>NPR</td>\n",
       "      <td>None</td>\n",
       "      <td>https://www.npr.org/2024/10/10/nx-s1-5147815/i...</td>\n",
       "      <td>2024-10-10T13:11:09Z</td>\n",
       "      <td>One round of in vitro fertilization or IVF can...</td>\n",
       "    </tr>\n",
       "  </tbody>\n",
       "</table>\n",
       "</div>"
      ],
      "text/plain": [
       "                                               title source author  \\\n",
       "0  The politics of natural disasters : The NPR Po...    NPR   None   \n",
       "1  How The Internet, Social Media, And Podcasts A...    NPR   None   \n",
       "2  Ethel Kennedy, social activist and widow of Ro...    NPR   None   \n",
       "3  What matters to key swing state voters in Wisc...    NPR   None   \n",
       "4  Politicians say health plans should cover IVF....    NPR   None   \n",
       "\n",
       "                                                 url           publishedAt  \\\n",
       "0  https://www.npr.org/2024/10/10/1210938546/poli...  2024-10-10T21:01:48Z   \n",
       "1  https://www.npr.org/2024/10/10/1210938545/1a-1...  2024-10-10T21:01:39Z   \n",
       "2  https://www.npr.org/2024/10/10/nx-s1-5148861/e...  2024-10-10T15:53:45Z   \n",
       "3  https://www.npr.org/2024/10/10/nx-s1-5143006/w...  2024-10-10T13:41:06Z   \n",
       "4  https://www.npr.org/2024/10/10/nx-s1-5147815/i...  2024-10-10T13:11:09Z   \n",
       "\n",
       "                                             content  \n",
       "0  The politics of natural disasters : The NPR Po...  \n",
       "1  Jemele Hill (L) and Senator Kamala Harris spea...  \n",
       "2  BOSTON, Mass. -- Ethel Kennedy, the widow of S...  \n",
       "3  The Milwaukee Running Group -- OMG meets up on...  \n",
       "4  One round of in vitro fertilization or IVF can...  "
      ]
     },
     "execution_count": 23,
     "metadata": {},
     "output_type": "execute_result"
    }
   ],
   "source": [
    "# Example: Access the \"Donald Trump\" DataFrame\n",
    "Donald_Trump_df.head() # type: ignore"
   ]
  },
  {
   "cell_type": "code",
   "execution_count": 24,
   "id": "2f989d22",
   "metadata": {},
   "outputs": [
    {
     "data": {
      "text/plain": [
       "source\n",
       "AP NEWS      500\n",
       "Forbes       500\n",
       "Fox News     500\n",
       "MSNBC.com    397\n",
       "NPR          243\n",
       "Name: count, dtype: int64"
      ]
     },
     "execution_count": 24,
     "metadata": {},
     "output_type": "execute_result"
    }
   ],
   "source": [
    "df = pd.read_csv('Donald_Trump_articles.csv')\n",
    "df['source'].value_counts()"
   ]
  },
  {
   "cell_type": "code",
   "execution_count": 25,
   "id": "05c46efa",
   "metadata": {},
   "outputs": [
    {
     "data": {
      "text/plain": [
       "source\n",
       "Fox News     203\n",
       "AP NEWS      157\n",
       "Forbes        70\n",
       "MSNBC.com     60\n",
       "NPR           43\n",
       "Name: count, dtype: int64"
      ]
     },
     "execution_count": 25,
     "metadata": {},
     "output_type": "execute_result"
    }
   ],
   "source": [
    "df1 = pd.read_csv('Abortion_articles.csv')\n",
    "df1['source'].value_counts()"
   ]
  },
  {
   "cell_type": "code",
   "execution_count": null,
   "id": "247feac0",
   "metadata": {},
   "outputs": [],
   "source": [
    "# 1. Merge relevant dataframes - find relevant actors for each --> Mason\n",
    "# 2. Data Cleaning/LDA --> Carson\n",
    "# 2. Active/passive/topic voice code --> Timmy \n",
    "# 3. ChatGPT sentiment for actors in a given category (-100 to 100) --> Ethan/Timmy\n",
    "# 4. Coming up with some sort of logical evaluation score metric based on active/passive voice, sentiment, title, and number of articles about certain subjects etc. --> Bethel/Medha (Come up with a few options)"
   ]
  }
 ],
 "metadata": {
  "kernelspec": {
   "display_name": "Python 3",
   "language": "python",
   "name": "python3"
  },
  "language_info": {
   "codemirror_mode": {
    "name": "ipython",
    "version": 3
   },
   "file_extension": ".py",
   "mimetype": "text/x-python",
   "name": "python",
   "nbconvert_exporter": "python",
   "pygments_lexer": "ipython3",
   "version": "3.12.6"
  }
 },
 "nbformat": 4,
 "nbformat_minor": 5
}
