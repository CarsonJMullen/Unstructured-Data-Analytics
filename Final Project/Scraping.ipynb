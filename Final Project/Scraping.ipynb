{
 "cells": [
  {
   "cell_type": "code",
   "execution_count": 1,
   "id": "e4f7e67b",
   "metadata": {},
   "outputs": [],
   "source": [
    "#!pip install eventregistry\n",
    "from eventregistry import *\n",
    "import pandas as pd\n",
    "import json"
   ]
  },
  {
   "cell_type": "code",
   "execution_count": 13,
   "id": "bcaf719e",
   "metadata": {},
   "outputs": [
    {
     "name": "stdout",
     "output_type": "stream",
     "text": [
      "Generated DataFrames: ['Donald_Trump_df', 'Kamala_Harris_df', 'Israel_df', 'Palestine_df', 'Palestinians_df', 'Hamas_df', 'FEMA_df', 'Abortion_df', 'Inflation_df', 'Unemployment_df', 'Economy_df', 'Dockworkers_df', 'ILA_Port_df']\n"
     ]
    }
   ],
   "source": [
    "# Load the API key from the JSON file\n",
    "with open(\"config.json\", \"r\") as file:\n",
    "    config = json.load(file)\n",
    "api_key = config[\"api_key\"]\n",
    "\n",
    "# Initialize EventRegistry with the API key\n",
    "er = EventRegistry(apiKey=api_key, allowUseOfArchive=False)\n",
    "\n",
    "# Define topics to search for\n",
    "topics = [\n",
    "    \"Donald Trump\", \"Kamala Harris\", \"Israel\", \"Palestine\", \"Palestinians\", \"Hamas\", \"FEMA\", \"Abortion\",\n",
    "    \"Inflation\", \"Unemployment\", \"Economy\", \"Dockworkers\", \"ILA Port\"\n",
    "]\n",
    "\n",
    "# Define sources to search for and get their URIs\n",
    "source_names = [\"NPR\", \"MSNBC\", \"AP News\", \"FOX\", \"Forbes\"]\n",
    "source_uris = {source: er.getNewsSourceUri(source) for source in source_names}\n",
    "\n",
    "# List to store the names of all generated DataFrames\n",
    "dataframe_names = []\n",
    "\n",
    "# Loop through each topic\n",
    "for topic in topics:\n",
    "    # Get the URI for the concept\n",
    "    concept_uri = er.getConceptUri(topic)\n",
    "    \n",
    "    # List to hold all articles' data for the current topic (across all sources)\n",
    "    articles_data = []\n",
    "    \n",
    "    # Loop through each source individually\n",
    "    for source_name, source_uri in source_uris.items():\n",
    "        # Define the query for each topic and source\n",
    "        q = QueryArticlesIter(\n",
    "            conceptUri=concept_uri,\n",
    "            sourceUri=source_uri,\n",
    "            sourceLocationUri=er.getLocationUri(\"United States\"),  # Only US sources\n",
    "            dateStart=\"2024-10-01\",  # Start date, adjust as needed\n",
    "            dateEnd=\"2024-10-08\"     # End date, adjust as needed\n",
    "        )\n",
    "\n",
    "        # Fetch and accumulate up to 500 articles for the current topic from this source\n",
    "        for art in q.execQuery(er, sortBy=\"date\", maxItems=500):\n",
    "            articles_data.append({\n",
    "                \"title\": art.get(\"title\"),\n",
    "                \"source\": art.get(\"source\", {}).get(\"title\"),\n",
    "                \"author\": art.get(\"author\"),\n",
    "                \"url\": art.get(\"url\"),\n",
    "                \"publishedAt\": art.get(\"dateTime\"),\n",
    "                \"content\": art.get(\"body\")\n",
    "            })\n",
    "\n",
    "    # Create a single DataFrame for the current topic with articles from all sources\n",
    "    articles_df = pd.DataFrame(articles_data)\n",
    "    \n",
    "    # Save the DataFrame to a CSV file\n",
    "    file_name = f\"{topic.replace(' ', '_')}_articles.csv\"\n",
    "    articles_df.to_csv(file_name, index=False)\n",
    "\n",
    "    # Dynamically set the DataFrame name based on the topic, replacing spaces with underscores\n",
    "    df_name = f\"{topic.replace(' ', '_')}_df\"\n",
    "    globals()[df_name] = articles_df\n",
    "\n",
    "    # Append the DataFrame name to the list\n",
    "    dataframe_names.append(df_name)\n",
    "\n",
    "# Print the list of all generated DataFrame names\n",
    "print(\"Generated DataFrames:\", dataframe_names)"
   ]
  },
  {
   "cell_type": "code",
   "execution_count": 14,
   "id": "61e6a00c",
   "metadata": {},
   "outputs": [
    {
     "data": {
      "text/html": [
       "<div>\n",
       "<style scoped>\n",
       "    .dataframe tbody tr th:only-of-type {\n",
       "        vertical-align: middle;\n",
       "    }\n",
       "\n",
       "    .dataframe tbody tr th {\n",
       "        vertical-align: top;\n",
       "    }\n",
       "\n",
       "    .dataframe thead th {\n",
       "        text-align: right;\n",
       "    }\n",
       "</style>\n",
       "<table border=\"1\" class=\"dataframe\">\n",
       "  <thead>\n",
       "    <tr style=\"text-align: right;\">\n",
       "      <th></th>\n",
       "      <th>title</th>\n",
       "      <th>source</th>\n",
       "      <th>author</th>\n",
       "      <th>url</th>\n",
       "      <th>publishedAt</th>\n",
       "      <th>content</th>\n",
       "    </tr>\n",
       "  </thead>\n",
       "  <tbody>\n",
       "    <tr>\n",
       "      <th>0</th>\n",
       "      <td>Trump secretly sent Putin COVID-19 tests durin...</td>\n",
       "      <td>NPR</td>\n",
       "      <td>None</td>\n",
       "      <td>https://www.npr.org/2024/10/08/nx-s1-5146501/t...</td>\n",
       "      <td>2024-10-08T23:07:08Z</td>\n",
       "      <td>Russian President Vladimir Putin and then Pres...</td>\n",
       "    </tr>\n",
       "    <tr>\n",
       "      <th>1</th>\n",
       "      <td>As Florida braces for Milton's impact, FEMA ch...</td>\n",
       "      <td>NPR</td>\n",
       "      <td>None</td>\n",
       "      <td>https://www.npr.org/2024/10/08/nx-s1-5144720/f...</td>\n",
       "      <td>2024-10-08T22:46:58Z</td>\n",
       "      <td>&lt;iframe src=\"https://www.npr.org/player/embed/...</td>\n",
       "    </tr>\n",
       "    <tr>\n",
       "      <th>2</th>\n",
       "      <td>Some Indian American Democrats see themselves ...</td>\n",
       "      <td>NPR</td>\n",
       "      <td>None</td>\n",
       "      <td>https://www.npr.org/2024/10/08/nx-s1-5131223/s...</td>\n",
       "      <td>2024-10-08T21:57:10Z</td>\n",
       "      <td>In the warm Georgia heat, Kannan Udayarajan is...</td>\n",
       "    </tr>\n",
       "    <tr>\n",
       "      <th>3</th>\n",
       "      <td>Two Jewish Democrats reflect on Congressional ...</td>\n",
       "      <td>NPR</td>\n",
       "      <td>None</td>\n",
       "      <td>https://www.npr.org/2024/10/08/nx-s1-5125793/j...</td>\n",
       "      <td>2024-10-08T20:41:44Z</td>\n",
       "      <td>Reps. Jared Moskowitz, Kathy Manning, Josh Got...</td>\n",
       "    </tr>\n",
       "    <tr>\n",
       "      <th>4</th>\n",
       "      <td>Call Her Daddy, The View and 60 Minutes: Kamal...</td>\n",
       "      <td>NPR</td>\n",
       "      <td>None</td>\n",
       "      <td>https://www.npr.org/2024/10/08/1210938239/podc...</td>\n",
       "      <td>2024-10-08T20:14:17Z</td>\n",
       "      <td>Podcast: Kamala Harris On Call Her Daddy podca...</td>\n",
       "    </tr>\n",
       "  </tbody>\n",
       "</table>\n",
       "</div>"
      ],
      "text/plain": [
       "                                               title source author  \\\n",
       "0  Trump secretly sent Putin COVID-19 tests durin...    NPR   None   \n",
       "1  As Florida braces for Milton's impact, FEMA ch...    NPR   None   \n",
       "2  Some Indian American Democrats see themselves ...    NPR   None   \n",
       "3  Two Jewish Democrats reflect on Congressional ...    NPR   None   \n",
       "4  Call Her Daddy, The View and 60 Minutes: Kamal...    NPR   None   \n",
       "\n",
       "                                                 url           publishedAt  \\\n",
       "0  https://www.npr.org/2024/10/08/nx-s1-5146501/t...  2024-10-08T23:07:08Z   \n",
       "1  https://www.npr.org/2024/10/08/nx-s1-5144720/f...  2024-10-08T22:46:58Z   \n",
       "2  https://www.npr.org/2024/10/08/nx-s1-5131223/s...  2024-10-08T21:57:10Z   \n",
       "3  https://www.npr.org/2024/10/08/nx-s1-5125793/j...  2024-10-08T20:41:44Z   \n",
       "4  https://www.npr.org/2024/10/08/1210938239/podc...  2024-10-08T20:14:17Z   \n",
       "\n",
       "                                             content  \n",
       "0  Russian President Vladimir Putin and then Pres...  \n",
       "1  <iframe src=\"https://www.npr.org/player/embed/...  \n",
       "2  In the warm Georgia heat, Kannan Udayarajan is...  \n",
       "3  Reps. Jared Moskowitz, Kathy Manning, Josh Got...  \n",
       "4  Podcast: Kamala Harris On Call Her Daddy podca...  "
      ]
     },
     "execution_count": 14,
     "metadata": {},
     "output_type": "execute_result"
    }
   ],
   "source": [
    "# Example: Access the \"Donald Trump\" DataFrame\n",
    "Donald_Trump_df.head() # type: ignore"
   ]
  },
  {
   "cell_type": "code",
   "execution_count": 17,
   "id": "2f989d22",
   "metadata": {},
   "outputs": [
    {
     "data": {
      "text/plain": [
       "source\n",
       "Fox News     305\n",
       "AP NEWS      156\n",
       "Forbes       127\n",
       "MSNBC.com    106\n",
       "NPR           61\n",
       "Name: count, dtype: int64"
      ]
     },
     "execution_count": 17,
     "metadata": {},
     "output_type": "execute_result"
    }
   ],
   "source": [
    "df = pd.read_csv('Donald_Trump_articles.csv')\n",
    "df['source'].value_counts()"
   ]
  },
  {
   "cell_type": "code",
   "execution_count": 18,
   "id": "05c46efa",
   "metadata": {},
   "outputs": [
    {
     "data": {
      "text/plain": [
       "source\n",
       "Fox News     64\n",
       "AP NEWS      31\n",
       "MSNBC.com    22\n",
       "Forbes       20\n",
       "NPR          12\n",
       "Name: count, dtype: int64"
      ]
     },
     "execution_count": 18,
     "metadata": {},
     "output_type": "execute_result"
    }
   ],
   "source": [
    "df1 = pd.read_csv('Abortion_articles.csv')\n",
    "df1['source'].value_counts()"
   ]
  },
  {
   "cell_type": "code",
   "execution_count": null,
   "id": "247feac0",
   "metadata": {},
   "outputs": [],
   "source": [
    "# 1. Merge relevant dataframes - find relevant actors for each --> Mason\n",
    "# 2. Data Cleaning/LDA --> Carson\n",
    "# 2. Active/passive/topic voice code --> Timmy \n",
    "# 3. ChatGPT sentiment for actors in a given category (-100 to 100) --> Ethan/Timmy\n",
    "# 4. Coming up with some sort of logical evaluation score metric based on active/passive voice, sentiment, title, and number of articles about certain subjects etc. --> Bethel/Medha (Come up with a few options)"
   ]
  }
 ],
 "metadata": {
  "kernelspec": {
   "display_name": "Python 3",
   "language": "python",
   "name": "python3"
  },
  "language_info": {
   "codemirror_mode": {
    "name": "ipython",
    "version": 3
   },
   "file_extension": ".py",
   "mimetype": "text/x-python",
   "name": "python",
   "nbconvert_exporter": "python",
   "pygments_lexer": "ipython3",
   "version": "3.12.6"
  }
 },
 "nbformat": 4,
 "nbformat_minor": 5
}
