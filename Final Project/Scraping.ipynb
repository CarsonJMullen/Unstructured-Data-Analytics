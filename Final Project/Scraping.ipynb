{
 "cells": [
  {
   "cell_type": "code",
   "execution_count": null,
   "id": "e4f7e67b",
   "metadata": {},
   "outputs": [],
   "source": [
    "#!pip install eventregistry"
   ]
  },
  {
   "cell_type": "code",
   "execution_count": null,
   "id": "023e8fb5-d7d9-4875-974e-22c11b5a6a7a",
   "metadata": {},
   "outputs": [],
   "source": [
    "from eventregistry import * # type: ignore\n",
    "import pandas as pd\n",
    "import json\n",
    "\n",
    "# Load the API key from the JSON file\n",
    "with open(\"config.json\", \"r\") as file:\n",
    "    config = json.load(file)\n",
    "api_key = config[\"api_key\"]\n",
    "\n",
    "# Initialize EventRegistry with your API key and limit search to the last month\n",
    "er = EventRegistry(apiKey=api_key, allowUseOfArchive=False) # type: ignore\n",
    "\n",
    "# Define topics to search for\n",
    "topics = [\n",
    "    \"Donald Trump\", \"Kamala Harris\", \"Israel\", \"Palestine\", \"Palestinians\", \"Hamas\", \"FEMA\", \"Abortion\",\n",
    "    \"Inflation\", \"Unemployment\", \"Economy\", \"Dockworkers\", \"ILA Port\"\n",
    "]\n",
    "\n",
    "# List to store the names of all generated DataFrames\n",
    "dataframe_names = []\n",
    "\n",
    "# Loop through each topic, fetch articles, create a DataFrame, and save to CSV\n",
    "for topic in topics:\n",
    "    # Get the URI for the concept\n",
    "    concept_uri = er.getConceptUri(topic)\n",
    "    \n",
    "    # Define the query for each topic\n",
    "    q = QueryArticlesIter( # type: ignore\n",
    "        conceptUri=concept_uri,\n",
    "        sourceLocationUri=er.getLocationUri(\"United States\"),  # Only US sources\n",
    "    )\n",
    "\n",
    "    # List to hold each article's data as a dictionary\n",
    "    articles_data = []\n",
    "\n",
    "    # Fetch and process articles\n",
    "    for art in q.execQuery(er, sortBy=\"date\", maxItems=500):\n",
    "        articles_data.append({\n",
    "            \"title\": art.get(\"title\"),\n",
    "            \"source\": art.get(\"source\", {}).get(\"title\"),\n",
    "            \"author\": art.get(\"author\"),\n",
    "            \"url\": art.get(\"url\"),\n",
    "            \"publishedAt\": art.get(\"dateTime\"),\n",
    "            \"content\": art.get(\"body\")\n",
    "        })\n",
    "\n",
    "    # Create a DataFrame from the list of dictionaries\n",
    "    articles_df = pd.DataFrame(articles_data)\n",
    "    \n",
    "    # Save the DataFrame to a CSV file\n",
    "    file_name = f\"{topic.replace(' ', '_')}_articles.csv\"\n",
    "    articles_df.to_csv(file_name, index=False)\n",
    "\n",
    "    # Dynamically set the DataFrame name based on the topic, replacing spaces with underscores\n",
    "    df_name = f\"{topic.replace(' ', '_')}_df\"\n",
    "    globals()[df_name] = articles_df\n",
    "\n",
    "    # Append the DataFrame name to the list\n",
    "    dataframe_names.append(df_name)\n",
    "\n",
    "# Print the list of all generated DataFrame names\n",
    "print(\"Generated DataFrames:\", dataframe_names)"
   ]
  },
  {
   "cell_type": "code",
   "execution_count": null,
   "id": "61e6a00c",
   "metadata": {},
   "outputs": [],
   "source": [
    "# Example: Access the \"Donald Trump\" DataFrame\n",
    "Donald_Trump_df.head() # type: ignore"
   ]
  }
 ],
 "metadata": {
  "kernelspec": {
   "display_name": "base",
   "language": "python",
   "name": "python3"
  },
  "language_info": {
   "codemirror_mode": {
    "name": "ipython",
    "version": 3
   },
   "file_extension": ".py",
   "mimetype": "text/x-python",
   "name": "python",
   "nbconvert_exporter": "python",
   "pygments_lexer": "ipython3",
   "version": "3.12.4"
  }
 },
 "nbformat": 4,
 "nbformat_minor": 5
}
