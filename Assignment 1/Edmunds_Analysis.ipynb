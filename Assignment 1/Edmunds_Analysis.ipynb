{
 "cells": [
  {
   "cell_type": "markdown",
   "id": "292a437b-c143-4fa4-8901-e94c8c4d9c7a",
   "metadata": {},
   "source": [
    "**Team Members: Ethan Wong, Timmy Ren, Mason Shu, Medha Nalamada, Carson Mullen, Bethel Kim**"
   ]
  },
  {
   "cell_type": "markdown",
   "id": "3c35e596-29fe-4a7a-b65a-dec20e12ec5c",
   "metadata": {},
   "source": [
    "*Note to all: Please pull any changes from the repo before working on this file!*"
   ]
  },
  {
   "cell_type": "markdown",
   "id": "eaa2a6a0-7b21-4ec8-a4db-dd7413b3e0c7",
   "metadata": {},
   "source": [
    "# Scraping from Edmunds.com"
   ]
  },
  {
   "cell_type": "code",
   "execution_count": 8,
   "id": "69a8b31c-fcbf-4251-bc53-690acd790cc1",
   "metadata": {},
   "outputs": [],
   "source": [
    "# Installing necessary libraries\n",
    "\n",
    "# !pip install selenium\n",
    "# !pip install google-colab-selenium\n",
    "# !pip install nltk\n",
    "# !pip install webdriver-manager"
   ]
  },
  {
   "cell_type": "code",
<<<<<<< HEAD
   "execution_count": 1,
=======
   "execution_count": 9,
>>>>>>> refs/remotes/origin/main
   "id": "496b35aa-9693-4283-a43d-ae6c2ff1d5e7",
   "metadata": {},
   "outputs": [],
   "source": [
    "# Running necessary libraries\n",
    "\n",
    "import pandas as pd\n",
    "import nltk\n",
    "from nltk.corpus import stopwords\n",
    "from selenium import webdriver\n",
    "from selenium.webdriver.chrome.service import Service\n",
    "from selenium.webdriver.chrome.options import Options\n",
    "from webdriver_manager.chrome import ChromeDriverManager\n",
    "from collections import Counter\n",
    "import re\n",
    "import numpy as np\n",
    "import statsmodels.api as sm\n",
    "from scipy import stats\n",
    "import matplotlib.pyplot as plt\n",
    "from collections import defaultdict\n",
    "from itertools import combinations\n",
    "from sklearn.manifold import MDS"
   ]
  },
  {
   "cell_type": "code",
<<<<<<< HEAD
   "execution_count": 2,
=======
   "execution_count": 10,
>>>>>>> refs/remotes/origin/main
   "id": "142d7894-603e-44db-9913-a485e11293e0",
   "metadata": {},
   "outputs": [],
   "source": [
    "#nltk.download('stopwords')\n",
    "\n",
    "stop_words = set(stopwords.words('english'))\n",
    "\n",
    "def remove_stopwords(sentences):\n",
    "    filtered_sentences = []\n",
    "    for sentence in sentences:\n",
    "        words = sentence.split()\n",
    "        filtered_words = [word for word in words if word.lower() not in stop_words]\n",
    "        filtered_sentence = ' '.join(filtered_words)\n",
    "        filtered_sentences.append(filtered_sentence)\n",
    "\n",
    "    return filtered_sentences"
   ]
  },
  {
   "cell_type": "markdown",
   "id": "6ef0e348-5d91-444b-9b53-013fba3922b5",
   "metadata": {},
   "source": [
    "We decided to choose the newest posts for our analyses!"
   ]
  },
  {
   "cell_type": "code",
<<<<<<< HEAD
   "execution_count": null,
=======
   "execution_count": 11,
>>>>>>> refs/remotes/origin/main
   "id": "869efe92-afee-4ddb-ae90-fe34f3260f09",
   "metadata": {},
   "outputs": [],
   "source": [
    "# Set up Selenium to use Chrome browser\n",
    "chrome_options = Options()\n",
    "chrome_options.add_argument(\"--headless\")  # Run in headless mode (without opening a browser window)\n",
    "chrome_service = Service(ChromeDriverManager().install())\n",
    "driver = webdriver.Chrome(service=chrome_service, options=chrome_options)\n",
    "\n",
    "# Access the last page of the discussion\n",
    "last_page = 435 \n",
    "url = f'https://forums.edmunds.com/discussion/2864/general/x/entry-level-luxury-performance-sedans/p{last_page}'\n",
    "driver.get(url)\n",
    "\n",
    "# Extract elements containing the messages and dates\n",
    "elements = driver.find_elements(\"xpath\", \"//div[contains(@class,'Message') and contains(@class,'userContent')]\")\n",
    "elements2 = driver.find_elements(\"xpath\", \"//span[@class='MItem DateCreated']//time\")\n",
    "\n",
    "text = []\n",
    "dates = []\n",
    "unique_messages = set()  # Set to track unique messages\n",
    "\n",
    "print(f\"Scraping page {last_page}\")\n",
    "for element in elements:\n",
    "    # Find blockquotes within the element and remove their text\n",
    "    blockquote_elements = element.find_elements(\"xpath\", \".//blockquote\")\n",
    "    message = element.text\n",
    "\n",
    "    for blockquote in blockquote_elements:\n",
    "        message = message.replace(blockquote.text, \"\")\n",
    "\n",
    "    if message not in unique_messages:\n",
    "        text.append(message.strip())\n",
    "        unique_messages.add(message)\n",
    "\n",
    "for element in elements2:\n",
    "    dates.append(element.text)\n",
    "\n",
    "# Loop through pages in reverse order\n",
    "for i in range(last_page - 1, 0, -1):\n",
    "    print(f\"Scraping page {i}\")\n",
    "    url = f'https://forums.edmunds.com/discussion/2864/general/x/entry-level-luxury-performance-sedans/p{i}'\n",
    "    driver.get(url)\n",
    "\n",
    "    elements = driver.find_elements(\"xpath\", \"//div[contains(@class,'Message') and contains(@class,'userContent')]\")\n",
    "    elements2 = driver.find_elements(\"xpath\", \"//span[@class='MItem DateCreated']//time\")\n",
    "\n",
    "    for element in elements:\n",
    "        # Find blockquotes within the element and remove their text\n",
    "        blockquote_elements = element.find_elements(\"xpath\", \".//blockquote\")\n",
    "        message = element.text\n",
    "        \n",
    "        for blockquote in blockquote_elements:\n",
    "            message = message.replace(blockquote.text, \"\")\n",
    "        \n",
    "        if message not in unique_messages:\n",
    "            text.append(message.strip())\n",
    "            unique_messages.add(message)\n",
    "        if len(text) >= 5000:\n",
    "            break  # Stop collecting once we have 5000 unique posts\n",
    "\n",
    "    for element in elements2:\n",
    "        dates.append(element.text)\n",
    "        if len(text) >= 5000:\n",
    "            break  # Stop collecting once we have 5000 unique posts\n",
    "\n",
    "    if len(text) >= 5000:\n",
    "        print(f\"Collected 5000 unique posts, stopping at page {i+1}\")\n",
    "        break\n",
    "\n",
    "    \n",
    "\n",
    "# Close the browser\n",
    "driver.quit()\n",
    "\n",
    "# Ensure the lengths of text and dates are the same before saving\n",
    "if len(text) > len(dates):\n",
    "    text = text[:len(dates)]\n",
    "elif len(dates) > len(text):\n",
    "    dates = dates[:len(text)]"
   ]
  },
  {
   "cell_type": "code",
   "execution_count": 12,
   "id": "8a2769d3-c3be-43a7-a4ba-dc49d51ac740",
   "metadata": {},
   "outputs": [],
   "source": [
    "# Create a DataFrame and save it to a CSV file\n",
    "df_original = pd.DataFrame({'Message': text, 'Date': dates})\n",
    "#df_original.to_csv('ScrapedData.csv', index=False, encoding='utf-8') # Use this for task A!\n",
    "\n",
    "# Remove stopwords and save the modified data\n",
    "df = df_original.copy()\n",
    "text = remove_stopwords(text)\n",
    "df['Message'] = text\n",
    "#df.to_csv('ScrapedDataMod.csv', index=False, encoding='utf-8') # Use this for task B onwards!"
   ]
  },
  {
   "cell_type": "markdown",
   "id": "a90be00a-f2ef-432a-a8f4-1095a270f949",
   "metadata": {},
   "source": [
    "# Task A: Testing Zipf's law econometrically and plotting the most common 100 words in the data against the theoretical prediction of the law.\n",
    "\n",
    "Note: Stopwords not removed, and stemming or lemmatization not performed."
   ]
  },
  {
   "cell_type": "code",
<<<<<<< HEAD
   "execution_count": 7,
=======
   "execution_count": 28,
>>>>>>> refs/remotes/origin/main
   "id": "170c430e",
   "metadata": {},
   "outputs": [],
   "source": [
    "# Load dataframes (to not scrape again)\n",
    "\n",
    "df_original = pd.read_csv('ScrapedData.csv')\n",
    "df = pd.read_csv('ScrapedDataMod.csv')\n",
    "\n",
    "df_original['Message'] = df_original['Message'].apply(str)\n",
    "df['Message'] = df['Message'].apply(str)"
   ]
  },
  {
   "cell_type": "code",
<<<<<<< HEAD
   "execution_count": 8,
=======
   "execution_count": 29,
   "id": "d2eaf9c2",
   "metadata": {},
   "outputs": [
    {
     "data": {
      "text/plain": [
       "(4984, 4984)"
      ]
     },
     "execution_count": 29,
     "metadata": {},
     "output_type": "execute_result"
    }
   ],
   "source": [
    "len(df_original), len(df)"
   ]
  },
  {
   "cell_type": "code",
   "execution_count": 30,
>>>>>>> refs/remotes/origin/main
   "id": "4814fb02-4bbd-41bb-8aff-2ae7e2ac09e3",
   "metadata": {},
   "outputs": [],
   "source": [
    "all_text = ' '.join(df_original['Message'].dropna())\n",
    "words = re.findall(r'\\w+', all_text.lower())\n",
    "word_counts = Counter(words)\n",
    "word_freq_df = pd.DataFrame(word_counts.items(), columns=['Word', 'Frequency']).sort_values(by='Frequency', ascending=False)"
   ]
  },
  {
   "cell_type": "code",
<<<<<<< HEAD
   "execution_count": 9,
=======
   "execution_count": 31,
>>>>>>> refs/remotes/origin/main
   "id": "48058c7b",
   "metadata": {},
   "outputs": [
    {
     "data": {
      "text/html": [
       "<div>\n",
       "<style scoped>\n",
       "    .dataframe tbody tr th:only-of-type {\n",
       "        vertical-align: middle;\n",
       "    }\n",
       "\n",
       "    .dataframe tbody tr th {\n",
       "        vertical-align: top;\n",
       "    }\n",
       "\n",
       "    .dataframe thead th {\n",
       "        text-align: right;\n",
       "    }\n",
       "</style>\n",
       "<table border=\"1\" class=\"dataframe\">\n",
       "  <thead>\n",
       "    <tr style=\"text-align: right;\">\n",
       "      <th></th>\n",
       "      <th>Word</th>\n",
       "      <th>Frequency</th>\n",
       "    </tr>\n",
       "  </thead>\n",
       "  <tbody>\n",
       "    <tr>\n",
       "      <th>11</th>\n",
       "      <td>the</td>\n",
       "      <td>24056</td>\n",
       "    </tr>\n",
       "    <tr>\n",
       "      <th>37</th>\n",
       "      <td>a</td>\n",
       "      <td>11590</td>\n",
       "    </tr>\n",
       "    <tr>\n",
       "      <th>108</th>\n",
       "      <td>i</td>\n",
       "      <td>11040</td>\n",
       "    </tr>\n",
       "    <tr>\n",
       "      <th>35</th>\n",
       "      <td>to</td>\n",
       "      <td>10064</td>\n",
       "    </tr>\n",
       "    <tr>\n",
       "      <th>0</th>\n",
       "      <td>and</td>\n",
       "      <td>9902</td>\n",
       "    </tr>\n",
       "  </tbody>\n",
       "</table>\n",
       "</div>"
      ],
      "text/plain": [
       "    Word  Frequency\n",
       "11   the      24056\n",
       "37     a      11590\n",
       "108    i      11040\n",
       "35    to      10064\n",
       "0    and       9902"
      ]
     },
<<<<<<< HEAD
     "execution_count": 9,
=======
     "execution_count": 31,
>>>>>>> refs/remotes/origin/main
     "metadata": {},
     "output_type": "execute_result"
    }
   ],
   "source": [
    "word_freq_df.head()"
   ]
  },
  {
   "cell_type": "code",
<<<<<<< HEAD
   "execution_count": 10,
=======
   "execution_count": 32,
>>>>>>> refs/remotes/origin/main
   "id": "ff42409b",
   "metadata": {},
   "outputs": [],
   "source": [
    "word_freq_df = word_freq_df.reset_index(drop=True)\n",
    "word_freq_df['rank'] = word_freq_df.index + 1\n",
    "wf_100 = word_freq_df[:100]"
   ]
  },
  {
   "cell_type": "code",
<<<<<<< HEAD
   "execution_count": 11,
=======
   "execution_count": 33,
>>>>>>> refs/remotes/origin/main
   "id": "9ba9c6e1",
   "metadata": {},
   "outputs": [
    {
     "data": {
      "image/png": "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",
      "text/plain": [
       "<Figure size 1000x600 with 1 Axes>"
      ]
     },
     "metadata": {},
     "output_type": "display_data"
    }
   ],
   "source": [
    "plt.figure(figsize=(10, 6))\n",
    "plt.plot(wf_100['rank'], wf_100['Frequency'], label='Word Frequency')\n",
    "\n",
    "plt.xscale('log')\n",
    "plt.yscale('log')\n",
    "\n",
    "plt.title(\"Zipf's Law - Word Frequency Distribution\", fontsize=14)\n",
    "plt.xlabel(\"Rank (log)\")\n",
    "plt.ylabel(\"Frequency (log)\")\n",
    "\n",
    "plt.legend()\n",
    "plt.show()"
   ]
  },
  {
   "cell_type": "code",
<<<<<<< HEAD
   "execution_count": 12,
=======
   "execution_count": 34,
>>>>>>> refs/remotes/origin/main
   "id": "4bafb05d-94b6-4eed-b208-6c3678beba39",
   "metadata": {},
   "outputs": [
    {
     "name": "stdout",
     "output_type": "stream",
     "text": [
      "Slope: -0.8594102056651519\n",
      "R-squared: 0.9847839090861142\n"
     ]
    },
    {
     "data": {
      "image/png": "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",
      "text/plain": [
       "<Figure size 800x600 with 1 Axes>"
      ]
     },
     "metadata": {},
     "output_type": "display_data"
    }
   ],
   "source": [
    "# Checking if Zipf's law is supported econometrically\n",
    "\n",
    "log_rank = np.log(wf_100['rank'])\n",
    "log_freq = np.log(wf_100['Frequency'])\n",
    "\n",
    "# Linear Regression\n",
    "slope, intercept, r_value, p_value, std_err = stats.linregress(log_rank, log_freq)\n",
    "\n",
    "print(f\"Slope: {slope}\")\n",
    "print(f\"R-squared: {r_value**2}\") # squaring the R-value to get R-squared\n",
    "\n",
    "# comparing the plots of the actual data vs. theoretical prediction of Zipf's law\n",
    "#actual data\n",
    "plt.figure(figsize=(8, 6))\n",
    "plt.plot(log_rank, log_freq, color='blue', label='Word Frequency')\n",
    "\n",
    "#Zipf's law\n",
    "predicted_log_frequency = intercept + slope * log_rank\n",
    "plt.plot(log_rank, predicted_log_frequency, 'r', ls = '--', label=f'Fitted line: slope={slope:.2f}')\n",
    "expected_frequency = intercept - log_rank #equivalent to intercept + -1*log_rank\n",
    "plt.plot(log_rank, expected_frequency, 'g', ls = '-.', label=f'Zipf\\'s law: slope={-1}')\n",
    "\n",
    "plt.xlabel('log(Rank)')\n",
    "plt.ylabel('log(Frequency)')\n",
    "plt.title(\"Testing Zipf's Law for Top 100 Words\")\n",
    "plt.legend()\n",
    "plt.show()\n",
    "\n",
    "# The slope is -0.85, which is close to the Zipf's law slope of -1"
   ]
  },
  {
   "cell_type": "code",
<<<<<<< HEAD
   "execution_count": 13,
=======
   "execution_count": 35,
>>>>>>> refs/remotes/origin/main
   "id": "ced83670",
   "metadata": {},
   "outputs": [
    {
     "name": "stdout",
     "output_type": "stream",
     "text": [
      "                            OLS Regression Results                            \n",
      "==============================================================================\n",
      "Dep. Variable:              Frequency   R-squared:                       0.985\n",
      "Model:                            OLS   Adj. R-squared:                  0.985\n",
      "Method:                 Least Squares   F-statistic:                     6343.\n",
      "Date:                Tue, 17 Sep 2024   Prob (F-statistic):           6.94e-91\n",
<<<<<<< HEAD
      "Time:                        13:01:36   Log-Likelihood:                 89.730\n",
=======
      "Time:                        13:15:32   Log-Likelihood:                 89.730\n",
>>>>>>> refs/remotes/origin/main
      "No. Observations:                 100   AIC:                            -175.5\n",
      "Df Residuals:                      98   BIC:                            -170.2\n",
      "Df Model:                           1                                         \n",
      "Covariance Type:            nonrobust                                         \n",
      "==============================================================================\n",
      "                 coef    std err          t      P>|t|      [0.025      0.975]\n",
      "------------------------------------------------------------------------------\n",
      "const         10.4497      0.040    258.038      0.000      10.369      10.530\n",
      "rank          -0.8594      0.011    -79.640      0.000      -0.881      -0.838\n",
      "==============================================================================\n",
      "Omnibus:                       44.282   Durbin-Watson:                   0.296\n",
      "Prob(Omnibus):                  0.000   Jarque-Bera (JB):              211.920\n",
      "Skew:                          -1.317   Prob(JB):                     9.60e-47\n",
      "Kurtosis:                       9.627   Cond. No.                         16.3\n",
      "==============================================================================\n",
      "\n",
      "Notes:\n",
      "[1] Standard Errors assume that the covariance matrix of the errors is correctly specified.\n",
      "t-statistic: 13.028225033661661\n",
      "p-value for testing if slope is -1: 0.0\n"
     ]
    }
   ],
   "source": [
    "# Add a constant (intercept term) to the log_rank for OLS regression\n",
    "log_rank_with_constant = sm.add_constant(log_rank)\n",
    "\n",
    "# Fit the regression model\n",
    "model = sm.OLS(log_freq, log_rank_with_constant)\n",
    "results = model.fit()\n",
    "\n",
    "# Print the summary\n",
    "print(results.summary())\n",
    "\n",
    "# Extracting the slope (beta coefficient) using label\n",
    "slope = results.params['rank']\n",
    "\n",
    "# Hypothesis test: H0: beta = -1\n",
    "# Calculate t-statistic for testing beta = -1\n",
    "t_statistic = (slope + 1) / results.bse['rank']\n",
    "\n",
    "# Calculate the p-value for a two-tailed test\n",
    "p_value = 2 * (1 - stats.t.cdf(abs(t_statistic), df=results.df_resid))\n",
    "\n",
    "print(f\"t-statistic: {t_statistic}\")\n",
    "print(f\"p-value for testing if slope is -1: {p_value}\")"
   ]
  },
  {
   "cell_type": "markdown",
   "id": "a01c09a2",
   "metadata": {},
   "source": [
    "The 95% CI of the slope is (-0.881, -0.838). While -0.8594 is quite close to -1, we are at least 95% confident that the true beta value is not -1 and we can safely reject the null hypothesis. \n",
    "\n",
    "To further test this, we created a t-test to evaluate if the slope of the log-log regression could actually be equal to -1. Since the t-statistc is 13.02 we again can safely reject the null hypothesis that beta = -1. \n",
    "\n",
    "According to our calculations, the frequency is not exactly inversely proportional to the rank in the frequency table."
   ]
  },
  {
   "cell_type": "markdown",
   "id": "2685e218-229b-4043-b7d8-475e08858a77",
   "metadata": {},
   "source": [
    "# Task B: Finding the top 10 brands from frequency counts.\n",
    "\n",
    "Note: Stopwords not counted, and analysis is performed at the brand level."
   ]
  },
  {
   "cell_type": "code",
<<<<<<< HEAD
   "execution_count": 14,
   "id": "8fcce010-e56a-43d1-a0aa-ac22595989a7",
   "metadata": {},
   "outputs": [],
   "source": [
    "# Load car models and brands data\n",
    "df2 = pd.read_csv(\"car_models_and_brands.csv\")"
   ]
  },
  {
   "cell_type": "code",
   "execution_count": 15,
   "id": "34774347-6093-4891-9ce5-3aa98e034d98",
   "metadata": {},
   "outputs": [],
   "source": [
    "# Removing non-car brands from data\n",
    "to_drop = ['car', 'seat', 'problem', 'sedan']\n",
    "df2 = df2[~df2['Brand'].isin(to_drop)]"
   ]
  },
  {
   "cell_type": "code",
   "execution_count": 16,
   "id": "472f11cc-c5a4-4f30-b527-6e52a118ad05",
   "metadata": {},
   "outputs": [],
   "source": [
    "car_brands = df2['Brand'].str.lower().unique()\n",
    "model_to_brand = dict(zip(df2['Model'].str.lower(), df2['Brand'].str.lower()))\n",
    "results = []\n",
    "\n",
    "# Extract car brands from posts\n",
    "for index, row in df.iterrows():\n",
    "    message = row['Message']\n",
    "\n",
    "    found_brands = set([brand for brand in car_brands if brand in message.lower()]) \n",
    "    found_models = [model for model in model_to_brand if model in message.lower()]\n",
    "    found_brands.update([model_to_brand[model] for model in found_models])\n",
    "\n",
    "    results.append(', '.join(found_brands))\n",
    "\n",
    "df['Brands'] = results"
   ]
  },
  {
   "cell_type": "code",
   "execution_count": 17,
   "id": "4e5b3f7b-a160-4491-bb41-34f48caf363f",
   "metadata": {},
   "outputs": [
    {
     "name": "stdout",
     "output_type": "stream",
     "text": [
      "toyota        1186\n",
      "bmw           1088\n",
      "audi           987\n",
      "honda          617\n",
      "acura          559\n",
      "chrysler       493\n",
      "volkswagen     257\n",
      "infiniti       252\n",
      "ford           250\n",
      "mercedes       232\n",
      "Name: Brands, dtype: int64\n"
     ]
    }
   ],
   "source": [
    "df_exploded = df['Brands'].str.split(',').explode().str.strip() # explode splits brands column by the comma and seperates them into multiple rows\n",
    "\n",
    "# Filter out any empty rows\n",
    "df_exploded = df_exploded[df_exploded != '']\n",
    "\n",
    "brand_counts = df_exploded.value_counts()\n",
    "\n",
    "# Display the top 10 brands by frequency\n",
    "top_10_brands = brand_counts.head(10)\n",
    "print(top_10_brands)"
   ]
  },
  {
   "cell_type": "code",
   "execution_count": 18,
=======
   "execution_count": 36,
>>>>>>> refs/remotes/origin/main
   "id": "941e1732",
   "metadata": {},
   "outputs": [
    {
     "name": "stdout",
     "output_type": "stream",
     "text": [
      "bmw           1024\n",
      "audi           835\n",
      "acura          529\n",
      "honda          433\n",
      "volkswagen     243\n",
      "infiniti       238\n",
      "cadillac       218\n",
      "toyota         204\n",
      "mercedes       198\n",
      "hyundai        190\n",
      "Name: Brands, dtype: int64\n"
     ]
    }
   ],
   "source": [
    "# Load car models and brands data\n",
    "df2 = pd.read_csv(\"car_models_and_brands.csv\")\n",
    "\n",
    "# Removing non-car brands from data\n",
    "to_drop = ['car', 'seat', 'problem', 'sedan']\n",
    "df2 = df2[~df2['Brand'].isin(to_drop)]\n",
    "\n",
    "car_brands = df2['Brand'].str.lower().unique()\n",
    "model_to_brand = dict(zip(df2['Model'].str.lower(), df2['Brand'].str.lower()))\n",
    "results = []\n",
    "\n",
    "# Extract car brands from posts\n",
    "for index, row in df.iterrows():\n",
    "    message = row['Message']\n",
    "    message = re.sub(r'\\W+', ' ', message.lower())  # Clean the message by removing punctuation and converting to lowercase\n",
    "    words = message.split()\n",
    "    \n",
    "    # Perform exact word matching\n",
    "    found_brands = set([brand for brand in car_brands if brand in words])\n",
    "    found_models = [model for model in model_to_brand if model in words]\n",
    "    found_brands.update([model_to_brand[model] for model in found_models])\n",
    "\n",
    "    results.append(', '.join(found_brands))\n",
    "\n",
    "df['Brands'] = results\n",
    "\n",
    "# Continue with your existing code to count frequencies\n",
    "df_exploded = df['Brands'].str.split(',').explode().str.strip()\n",
    "df_exploded = df_exploded[df_exploded != '']\n",
    "\n",
    "brand_counts = df_exploded.value_counts()\n",
    "top_10_brands = brand_counts.head(10)\n",
    "print(top_10_brands)"
   ]
  },
  {
   "cell_type": "markdown",
   "id": "70b5034e-7857-42e5-9cf1-041951580d14",
   "metadata": {},
   "source": [
    "# Task C: Calculating the lift ratios for associations between the top 10 brands identified in Task A.\n",
    "\n",
    "Note: Counting of a brand is done once per post, and a message is not counted in the lift calculations if the mentions of the two brands are separated by approximately 5-7 words."
   ]
  },
  {
   "cell_type": "code",
<<<<<<< HEAD
   "execution_count": 19,
   "id": "dae2f543-6c84-4b50-ba96-64cfb61b9890",
   "metadata": {},
   "outputs": [
    {
     "name": "stdout",
     "output_type": "stream",
     "text": [
      "\n",
      "Lift values table:\n",
      "     Brand 1     Brand 2      Lift\n",
      "0        bmw       honda  0.255466\n",
      "1      acura         bmw  0.860729\n",
      "2      acura    cadillac  1.309018\n",
      "3   cadillac       honda  0.441609\n",
      "4      honda    mercedes  0.728176\n",
      "5        bmw    infiniti  1.478055\n",
      "6      acura        audi  1.202448\n",
      "7   cadillac    infiniti  2.218315\n",
      "8        bmw    cadillac  1.188101\n",
      "9       audi       honda  0.622007\n",
      "10       bmw    mercedes  2.903634\n",
      "11      audi    infiniti  2.027921\n",
      "12     acura       honda  4.332125\n",
      "13  cadillac    mercedes  2.822117\n",
      "14     honda    infiniti  0.715475\n",
      "15  infiniti    mercedes  3.086280\n",
      "16      audi         bmw  1.682638\n",
      "17     acura    infiniti  4.149414\n",
      "18      audi    cadillac  1.594738\n",
      "19     acura    mercedes  1.478075\n",
      "20      audi    mercedes  3.210542\n",
      "21     honda     hyundai  3.076543\n",
      "22     honda      toyota  7.191919\n",
      "23  cadillac     hyundai  0.894258\n",
      "24       bmw      toyota  0.383910\n",
      "25       bmw     hyundai  0.517319\n",
      "26      audi     hyundai  0.484448\n",
      "27   hyundai    infiniti  0.724419\n",
      "28     acura      toyota  1.081363\n",
      "29     acura     hyundai  0.446062\n",
      "30  cadillac      toyota  1.548499\n",
      "31  mercedes  volkswagen  2.949112\n",
      "32       bmw  volkswagen  0.591222\n",
      "33      audi  volkswagen  1.550233\n",
      "34      audi      toyota  0.603987\n",
      "35   hyundai      toyota  3.236364\n",
      "36  mercedes      toyota  0.766003\n",
      "37  infiniti      toyota  0.752643\n",
      "38  cadillac  volkswagen  2.384689\n",
      "39   hyundai    mercedes  0.737278\n"
     ]
    }
   ],
   "source": [
    "top_10_brands_list = top_10_brands.index.str.lower().tolist()\n",
    "\n",
    "# Function to clean and tokenize text (removes punctuation and stopwords)\n",
    "def clean_text(text, stop_words):\n",
    "    text = re.sub(r'\\W+', ' ', text.lower())  # Remove punctuation and convert to lowercase\n",
    "    words = text.split()\n",
    "    return [word for word in words if word not in stop_words]\n",
    "\n",
    "# Function to find brand co-occurrences within a window\n",
    "def find_brand_pairs(message, brands, window=5):\n",
    "    message = re.sub(r'\\W+', ' ', message.lower()) # This makes a tremendous difference in our results. Question is, do we apply it to Task B?\n",
    "    words = message.split()\n",
    "    brand_indices = {brand: [] for brand in brands}\n",
    "    \n",
    "    # Track the position of each brand in the message\n",
    "    for i, word in enumerate(words):\n",
    "        if word in brands:\n",
    "            brand_indices[word].append(i)\n",
    "    \n",
    "    # Find pairs within the given window\n",
    "    brand_pairs = set()\n",
    "    for brand1 in brands:\n",
    "        indices1 = brand_indices[brand1]\n",
    "        for brand2 in brands:\n",
    "            if brand1 < brand2:  # Ensure each pair is only considered once\n",
    "                indices2 = brand_indices[brand2]\n",
    "                for idx1 in indices1:\n",
    "                    for idx2 in indices2:\n",
    "                        if abs(idx1 - idx2) - 1 <= window:\n",
    "                            brand_pairs.add((brand1, brand2))\n",
    "    return brand_pairs\n",
    "\n",
    "# Function to calculate word frequencies and word pair co-occurrences\n",
    "def calculate_frequencies(df, brands, window=5):\n",
    "    word_frequency = defaultdict(int)\n",
    "    word_pair_frequency = defaultdict(int)\n",
    "\n",
    "    # Loop through each post and count word occurrences\n",
    "    for index, row in df.iterrows():\n",
    "        message = row['Message']\n",
    "        words_in_message = set(clean_text(message, stop_words))  # Clean text and remove stopwords\n",
    "        brands_in_message = words_in_message.intersection(brands)\n",
    "\n",
    "        # Update word frequencies\n",
    "        for brand in brands_in_message:\n",
    "            word_frequency[brand] += 1\n",
    "\n",
    "        # Update pair frequencies\n",
    "        brand_pairs = find_brand_pairs(message, brands, window=window)\n",
    "        for brand_pair in brand_pairs:\n",
    "            word_pair_frequency[brand_pair] += 1\n",
    "\n",
    "    return word_frequency, word_pair_frequency\n",
    "\n",
    "# Function to calculate lift\n",
    "def calculate_lift(word_frequency, word_pair_frequency, total_posts):\n",
    "    lift_values = []\n",
    "\n",
    "    for (brand1, brand2), pair_count in word_pair_frequency.items():\n",
    "        p_brand1 = word_frequency[brand1] / total_posts\n",
    "        p_brand2 = word_frequency[brand2] / total_posts\n",
    "        p_both = pair_count / total_posts\n",
    "\n",
    "        if p_brand1 * p_brand2 > 0:\n",
    "            lift = p_both / (p_brand1 * p_brand2)\n",
    "            lift_values.append({\n",
    "                'Brand 1': brand1,\n",
    "                'Brand 2': brand2,\n",
    "                'Lift': lift\n",
    "            })\n",
    "\n",
    "    return pd.DataFrame(lift_values)\n",
    "\n",
    "# Main function to process data and compute lift ratios\n",
    "def main(df, top_10_brands_list, stop_words, window=7):\n",
    "    # Step 1: Calculate word and word pair frequencies\n",
    "    total_posts = len(df)\n",
    "    word_frequency, word_pair_frequency = calculate_frequencies(df, top_10_brands_list, window)\n",
    "\n",
    "    # Step 2: Calculate lift values\n",
    "    lift_df = calculate_lift(word_frequency, word_pair_frequency, total_posts)\n",
    "\n",
    "    # Step 3: Save the lift values to a CSV file\n",
    "    lift_df.to_csv('Lift_Values.csv', index=False)\n",
    "\n",
    "    # Step 4: Display the lift values as a table\n",
    "    pd.set_option('display.max_rows', None)  # Display all rows\n",
    "    print(\"\\nLift values table:\")\n",
    "    print(lift_df)\n",
    "\n",
    "    # Generate lift matrix (Brand vs. Brand with Lift values)\n",
    "    lift_matrix = lift_df.pivot(index='Brand 1', columns='Brand 2', values='Lift')\n",
    "    lift_matrix.to_csv('Lift_Matrix.csv')\n",
    "\n",
    "# Execute the main function\n",
    "main(df, top_10_brands_list, stop_words, window=7)  # Adjust window size as needed"
   ]
  },
  {
   "cell_type": "code",
   "execution_count": 20,
=======
   "execution_count": 47,
>>>>>>> refs/remotes/origin/main
   "id": "440a44af",
   "metadata": {},
   "outputs": [
    {
     "data": {
      "text/html": [
       "<div>\n",
       "<style scoped>\n",
       "    .dataframe tbody tr th:only-of-type {\n",
       "        vertical-align: middle;\n",
       "    }\n",
       "\n",
       "    .dataframe tbody tr th {\n",
       "        vertical-align: top;\n",
       "    }\n",
       "\n",
       "    .dataframe thead th {\n",
       "        text-align: right;\n",
       "    }\n",
       "</style>\n",
       "<table border=\"1\" class=\"dataframe\">\n",
       "  <thead>\n",
       "    <tr style=\"text-align: right;\">\n",
       "      <th></th>\n",
       "      <th>acura</th>\n",
       "      <th>audi</th>\n",
       "      <th>bmw</th>\n",
       "      <th>cadillac</th>\n",
       "      <th>honda</th>\n",
       "      <th>hyundai</th>\n",
       "      <th>infiniti</th>\n",
       "      <th>mercedes</th>\n",
       "      <th>toyota</th>\n",
       "      <th>volkswagen</th>\n",
       "    </tr>\n",
       "  </thead>\n",
       "  <tbody>\n",
       "    <tr>\n",
       "      <th>acura</th>\n",
       "      <td>-</td>\n",
       "      <td>0.733414</td>\n",
       "      <td>0.561245</td>\n",
       "      <td>0.994017</td>\n",
       "      <td>1.283768</td>\n",
       "      <td>0.148761</td>\n",
       "      <td>2.375181</td>\n",
       "      <td>0.999255</td>\n",
       "      <td>0.323288</td>\n",
       "      <td>0.0</td>\n",
       "    </tr>\n",
       "    <tr>\n",
       "      <th>audi</th>\n",
       "      <td>-</td>\n",
       "      <td>-</td>\n",
       "      <td>1.066701</td>\n",
       "      <td>1.177344</td>\n",
       "      <td>0.179204</td>\n",
       "      <td>0.157075</td>\n",
       "      <td>1.128566</td>\n",
       "      <td>2.110204</td>\n",
       "      <td>0.175555</td>\n",
       "      <td>0.049126</td>\n",
       "    </tr>\n",
       "    <tr>\n",
       "      <th>bmw</th>\n",
       "      <td>-</td>\n",
       "      <td>-</td>\n",
       "      <td>-</td>\n",
       "      <td>0.937715</td>\n",
       "      <td>0.078684</td>\n",
       "      <td>0.179317</td>\n",
       "      <td>0.879366</td>\n",
       "      <td>2.040286</td>\n",
       "      <td>0.119294</td>\n",
       "      <td>0.02003</td>\n",
       "    </tr>\n",
       "    <tr>\n",
       "      <th>cadillac</th>\n",
       "      <td>-</td>\n",
       "      <td>-</td>\n",
       "      <td>-</td>\n",
       "      <td>-</td>\n",
       "      <td>0.1584</td>\n",
       "      <td>0.360985</td>\n",
       "      <td>1.536967</td>\n",
       "      <td>2.309332</td>\n",
       "      <td>0.560353</td>\n",
       "      <td>0.094084</td>\n",
       "    </tr>\n",
       "    <tr>\n",
       "      <th>honda</th>\n",
       "      <td>-</td>\n",
       "      <td>-</td>\n",
       "      <td>-</td>\n",
       "      <td>-</td>\n",
       "      <td>-</td>\n",
       "      <td>0.484648</td>\n",
       "      <td>0.193452</td>\n",
       "      <td>0.232533</td>\n",
       "      <td>1.015623</td>\n",
       "      <td>0.0</td>\n",
       "    </tr>\n",
       "    <tr>\n",
       "      <th>hyundai</th>\n",
       "      <td>-</td>\n",
       "      <td>-</td>\n",
       "      <td>-</td>\n",
       "      <td>-</td>\n",
       "      <td>-</td>\n",
       "      <td>-</td>\n",
       "      <td>0.220433</td>\n",
       "      <td>0.264965</td>\n",
       "      <td>0.514345</td>\n",
       "      <td>0.0</td>\n",
       "    </tr>\n",
       "    <tr>\n",
       "      <th>infiniti</th>\n",
       "      <td>-</td>\n",
       "      <td>-</td>\n",
       "      <td>-</td>\n",
       "      <td>-</td>\n",
       "      <td>-</td>\n",
       "      <td>-</td>\n",
       "      <td>-</td>\n",
       "      <td>1.903743</td>\n",
       "      <td>0.205306</td>\n",
       "      <td>0.0</td>\n",
       "    </tr>\n",
       "    <tr>\n",
       "      <th>mercedes</th>\n",
       "      <td>-</td>\n",
       "      <td>-</td>\n",
       "      <td>-</td>\n",
       "      <td>-</td>\n",
       "      <td>-</td>\n",
       "      <td>-</td>\n",
       "      <td>-</td>\n",
       "      <td>-</td>\n",
       "      <td>0.246782</td>\n",
       "      <td>0.103587</td>\n",
       "    </tr>\n",
       "    <tr>\n",
       "      <th>toyota</th>\n",
       "      <td>-</td>\n",
       "      <td>-</td>\n",
       "      <td>-</td>\n",
       "      <td>-</td>\n",
       "      <td>-</td>\n",
       "      <td>-</td>\n",
       "      <td>-</td>\n",
       "      <td>-</td>\n",
       "      <td>-</td>\n",
       "      <td>0.0</td>\n",
       "    </tr>\n",
       "    <tr>\n",
       "      <th>volkswagen</th>\n",
       "      <td>-</td>\n",
       "      <td>-</td>\n",
       "      <td>-</td>\n",
       "      <td>-</td>\n",
       "      <td>-</td>\n",
       "      <td>-</td>\n",
       "      <td>-</td>\n",
       "      <td>-</td>\n",
       "      <td>-</td>\n",
       "      <td>-</td>\n",
       "    </tr>\n",
       "  </tbody>\n",
       "</table>\n",
       "</div>"
      ],
      "text/plain": [
       "           acura      audi       bmw  cadillac     honda   hyundai  infiniti  \\\n",
       "acura          -  0.733414  0.561245  0.994017  1.283768  0.148761  2.375181   \n",
       "audi           -         -  1.066701  1.177344  0.179204  0.157075  1.128566   \n",
       "bmw            -         -         -  0.937715  0.078684  0.179317  0.879366   \n",
       "cadillac       -         -         -         -    0.1584  0.360985  1.536967   \n",
       "honda          -         -         -         -         -  0.484648  0.193452   \n",
       "hyundai        -         -         -         -         -         -  0.220433   \n",
       "infiniti       -         -         -         -         -         -         -   \n",
       "mercedes       -         -         -         -         -         -         -   \n",
       "toyota         -         -         -         -         -         -         -   \n",
       "volkswagen     -         -         -         -         -         -         -   \n",
       "\n",
       "            mercedes    toyota volkswagen  \n",
       "acura       0.999255  0.323288        0.0  \n",
       "audi        2.110204  0.175555   0.049126  \n",
       "bmw         2.040286  0.119294    0.02003  \n",
       "cadillac    2.309332  0.560353   0.094084  \n",
       "honda       0.232533  1.015623        0.0  \n",
       "hyundai     0.264965  0.514345        0.0  \n",
       "infiniti    1.903743  0.205306        0.0  \n",
       "mercedes           -  0.246782   0.103587  \n",
       "toyota             -         -        0.0  \n",
       "volkswagen         -         -          -  "
      ]
     },
<<<<<<< HEAD
     "execution_count": 20,
=======
     "execution_count": 47,
>>>>>>> refs/remotes/origin/main
     "metadata": {},
     "output_type": "execute_result"
    }
   ],
   "source": [
    "top_10_brands_list = top_10_brands.index.str.lower().tolist()\n",
    "\n",
    "# Function to clean and tokenize text (removes punctuation)\n",
    "def clean_text(text):\n",
    "    text = re.sub(r'\\W+', ' ', text.lower())  # Remove punctuation and convert to lowercase\n",
    "    words = text.split()\n",
    "    return words  \n",
    "\n",
    "def find_brand_pairs(message, brands, window=5):\n",
    "    message = re.sub(r'\\W+', ' ', message.lower())  # Clean the message\n",
    "    words = message.split()\n",
    "    brand_indices = {brand: [] for brand in brands}\n",
    "\n",
    "    # Track the position of each brand in the message\n",
    "    for i, word in enumerate(words):\n",
    "        if word in brands:\n",
    "            brand_indices[word].append(i)\n",
    "\n",
    "    # Find pairs within the given window\n",
    "    brand_pairs = set()\n",
    "    brands_list = list(brand_indices.keys())\n",
    "    for idx1, brand1 in enumerate(brands_list):\n",
    "        indices1 = brand_indices[brand1]\n",
    "        for idx2 in range(idx1 + 1, len(brands_list)):\n",
    "            brand2 = brands_list[idx2]\n",
    "            indices2 = brand_indices[brand2]\n",
    "            for i1 in indices1:\n",
    "                for i2 in indices2:\n",
    "                    if abs(i1 - i2) - 1 <= window:\n",
    "                        pair = tuple(sorted((brand1, brand2)))\n",
    "                        brand_pairs.add(pair)\n",
    "    return brand_pairs\n",
    "\n",
    "# Function to calculate word frequencies and word pair co-occurrences\n",
    "def calculate_frequencies(df, top_brands, window=5):\n",
    "    word_frequency = defaultdict(int)\n",
    "    word_pair_frequency = defaultdict(int)\n",
    "\n",
    "    # Loop through each post and count word occurrences\n",
    "    for index, row in df.iterrows():\n",
    "        message = row['Message']\n",
    "        words_in_message = set(clean_text(message))\n",
    "        brands_in_message = words_in_message.intersection(top_brands)\n",
    "        \n",
    "        # Include models mapped to brands, but only if the brand is in the top 10\n",
    "        models_in_message = words_in_message.intersection(set(model_to_brand.keys()))\n",
    "        mapped_brands = [model_to_brand[model] for model in models_in_message]\n",
    "        mapped_brands = [brand for brand in mapped_brands if brand in top_brands]\n",
    "        brands_in_message.update(mapped_brands)\n",
    "\n",
    "        # Update word frequencies\n",
    "        for brand in brands_in_message:\n",
    "            word_frequency[brand] += 1\n",
    "\n",
    "        # Update pair frequencies\n",
    "        brand_pairs = find_brand_pairs(message, top_brands, window=window)\n",
    "        for brand_pair in brand_pairs:\n",
    "            if brand_pair[0] in brands_in_message and brand_pair[1] in brands_in_message:\n",
    "                word_pair_frequency[brand_pair] += 1\n",
    "\n",
    "    return word_frequency, word_pair_frequency\n",
    "\n",
    "\n",
    "# Function to calculate lift\n",
    "def calculate_lift(word_frequency, word_pair_frequency, total_posts):\n",
    "    lift_values = []\n",
    "\n",
    "    for (brand1, brand2), pair_count in word_pair_frequency.items():\n",
    "        p_brand1 = word_frequency[brand1] / total_posts\n",
    "        p_brand2 = word_frequency[brand2] / total_posts\n",
    "        p_both = pair_count / total_posts\n",
    "\n",
    "        if p_brand1 * p_brand2 > 0:\n",
    "            lift = p_both / (p_brand1 * p_brand2)\n",
    "            lift_values.append({\n",
    "                'Brand 1': brand1,\n",
    "                'Brand 2': brand2,\n",
    "                'Lift': lift\n",
    "            })\n",
    "\n",
    "    return pd.DataFrame(lift_values)\n",
    "\n",
    "# Main function to process data and compute lift ratios\n",
    "def main(df, top_10_brands_list, window=7):\n",
    "    # Step 1: Calculate word and word pair frequencies\n",
    "    total_posts = len(df)\n",
    "    word_frequency, word_pair_frequency = calculate_frequencies(df, top_10_brands_list, window)\n",
    "    \n",
    "    # Step 2: Calculate lift values\n",
    "    lift_df = calculate_lift(word_frequency, word_pair_frequency, total_posts)\n",
    "    \n",
    "    # Step 3: Create lift matrix\n",
    "    lift_matrix = lift_df.pivot(index='Brand 1', columns='Brand 2', values='Lift')\n",
    "    \n",
    "    # Ensure all brands are present in both axes\n",
    "    all_brands = sorted(set(top_10_brands_list))\n",
    "    lift_matrix = lift_matrix.reindex(index=all_brands, columns=all_brands)\n",
    "    \n",
    "    # Replace missing values with 0\n",
    "    lift_matrix = lift_matrix.fillna(0)\n",
    "    \n",
    "    # Convert DataFrame to object type to allow setting string values\n",
    "    lift_matrix = lift_matrix.astype(object)\n",
    "    \n",
    "    # Set the diagonal and lower triangle to '-'\n",
    "    for i in range(len(all_brands)):\n",
    "        lift_matrix.iloc[i, i] = '-'  # Set diagonal to '-'\n",
    "        for j in range(i):\n",
    "            lift_matrix.iloc[i, j] = '-'  # Set lower triangle to '-'\n",
    "    \n",
    "    # Remove 'Brand 1' and 'Brand 2' labels from being displayed\n",
    "    lift_matrix.index.name = None\n",
    "    lift_matrix.columns.name = None\n",
    "    \n",
    "    # Return both lift_matrix and lift_df\n",
    "    #return lift_matrix, lift_df\n",
    "    return lift_matrix, lift_df, word_frequency, word_pair_frequency\n",
    "\n",
    "# Execute the main function and capture the lift matrix and lift DataFrame\n",
    "#lift_matrix, lift_df = main(df, top_10_brands_list, stop_words, window=7)\n",
    "lift_matrix, lift_df, word_frequency, word_pair_frequency = main(df, top_10_brands_list, window=7)\n",
    "\n",
    "# Display the lift matrix as a DataFrame\n",
    "lift_matrix"
   ]
  },
  {
   "cell_type": "markdown",
   "id": "638e898f",
   "metadata": {},
   "source": [
    "# Sanity Checks for Task B and C (remove later)"
   ]
  },
  {
   "cell_type": "code",
<<<<<<< HEAD
   "execution_count": 21,
=======
   "execution_count": 38,
>>>>>>> refs/remotes/origin/main
   "id": "43cdfeb6",
   "metadata": {},
   "outputs": [
    {
     "name": "stdout",
     "output_type": "stream",
     "text": [
      "Brand Frequencies from Task B vs Task C:\n",
      "Bmw: Task B = 1024, Task C = 1024\n",
      "Audi: Task B = 835, Task C = 835\n",
      "Acura: Task B = 529, Task C = 529\n",
      "Honda: Task B = 433, Task C = 433\n",
      "Volkswagen: Task B = 243, Task C = 243\n",
      "Infiniti: Task B = 238, Task C = 238\n",
      "Cadillac: Task B = 218, Task C = 218\n",
      "Toyota: Task B = 204, Task C = 204\n",
      "Mercedes: Task B = 198, Task C = 198\n",
      "Hyundai: Task B = 190, Task C = 190\n"
     ]
    }
   ],
   "source": [
    "# Extract word frequencies from Task C\n",
    "# Note: word_frequency is a defaultdict, convert it to a regular dict for comparison\n",
    "word_frequency_c = dict(word_frequency)\n",
    "\n",
    "# Extract brand counts from Task B\n",
    "brand_counts_b = brand_counts.to_dict()\n",
    "\n",
    "# Compare the frequencies for top 10 brands\n",
    "print(\"Brand Frequencies from Task B vs Task C:\")\n",
    "for brand in top_10_brands_list:\n",
    "    freq_b = brand_counts_b.get(brand, 0)\n",
    "    freq_c = word_frequency_c.get(brand, 0)\n",
    "    print(f\"{brand.capitalize()}: Task B = {freq_b}, Task C = {freq_c}\")"
   ]
  },
  {
   "cell_type": "code",
<<<<<<< HEAD
   "execution_count": 22,
=======
   "execution_count": 39,
>>>>>>> refs/remotes/origin/main
   "id": "c6913441",
   "metadata": {},
   "outputs": [
    {
     "name": "stdout",
     "output_type": "stream",
     "text": [
      "Message: I love my new BMW, but I'm considering getting an Audi next time.\n",
      "Brands Detected: bmw, audi\n",
      "\n",
      "Message: The Honda Accord has been a reliable car for years.\n",
      "Brands Detected: honda\n",
      "\n",
      "Message: Just saw a Mercedes and an Infiniti racing down the highway.\n",
      "Brands Detected: mercedes-benz, mercedes, infiniti\n",
      "\n",
      "Message: Looking at Toyota and Ford trucks for my next purchase.\n",
      "Brands Detected: ford, toyota\n",
      "\n",
      "Message: No car brand mentioned here.\n",
      "Brands Detected: \n",
      "\n"
     ]
    }
   ],
   "source": [
    "sample_messages = [\n",
    "    \"I love my new BMW, but I'm considering getting an Audi next time.\",\n",
    "    \"The Honda Accord has been a reliable car for years.\",\n",
    "    \"Just saw a Mercedes and an Infiniti racing down the highway.\",\n",
    "    \"Looking at Toyota and Ford trucks for my next purchase.\",\n",
    "    \"No car brand mentioned here.\"\n",
    "]\n",
    "\n",
    "for message in sample_messages:\n",
    "    print(f\"Message: {message}\")\n",
    "    # Apply the same preprocessing as in your code\n",
    "    message_cleaned = re.sub(r'\\W+', ' ', message.lower())\n",
    "    words = message_cleaned.split()\n",
    "    found_brands = set([brand for brand in car_brands if brand in words])\n",
    "    found_models = [model for model in model_to_brand if model in words]\n",
    "    found_brands.update([model_to_brand[model] for model in found_models])\n",
    "    print(f\"Brands Detected: {', '.join(found_brands)}\\n\")"
   ]
  },
  {
   "cell_type": "code",
<<<<<<< HEAD
   "execution_count": 23,
=======
   "execution_count": 40,
>>>>>>> refs/remotes/origin/main
   "id": "e06269fe",
   "metadata": {},
   "outputs": [
    {
     "name": "stdout",
     "output_type": "stream",
     "text": [
      "Manual Co-occurrence Counts:\n",
      "('audi', 'bmw'): 1\n",
      "('honda', 'toyota'): 1\n",
      "('bmw', 'mercedes'): 1\n",
      "\n",
      "Co-occurrence Counts from Task C:\n",
      "('bmw', 'mercedes'): Task C = 83, Manual = 1\n",
      "('audi', 'bmw'): Task C = 183, Manual = 1\n",
      "('honda', 'toyota'): Task C = 18, Manual = 1\n"
     ]
    }
   ],
   "source": [
    "# Manually define a small subset of messages\n",
    "subset_messages = [\n",
    "    \"BMW and Audi are both great brands.\",\n",
    "    \"I prefer Honda over Toyota.\",\n",
    "    \"Ford and Chrysler have been competitors for years.\",\n",
    "    \"Mercedes and BMW often compete in the luxury segment.\"\n",
    "]\n",
    "\n",
    "# Manually calculate expected co-occurrence counts\n",
    "manual_pair_counts = defaultdict(int)\n",
    "\n",
    "for message in subset_messages:\n",
    "    # Apply the same preprocessing as in your code\n",
    "    message_cleaned = re.sub(r'\\W+', ' ', message.lower())\n",
    "    words = message_cleaned.split()\n",
    "    brands_in_message = set([brand for brand in top_10_brands_list if brand in words])\n",
    "    \n",
    "    # Find brand pairs within the window (assuming window size is large enough to include all brands in the message)\n",
    "    for brand1 in brands_in_message:\n",
    "        for brand2 in brands_in_message:\n",
    "            if brand1 < brand2:\n",
    "                manual_pair_counts[(brand1, brand2)] += 1\n",
    "\n",
    "print(\"Manual Co-occurrence Counts:\")\n",
    "for pair, count in manual_pair_counts.items():\n",
    "    print(f\"{pair}: {count}\")\n",
    "\n",
    "# Compare with word_pair_frequency from Task C\n",
    "print(\"\\nCo-occurrence Counts from Task C:\")\n",
    "for pair, count in word_pair_frequency.items():\n",
    "    if pair in manual_pair_counts:\n",
    "        print(f\"{pair}: Task C = {count}, Manual = {manual_pair_counts[pair]}\")"
   ]
  },
  {
   "cell_type": "markdown",
   "id": "5ea3738c",
   "metadata": {},
   "source": [
    "The counts from Task C are higher because they are calculated over the entire dataset of 5,000 messages, whereas the manual counts are from a small subset of 4 messages.\n",
    "\n",
    "The counts should differ because the sample sizes are vastly different. This discrepancy is normal and indicates that the code is correctly counting co-occurrences over the entire dataset."
   ]
  },
  {
   "cell_type": "code",
<<<<<<< HEAD
   "execution_count": 24,
=======
   "execution_count": 41,
>>>>>>> refs/remotes/origin/main
   "id": "2fc093dd",
   "metadata": {},
   "outputs": [
    {
     "name": "stdout",
     "output_type": "stream",
     "text": [
      "Manual Lift for ('bmw', 'audi'): 1.0667009730538923\n",
      "Lift from lift_df: 1.0667009730538923\n"
     ]
    }
   ],
   "source": [
    "# Ensure brand names in lift_df are lowercase\n",
    "lift_df['Brand 1'] = lift_df['Brand 1'].str.lower()\n",
    "lift_df['Brand 2'] = lift_df['Brand 2'].str.lower()\n",
    "\n",
    "# Select a brand pair from lift_df\n",
    "brand_pair = ('bmw', 'audi')\n",
    "\n",
    "# Get frequencies\n",
    "total_posts = len(df)\n",
    "freq_brand1 = word_frequency[brand_pair[0]]\n",
    "freq_brand2 = word_frequency[brand_pair[1]]\n",
    "\n",
    "# Since word_pair_frequency keys are tuples in a specific order, check both possible orders\n",
    "freq_pair = word_pair_frequency.get((brand_pair[0], brand_pair[1]), 0) + \\\n",
    "            word_pair_frequency.get((brand_pair[1], brand_pair[0]), 0)\n",
    "\n",
    "# Calculate probabilities\n",
    "p_brand1 = freq_brand1 / total_posts\n",
    "p_brand2 = freq_brand2 / total_posts\n",
    "p_both = freq_pair / total_posts\n",
    "\n",
    "# Calculate lift manually\n",
    "lift_manual = p_both / (p_brand1 * p_brand2) if p_brand1 * p_brand2 > 0 else 0\n",
    "\n",
    "# Get lift from lift_df\n",
    "lift_row = lift_df[((lift_df['Brand 1'] == brand_pair[0]) & (lift_df['Brand 2'] == brand_pair[1])) |\n",
    "                   ((lift_df['Brand 1'] == brand_pair[1]) & (lift_df['Brand 2'] == brand_pair[0]))]\n",
    "\n",
    "if not lift_row.empty:\n",
    "    lift_from_df = lift_row['Lift'].values[0]\n",
    "    print(f\"Manual Lift for {brand_pair}: {lift_manual}\")\n",
    "    print(f\"Lift from lift_df: {lift_from_df}\")\n",
    "else:\n",
    "    print(f\"Lift value for {brand_pair} not found in lift_df.\")"
   ]
  },
  {
   "cell_type": "code",
<<<<<<< HEAD
   "execution_count": 25,
=======
   "execution_count": 42,
>>>>>>> refs/remotes/origin/main
   "id": "ed4ffd48",
   "metadata": {},
   "outputs": [
    {
     "name": "stdout",
     "output_type": "stream",
     "text": [
      "\n",
      "Lift Values:\n",
      "     Brand 1     Brand 2      Lift\n",
<<<<<<< HEAD
      "17     acura    infiniti  2.375181\n",
      "13  cadillac    mercedes  2.309332\n",
      "20      audi    mercedes  2.110204\n",
      "10       bmw    mercedes  2.040286\n",
      "15  infiniti    mercedes  1.903743\n",
      "7   cadillac    infiniti  1.536967\n",
      "12     acura       honda  1.283768\n",
      "18      audi    cadillac  1.177344\n",
      "11      audi    infiniti  1.128566\n",
      "16      audi         bmw  1.066701\n",
      "22     honda      toyota  1.015623\n",
      "19     acura    mercedes  0.999255\n",
      "2      acura    cadillac  0.994017\n",
      "8        bmw    cadillac  0.937715\n",
      "5        bmw    infiniti  0.879366\n",
      "6      acura        audi  0.733414\n",
      "1      acura         bmw  0.561245\n",
=======
      "18     acura    infiniti  2.375181\n",
      "6   cadillac    mercedes  2.309332\n",
      "20      audi    mercedes  2.110204\n",
      "16       bmw    mercedes  2.040286\n",
      "1   infiniti    mercedes  1.903743\n",
      "10  cadillac    infiniti  1.536967\n",
      "5      acura       honda  1.283768\n",
      "11      audi    cadillac  1.177344\n",
      "9       audi    infiniti  1.128566\n",
      "17      audi         bmw  1.066701\n",
      "22     honda      toyota  1.015623\n",
      "19     acura    mercedes  0.999255\n",
      "3      acura    cadillac  0.994017\n",
      "2        bmw    cadillac  0.937715\n",
      "7        bmw    infiniti  0.879366\n",
      "12     acura        audi  0.733414\n",
      "8      acura         bmw  0.561245\n",
>>>>>>> refs/remotes/origin/main
      "30  cadillac      toyota  0.560353\n",
      "35   hyundai      toyota  0.514345\n",
      "21     honda     hyundai  0.484648\n",
      "23  cadillac     hyundai  0.360985\n",
<<<<<<< HEAD
      "28     acura      toyota  0.323288\n",
      "39   hyundai    mercedes  0.264965\n",
      "36  mercedes      toyota  0.246782\n",
      "4      honda    mercedes  0.232533\n",
      "27   hyundai    infiniti  0.220433\n",
      "37  infiniti      toyota  0.205306\n",
      "14     honda    infiniti  0.193452\n",
      "25       bmw     hyundai  0.179317\n",
      "9       audi       honda  0.179204\n",
      "34      audi      toyota  0.175555\n",
      "3   cadillac       honda  0.158400\n",
      "26      audi     hyundai  0.157075\n",
      "29     acura     hyundai  0.148761\n",
      "24       bmw      toyota  0.119294\n",
      "31  mercedes  volkswagen  0.103587\n",
      "38  cadillac  volkswagen  0.094084\n",
      "0        bmw       honda  0.078684\n",
      "33      audi  volkswagen  0.049126\n",
      "32       bmw  volkswagen  0.020030\n"
=======
      "26     acura      toyota  0.323288\n",
      "39   hyundai    mercedes  0.264965\n",
      "36  mercedes      toyota  0.246782\n",
      "15     honda    mercedes  0.232533\n",
      "24   hyundai    infiniti  0.220433\n",
      "37  infiniti      toyota  0.205306\n",
      "0      honda    infiniti  0.193452\n",
      "28       bmw     hyundai  0.179317\n",
      "13      audi       honda  0.179204\n",
      "34      audi      toyota  0.175555\n",
      "14  cadillac       honda  0.158400\n",
      "27      audi     hyundai  0.157075\n",
      "29     acura     hyundai  0.148761\n",
      "25       bmw      toyota  0.119294\n",
      "32  mercedes  volkswagen  0.103587\n",
      "38  cadillac  volkswagen  0.094084\n",
      "4        bmw       honda  0.078684\n",
      "31      audi  volkswagen  0.049126\n",
      "33       bmw  volkswagen  0.020030\n"
>>>>>>> refs/remotes/origin/main
     ]
    }
   ],
   "source": [
    "print(\"\\nLift Values:\")\n",
    "print(lift_df.sort_values(by='Lift', ascending=False))"
   ]
  },
  {
   "cell_type": "code",
<<<<<<< HEAD
   "execution_count": 26,
=======
   "execution_count": 43,
>>>>>>> refs/remotes/origin/main
   "id": "293aeef3",
   "metadata": {},
   "outputs": [
    {
     "name": "stdout",
     "output_type": "stream",
     "text": [
      "Total Posts (from Task C): 4984\n",
      "Total Posts (from DataFrame): 4984\n"
     ]
    }
   ],
   "source": [
    "print(f\"Total Posts (from Task C): {total_posts}\")\n",
    "print(f\"Total Posts (from DataFrame): {df.shape[0]}\")"
   ]
  },
  {
   "cell_type": "markdown",
   "id": "870ae44e-9793-4af1-b94a-df772e6a1a19",
   "metadata": {},
   "source": [
    "# Task D: Plotting the brands on a multi-dimensional scaling (MDS) map."
   ]
  },
  {
   "cell_type": "code",
<<<<<<< HEAD
   "execution_count": 27,
   "id": "82e24f73-88c7-4a05-bc0e-0ab0103745d9",
   "metadata": {},
   "outputs": [],
   "source": [
    "lift_df = pd.read_csv('Lift_Values.csv')\n",
    "\n",
    "# List of brands\n",
    "brands = list(set(lift_df['Brand 1']).union(set(lift_df['Brand 2'])))\n",
    "brands.sort()  # Ensure consistent ordering\n",
    "\n",
    "# Initialize the dissimilarity matrix with zeros\n",
    "dissimilarity_matrix = pd.DataFrame(\n",
    "    data=np.zeros((len(brands), len(brands))),\n",
    "    index=brands,\n",
    "    columns=brands\n",
    ")\n",
    "\n",
    "# Small epsilon to avoid division by zero\n",
    "epsilon = 1e-5\n",
    "\n",
    "# Fill the dissimilarity matrix\n",
    "for index, row in lift_df.iterrows():\n",
    "    brand1 = row['Brand 1']\n",
    "    brand2 = row['Brand 2']\n",
    "    lift = row['Lift']\n",
    "    \n",
    "    # Compute dissimilarity\n",
    "    dissimilarity = 1 / (lift + epsilon)\n",
    "    \n",
    "    # Assign to the matrix\n",
    "    dissimilarity_matrix.loc[brand1, brand2] = dissimilarity\n",
    "    dissimilarity_matrix.loc[brand2, brand1] = dissimilarity  # Symmetric matrix\n",
    "\n",
    "# Since the diagonal represents the dissimilarity of a brand with itself, set it to zero\n",
    "np.fill_diagonal(dissimilarity_matrix.values, 0)"
   ]
  },
  {
   "cell_type": "code",
   "execution_count": 28,
   "id": "00f255fa",
   "metadata": {},
   "outputs": [],
   "source": [
    "# Replace missing values with a large dissimilarity\n",
    "max_dissimilarity = dissimilarity_matrix.max().max()\n",
    "dissimilarity_matrix = dissimilarity_matrix.replace(0, max_dissimilarity + 1)\n",
    "\n",
    "# Set the diagonal back to zero\n",
    "np.fill_diagonal(dissimilarity_matrix.values, 0)"
   ]
  },
  {
   "cell_type": "code",
   "execution_count": 29,
   "id": "e8e7258e",
   "metadata": {},
   "outputs": [],
   "source": [
    "# Convert the dissimilarity matrix to a NumPy array\n",
    "dissimilarity_array = dissimilarity_matrix.values\n",
    "\n",
    "# Create an MDS object\n",
    "mds = MDS(n_components=2, dissimilarity='precomputed', normalized_stress='auto', random_state=22)\n",
    "\n",
    "# Fit the MDS model\n",
    "mds_coordinates = mds.fit_transform(dissimilarity_array)"
   ]
  },
  {
   "cell_type": "code",
   "execution_count": 30,
   "id": "29a263e9",
   "metadata": {},
   "outputs": [
    {
     "data": {
      "image/png": "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",
      "text/plain": [
       "<Figure size 1000x800 with 1 Axes>"
      ]
     },
     "metadata": {},
     "output_type": "display_data"
    }
   ],
   "source": [
    "# Create a DataFrame with the coordinates\n",
    "mds_df = pd.DataFrame(\n",
    "    mds_coordinates,\n",
    "    index=dissimilarity_matrix.index,\n",
    "    columns=['Dimension 1', 'Dimension 2']\n",
    ")\n",
    "\n",
    "# Plotting\n",
    "plt.figure(figsize=(10, 8))\n",
    "plt.scatter(mds_df['Dimension 1'], mds_df['Dimension 2'], color='blue')\n",
    "\n",
    "# Annotate points with brand names\n",
    "for brand, x, y in zip(mds_df.index, mds_df['Dimension 1'], mds_df['Dimension 2']):\n",
    "    plt.text(x, y, brand.capitalize(), fontsize=9, ha='right', va='bottom')\n",
    "\n",
    "plt.title('MDS Map of Brands')\n",
    "\n",
    "# Remove axis labels\n",
    "plt.xlabel('')\n",
    "plt.ylabel('')\n",
    "\n",
    "# Remove axis numbers (ticks)\n",
    "plt.xticks([])\n",
    "plt.yticks([])\n",
    "\n",
    "# Remove the axes spines\n",
    "plt.axis('off') \n",
    "\n",
    "plt.show()"
   ]
  },
  {
   "cell_type": "code",
   "execution_count": 31,
=======
   "execution_count": 24,
>>>>>>> refs/remotes/origin/main
   "id": "2346c661",
   "metadata": {},
   "outputs": [],
   "source": [
    "# Ensure brand names in lift_df are lowercase (if not already)\n",
    "lift_df['Brand 1'] = lift_df['Brand 1'].str.lower()\n",
    "lift_df['Brand 2'] = lift_df['Brand 2'].str.lower()\n",
    "\n",
    "# Define the top 10 brands list (ensure it's lowercase)\n",
    "top_10_brands_list = [brand.lower() for brand in top_10_brands_list]\n",
    "\n",
    "# Filter lift_df to include only top 10 brands\n",
    "lift_df = lift_df[\n",
    "    (lift_df['Brand 1'].isin(top_10_brands_list)) &\n",
    "    (lift_df['Brand 2'].isin(top_10_brands_list))\n",
    "]\n",
    "\n",
    "# List of brands (top 10 only)\n",
    "brands = sorted(top_10_brands_list)\n",
    "\n",
    "# Initialize the dissimilarity matrix with zeros\n",
    "dissimilarity_matrix = pd.DataFrame(\n",
    "    data=np.zeros((len(brands), len(brands))),\n",
    "    index=brands,\n",
    "    columns=brands\n",
    ")\n",
    "\n",
    "# Small epsilon to avoid division by zero\n",
    "epsilon = 1e-5\n",
    "\n",
    "# Fill the dissimilarity matrix\n",
    "for index, row in lift_df.iterrows():\n",
    "    brand1 = row['Brand 1']\n",
    "    brand2 = row['Brand 2']\n",
    "    lift = row['Lift']\n",
    "    \n",
    "    # Compute dissimilarity\n",
    "    dissimilarity = 1 / (lift + epsilon)\n",
    "    \n",
    "    # Assign to the matrix\n",
    "    dissimilarity_matrix.loc[brand1, brand2] = dissimilarity\n",
    "    dissimilarity_matrix.loc[brand2, brand1] = dissimilarity  # Symmetric matrix\n",
    "\n",
    "# Since the diagonal represents the dissimilarity of a brand with itself, set it to zero\n",
    "np.fill_diagonal(dissimilarity_matrix.values, 0)"
   ]
  },
  {
   "cell_type": "code",
<<<<<<< HEAD
   "execution_count": 32,
=======
   "execution_count": 25,
>>>>>>> refs/remotes/origin/main
   "id": "9a2fc352",
   "metadata": {},
   "outputs": [],
   "source": [
    "# Replace missing values (still zero after filling known dissimilarities) with a large dissimilarity\n",
    "max_dissimilarity = dissimilarity_matrix.values.max()\n",
    "dissimilarity_matrix = dissimilarity_matrix.replace(0, max_dissimilarity + 1)\n",
    "np.fill_diagonal(dissimilarity_matrix.values, 0)  # Set the diagonal back to zero"
   ]
  },
  {
   "cell_type": "code",
<<<<<<< HEAD
   "execution_count": 33,
=======
   "execution_count": 26,
>>>>>>> refs/remotes/origin/main
   "id": "b6517260",
   "metadata": {},
   "outputs": [],
   "source": [
    "# Convert the dissimilarity matrix to a NumPy array\n",
    "dissimilarity_array = dissimilarity_matrix.values\n",
    "\n",
    "# Create an MDS object\n",
    "mds = MDS(n_components=2, dissimilarity='precomputed', random_state=42, normalized_stress='auto')\n",
    "\n",
    "# Fit the MDS model\n",
    "mds_coordinates = mds.fit_transform(dissimilarity_array)"
   ]
  },
  {
   "cell_type": "code",
<<<<<<< HEAD
   "execution_count": 34,
=======
   "execution_count": 27,
>>>>>>> refs/remotes/origin/main
   "id": "123c0ba4",
   "metadata": {},
   "outputs": [
    {
     "data": {
<<<<<<< HEAD
      "image/png": "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",
=======
      "image/png": "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",
>>>>>>> refs/remotes/origin/main
      "text/plain": [
       "<Figure size 1000x800 with 1 Axes>"
      ]
     },
     "metadata": {},
     "output_type": "display_data"
    }
   ],
   "source": [
    "# Create a DataFrame with the coordinates\n",
    "mds_df = pd.DataFrame(\n",
    "    mds_coordinates,\n",
    "    index=brands,\n",
    "    columns=['Dimension 1', 'Dimension 2']\n",
    ")\n",
    "\n",
    "# Plotting\n",
    "plt.figure(figsize=(10, 8))\n",
    "plt.scatter(mds_df['Dimension 1'], mds_df['Dimension 2'], color='blue')\n",
    "\n",
    "# Annotate points with brand names\n",
    "for brand, x, y in zip(mds_df.index, mds_df['Dimension 1'], mds_df['Dimension 2']):\n",
    "    plt.text(x, y, brand.capitalize(), fontsize=9, ha='right', va='bottom')\n",
    "\n",
    "plt.title('MDS Map of Top 10 Brands')\n",
    "\n",
    "# Remove axis labels\n",
    "plt.xlabel('')\n",
    "plt.ylabel('')\n",
    "\n",
    "# Remove axis numbers (ticks)\n",
    "plt.xticks([])\n",
    "plt.yticks([])\n",
    "\n",
    "# Remove the axes spines\n",
    "plt.axis('off')\n",
    "\n",
    "plt.show()\n",
    "\n",
    "#test blah blah\n"
   ]
  },
  {
   "cell_type": "markdown",
   "id": "0c36daec-6a9c-4266-a8c5-65d92c34651f",
   "metadata": {},
   "source": [
    "# Task E: Insights from Tasks C and D."
   ]
  },
  {
   "cell_type": "markdown",
   "id": "11355dc2-ce8b-4a9b-b560-710bb18a49b9",
   "metadata": {},
   "source": [
    "# Insights and Advice"
   ]
  },
  {
   "cell_type": "markdown",
   "id": "a52caa76-8f23-4a61-b472-af3d57b91705",
   "metadata": {},
   "source": [
    "# Task F: Identifying the top 5 most frequently mentioned attributes or features of cars in the discussions and which attributes are strongly associated with which of the 5 brands."
   ]
  },
  {
   "cell_type": "code",
   "execution_count": null,
   "id": "d07844b7-9dba-4b85-99fd-2f111001cf43",
   "metadata": {},
   "outputs": [],
   "source": [
    "# Need to clarify wording with professor on wording of this question."
   ]
  },
  {
   "cell_type": "markdown",
   "id": "3d4259bf-8f97-46d9-9879-d8f16538611e",
   "metadata": {},
   "source": [
    "# Task G: Advice for Client based on Task F."
   ]
  },
  {
   "cell_type": "markdown",
   "id": "0377463a-785c-4792-98ee-20589c446aca",
   "metadata": {},
   "source": []
  },
  {
   "cell_type": "markdown",
   "id": "7e861b2e-8299-4cb3-b9ef-11245724699e",
   "metadata": {},
   "source": [
    "# Task H: Identifying the most aspirational brand in the data in terms of people wanting to actually buy or own."
   ]
  },
  {
   "cell_type": "code",
   "execution_count": 136,
   "id": "11094693-10a5-47ff-a4be-20b0cc6cd9c9",
   "metadata": {},
   "outputs": [
    {
     "data": {
      "text/plain": [
       "11"
      ]
     },
     "execution_count": 136,
     "metadata": {},
     "output_type": "execute_result"
    }
   ],
   "source": [
    "# Describe analyses\n",
    "    # Describe how we measured \"aspirational\" and how we found the most aspirational brand. \n",
    "# Describe business implications for this brand\n"
   ]
  },
  {
   "cell_type": "code",
   "execution_count": 162,
   "id": "e5affecd",
   "metadata": {},
   "outputs": [],
   "source": [
    "def check_for_phrase(aspiring_word, df = df_original):\n",
    "\n",
    "    print(len(df[df['Message'].str.contains(aspiring_word)]), \"results\")\n",
    "    print()\n",
    "\n",
    "    for i in df[df['Message'].str.contains(aspiring_word)]['Message']:\n",
    "        print(\"NEW LINE:\")\n",
    "        print()\n",
    "        print(i)\n",
    "        print()"
   ]
  },
  {
   "cell_type": "code",
   "execution_count": 163,
   "id": "5620b343",
   "metadata": {},
   "outputs": [
    {
     "name": "stdout",
     "output_type": "stream",
     "text": [
      "8 results\n",
      "\n",
      "NEW LINE:\n",
      "\n",
      "Point taken, but my sense is that the S3 was, much more of an economy class vehicle -- hence my remark that this freshman effort might have been better if it had come out from the VW side of the house. Even a sub-$50K S4 has a substantially more solid feel; and the look at the interior one enjoys and can touch and feel from behind the wheel is, well, Premium.\n",
      "\n",
      "I like the phrase: \"cheap car that's really nice\" -- unfortunately, I can't say I thought the feel of the S3 was in keeping with the rest of the Audi lineup we get here in the US.\n",
      "\n",
      "I read an article about the ways mfgrs approach cutting costs -- one of the mentioned ways was that a car company can elect to make the surfaces you see, but don't touch often, much thinner or with a lower grade of whatever material the surface is made of; also the \"glove box\" can be made of a cardboard like material and so forth.\n",
      "\n",
      "The S3 seemed much more like every \"trick\" in the book to drive cost down was used, much moreso than the other Audis and BMWs we have had since 1977. My 2014 S4, by contrast simply feels more substantial.\n",
      "\n",
      "Now, then, I have not seen the upcoming B9 A4/S4 family coming in 2016; and, it is possible, certainly, that it may have adopted the wring cost out \"attitude\" the A3 family seems to have embraced. If so, more's the pity.\n",
      "\n",
      "Also, the new \"el cheapo\" economy Mercedes (below the C class) seems, too, like a cheapening of the brand.\n",
      "\n",
      "For these companies, I would suggest they look at a similar (failed) attempt to bring out \"lower cost\" representations of the brand by BMW.\n",
      "\n",
      "I think I, too, would rather have \"a cheap car that's really nice\".\n",
      "\n",
      "Perhaps Mercedes can't bring out a non-Mercedes brand, \"economy car,\" but Audi, I think, should have brought out the A3 as a nicer VW than a not-as-nice Audi.\n",
      "\n",
      "In our market, Toyota got it and came out with the Lexus brand, Honda the Acura brand and Nissan the Infiniti brand. For years, too, GM saw the market approach that seemed to work was to \"always have another brand to aspire to\" starting with Chevy and topping out at Cadillac. I understand the Buick Regal GS is a very competent, \"nice\", car -- but I also believe GM doesn't have, in the Regal, a Cadillac ATS clone.\n",
      "\n",
      "When the accountants (so it was said) started to rule the day, we started seeing badge engineering -- and while platform sharing does make some sense, taken to extremes, it can also sound the death knell for a previously great brand. Does anyone here really care that Ford dropped Mercury a few short years ago? There was, really, nothing special about them compared to their virtual twin Ford models. There was a time, however, that Mercury was different, some would say special, more special than a Ford.\n",
      "\n",
      "Lincoln is probably still on the endangered species list for similar reasons. At least Cadillac, to name one, has differentiated itself from Chevy and Buick. Had it not, we could very well have started carving Cadillac's tombstone.\n",
      "\n",
      "Mercedes and Audi, for example, may have started on a slippery slope as my attorney friends like to say.\n",
      "\n",
      "Does Rolex make any \"economy class\" time pieces?\n",
      "\n",
      "NEW LINE:\n",
      "\n",
      "My 2₵: The Value of Allure\n",
      "\n",
      "Our “highways” – well not all of our highways, roads and streets – used to be something most of us looked forward to embarking upon in our cars – even in what for most of us in hindsight were piece-of-crap cars; e.g., my first car – one of mom and dad’s two cars – was an early ‘60’s vintage VW beetle (the thing didn’t even have a gas gauge). Shortly after I got my license and had pretty much resigned myself to driving a 36HP stick shift car with a fabric sunroof and AM radio and a sort-of heater, dad traded \"up\" (?) for a Plymouth Valiant with a slant-6 engine and a “three on the tree” stick shift (and first gear was not synchronized). This four-door “babe repellent” also had an AM radio, but it was also equipped with factory A/C – which seemed odd for an otherwise stripped of all creature comforts vehicle.\n",
      "\n",
      "I loved these cars – I knew they were pieces-of-crap, but I blocked that from my thoughts since these cars gave me freedom, tunes (on the AM) and what felt like unlimited mobility to drive from my bucolic and very sleepy, very little town (pop. 2,700 assuming everyone was home) north of Dayton, Ohio, to the big city (Dayton, if you’re wondering is still just barely a city in my opinion). Truth of the matter is that I rarely needed to drive the 50 mile round trip to Dayton, nor could I regularly afford the 50₵ worth of Clark’s premium gas (Clark only sold premium gas at that time, if you’re wondering) required for such an adventurous outing.\n",
      "\n",
      "Today, in contrast, our highways and byways now no longer symbolize [much] freedom, rather they are often seen as barriers to freedom:\n",
      "\n",
      "“Well I left my job about 5 o'clock, it took fifteen minutes go three blocks,\n",
      "Just in time to stand in line with a freeway looking like a parking lot.\n",
      "Damn this traffic jam, how I hate to be late, it hurts my motor to go so slow.\n",
      "Damn this traffic jam, time I get home my supper'll be cold, damn this traffic jam.”\n",
      "\n",
      "James Taylor\n",
      "\n",
      "When my 16 year-old-self got behind the wheel, it was darn near magical, the car was a mechanical being, to be sure, but somehow I was able to anthropomorphize my steed (really, a 36HP VW Beetle was a steed, no kidding) – it became an extension of me, I was no longer driving a machine, I was driving art, it was so cool it was hot. Crank up the single-speaker AM radio until it distorted and back off the volume a quarter turn and carefully balance the “tone control” to pump out all the bass that piece-of-crap speaker could muster.\n",
      "\n",
      "Everything was possible.\n",
      "\n",
      "Now, I have to admit, as much as the VW Beetle was not exactly a babe magnet, well the Valiant was truly a babe repellent, even though I figured out how to double clutch the thing to make certain I didn’t “grind a pound” every time I shifted to first-gear. Even so, the Valiant still represented possibilities and made promises to me (that it virtually never kept, I must admit).\n",
      "\n",
      "Still, everything was possible (in cars).\n",
      "\n",
      "Sundays, dad always would say “Let’s go for a little ride”. Off we’d go: Mom, dad and me in the other family car, the ’63 Chrysler Newport with push-button transmission, power steering and power brakes and both front and rear AM radio speakers. This one had aftermarket A/C even though dad bought it brand new from the next not-as-little town over Chrysler-Plymouth dealer. Ah, a big V8 and torsion-quiet ride, big whitewalls, bias-ply tires and full wheel covers – chrome everywhere – bling! Someday this will be mine I thought.\n",
      "\n",
      "This car would be a babe magnet, I was sure of it.\n",
      "\n",
      "Today, some of us, probably most of us, have lost that sense of possibility when we get behind the wheel, after all most Americans are getting into appliances, machines that simply cannot be anthropomorphized; and we’re getting to roads that allow movement like a pig through a python. In fact, if the 16-year-old's on my street are any indication, the future drivers aren’t even interested in driving until mom and dad make them by telling them “We’re not going to continue being your taxi service any more”.\n",
      "\n",
      "Then, the automobile gave us a sense of excitement, perhaps danger (benign danger, mostly, but we certainly thought we were baaaad dudes: \"Man, c'mon let's un-tuck our shirts and put masking tape over the word, 'root' on our root beer bottles\") – a sense that we were darn near outlaws, men (boys, really) without rules, barely a code, to constrain our freedoms. Woo hoo, “We're back in the saddle again”.\n",
      "\n",
      "Today, we’re mostly left with a deteriorating highway infrastructure that really can be dangerous, but driving cars that are, if nothing else, certainly very much less deadly but mostly without any gravitational pull. The fact that a KIA (fill in the blank) or Toyota (fill in the blank) is quicker, faster, safer, almost pollution free (by comparison), comfortable as can be and will have power everything, possibly GPS and probably AM, FM, and Satellite Radio, plus CD, Bluetooth and iPhone connectivity for the iPod function doesn’t forgive the allure that even in “SE” guise these appliances lack. I mean, really, my piece-of-crap VW Beetle had more allure than many of the things that pass as cars today possess – combined.\n",
      "\n",
      "Not many of us care either, as a glance or even a stare out of your office window to the highway below can attest. The cars go by and perhaps one in fifty is worth another second or two of your gaze. In a few short years, certainly less than a decade, the cars will be driving themselves about 75% of the time, because no one gives a damn. The cars lack allure. We’re over them. If there were unlimited mass-transit \"tubes\" that you could hop in and out of on a whim, well hell, why bother at all to go for another new Mazda or Chevy or Ford or Dodge (fill in the blank)? Nothing to see here, move along, you’ve got homes, let’s get to ‘em.\n",
      "\n",
      "Those of us on the entry level (or Premium class) luxury performance board here know about allure – FN’s trip to Europe driving a new BMW (his BMW, not a rental), now that’s what we should all aspire to. We’re again on the precipice. Again? Yep, we’re about to lose something we’ve always had – the sense that our cars are an extension of ourselves, hand-in-glove, everything’s possible (when we're in our cars). Gone, too, is the romance of the “little ride” with our parents or with our children. The thrill (of the next time I get to drive) is gone (one hopes not forever) for many. The romance, nay, the sex-appeal of sliding in behind the wheel of your new Chevy Caprice almost has no contemporary analogy except for those who allow themselves at least a $50,000 car purchase.\n",
      "\n",
      "Does it really take $50,000 to get allure? And, if so, how did it come to this? My father was a 6th grade math teacher, my mom a librarian, almost all cars purchased were “previously owned” (there were only 2 exceptions out of all the cars they ever bought that I can recall), yet “my” cars, my piece-of-crap cars were alluring, exciting, almost thrilling. I contend it is not necessary to spend $50,000 or more for an alluring car. I also contend that there are few car companies that realize they are killing or perhaps already have killed their future customers' interest in their products by not building alluring cars at virtually every price point. [Frankly, KIA may be one of the few exceptions despite my inclusion re: non-alluring and comments above.]\n",
      "\n",
      "Now where did I put the keys to that Valiant?\n",
      "\n",
      "NEW LINE:\n",
      "\n",
      "Millions buy a Honda or Toyota because it is all they can afford, they are not \"settling\". It's hard for some to understand that it seems.  Some even aspire to same.\n",
      "\n",
      "NEW LINE:\n",
      "\n",
      "Let's get the name correct, Ford for some stupid reason is calling it a Lincoln Continental, personally I think the Lincoln name needs to be dropped, make the new Continental something you want as aspire to own..\n",
      "\n",
      "NEW LINE:\n",
      "\n",
      "My son is a good example. First job, new car, tight finances. He got a Jetta. SE. Wanted a GLI, but got in fold and hooked on German cars. Already planning next one. Drools on an S3. Will probably settle for an A3. After that, will depend on how his budget (and family if one comes along) grows! But he does aspire to move up the ladder.\n",
      "\n",
      "NEW LINE:\n",
      "\n",
      "I would assume you were not the target buyer of the car you bought/leased.\n",
      "\n",
      "I know the Audi brand better so hopefully this is a reasonable parallel:\n",
      "\n",
      "The new Audi A3 -- even the S3 -- is not at all attractive to me. The new Q3, likewise, doesn't do it for either my wife or me. I'd bet even the eventual RS Q3 will not be attractive to us. Maybe it is the size of the A3, maybe it is that it seems a class lower in terms of the materials used throughout the interior. I would, therefore, assume if I were to acquire an A3, even the Prestige quattro version with the most potent turbo-4, I would be working hard to figure out how to ditch it at the first opportunity.\n",
      "\n",
      "Come to think of it, it probably isn't the size of the A3 or Q3, it is just that it seems too much like it is an Audi-light vehicle (and I'm not speaking of it's curb weight.) The CLA Mercedes and the BMW 1 series, likewise just don't do it for me. My wife was loaned a 1 series (and it had the turbo i-6) BMW -- I drove it, very powerful, but it seemed, somehow, \"cheaper\" in the materials it was made out of. The Q3, which we had for a day and a half earlier this year, didn't have the cheapness issue I noted in the A3, but it was way, way underpowered -- it felt like a Tiguan (doh! it is a fancy Tiguan, after all).\n",
      "\n",
      "All of our Audis have felt at least adequately powered, so the current Q3 seems like it was pulled out of the oven before it was done. Maybe I'll change that opinion once the regular Audi 2.0T engine is in place.\n",
      "\n",
      "The $50,000 S3 was twitchy, like a go cart is twitchy, it was noisy at speed on interstate 275, where I drive every day in my quiet S4. The vast expanse of black plastic on the dash looked like something out of the rental fleet at Budget, not something that the sales person has to say with a straight face: \"we can sell this one for $47,900!\"\n",
      "\n",
      "So, you leased a left over BMW that was probably meant for a younger, earlier in their earnings arc, customer. You paid too little, got too little and were underwhelmed.\n",
      "\n",
      "On the other end of the scale, you may have been equally unhappy with an Audi A8 -- or BMW 7 series. These cars are developed with input from design, engineering, marketing, production/manufacturing and of course, finance. When deciding what to do, I would imagine those in charge decide \"there is a target market for an X5, an X3 and now an X1.\" There's also a market, a narrow market I would imagine, for the X6.\n",
      "\n",
      "Those $70,$80 and $90,000+ 4-door German coupes from Audi and Mercedes are not marketed, I would assume, to a 23-year old with a freshly minted MBA from Ohio State or a 25-year old who just completed his/her JD from the University of Cincinnati College of Law.\n",
      "\n",
      "Is the wider net a good thing to do? I probably would have said no a couple or three years ago, but maybe now, the market is such that these premium makers want to get them (the customers) early (aka \"young\") and make certain there are upmarket models \"within the family\" to aspire to.\n",
      "\n",
      "My sales rep at the Audi Connection told me his wife wanted a new Audi Q3 -- he had to carefully market and sell his wife first AGAINST the Q3 and then move her thinking to the Q5 or Q7, stopping along the way at the A4 based allroad. Why? Well, the Q3 was \"not enough car\" for her as a Fortune 500 executive with three children aged from 12 to 15, a big dog (her husband) and a border collie. The Q3 would have been a fine choice about 14 years ago.\n",
      "\n",
      "And this guy sells cars for a living -- no longer are car sales people \"order takers\" (if they ever were).\n",
      "\n",
      "Hopefully you get my drift -- your expectations and your \"situation\" were not a good match for the leftover BMW you leased -- and it was a disservice to you to not shepherd you through the buying process. I think you weren't given what you needed to make an informed decision.\n",
      "\n",
      "NEW LINE:\n",
      "\n",
      "I think disagreement regarding FWD is a good thing. I have had many -- or at least \"several\" FWD cars from US and German mfgrs over the years and I found them worthy of many things, perhaps even inclusion into the ELLPS and LPS rank and file.\n",
      "Funny, sort of, it used to be that 4-cylinder motivated cars need not apply. Well, my my my how things have changed. I'd be (I've been) proud and pleased to have a 4-cylinder BMW or Audi and probably I'd be fine with an ATS with a 4-cylinder motivator too.\n",
      "Right now, today, at this instant, however, I believe FWD vehicles need not apply -- regardless of how you and I may feel and think about the subject. I think the bias, right now, against FWD is so strong it may be \"stronger than dirt\"! Evidence the Genesis \"brand\" -- Genesis eschewed anything but RWD for the first generation, now with the new ones, they're offering up both RWD and AWD in the 6-cylinder version and promised AWD in the 8 \"soon\". FWD, currently and based on much that I read here and by the pros is like an embarrassing tattoo you got one night when you were \"not quite right\" for some reason. You're working on getting rid of it ASAP, but these things take time.\n",
      "On the other hand, who knows, the benefits (and there are many) of FWD may win out after all. Just remember that FWD was initially put in cars to make them cheaper (to make and buy). There is, for some, a stigma associated with \"FWD\" cars that aspire to be in the Premium, ELLPS, LPS, High-end luxury or Super luxury class. Same holds true for sports cars, super cars and exotics -- they are (or must be to not be posers) RWD or AWD. Mercedes did bring out the CLA as FWD, to be sure -- and there is some risk there (but it can be had with AWD); the A3 is also FWD (like most Audi models) and offers up AWD. At this point ALL incoming inventory for the A3's (here in Cincinnati) will be quattros. That may change.\n",
      "The ATS and CTS were rendered from the get-go as RWD (with AWD available) because that is what is (NOW, today) expected.\n",
      "Luxury may or may not = \"Snobbery\". We're talking, here, on this forum, about some variation of a type that contains the words: Luxury, Performance, Sedan -- entry level or not. Luxury is beyond (above? beside? below? -- pick one) being based on \"pure function\", I think is safe to say.\n",
      "Luxury means to most of us, I assume, \"stuff\", features, amenities, capabilities, levels of refinement beyond what is \"basic\", beyond what is strictly necessary. If you think this equates to brand snobbery, even if I conceded (personally) your point, even if I 100% agreed with you, this is the place where \"we\" are going to discuss, debate, and perhaps even politely argue about luxury cars (that happen to also be capable of a decent amount of \"high\" performance).\n",
      "So yes, brand snobbery is \"a\" criteria for this discussion, just not necessarily \"my\" criteria to be a member of \"the club\". However, I can somewhat sense saying \"If the shoe fits\" isn't an inappropriate thought.\n",
      "I saw a very long and impressive video about the Chrysler 300C when it first came out -- and the Chrysler engineers involved in rendering this fine car kept comparing it to an Audi A8.\n",
      "I love the 300C, especially the ones with the refreshed interiors and AWD, but Senator, \"I've known A8's and you ain't no Audi A8.\"\n",
      "The point is, we -- here -- are but PART of the market -- and we may disagree with the overall market's standards and definitions (and they keep changing all of the time) -- but we need to recognize, I think, the prevailing trends, ideas and standard-bearers. I'm operating under the assumption that this ELLPS forum is one of the places to be able to discuss certain brands and not have to apologize that they aren't in a more hoi polloi category in a manner of speaking.\n",
      "\n",
      "NEW LINE:\n",
      "\n",
      "I do like, very much, my Victorinox Swiss Army watch -- I think it, in some ways, looks nicer than the Tag. But, the thing is, the Victorinox is not a \"luxury\" watch. A new Malibu LTZ (a very attractive looking car), is also not an Infiniti, Lexus, BMW, Audi, Mercedes -- it even doesn't fit in the same class as the Volvo S60.\n",
      "We're here -- well some of us are -- in ELLPS land perhaps because we \"choose\" not to buy/lease an LPS automobile. Perhaps some of us -- as Alfred Sloan imagined -- would start with a Chevy and aspire to a Pontiac, Oldsmobile, Buick and ultimately a Cadillac. I suspect Sloan is the father of the term \"aspirational\" as it applied to cars.\n",
      "We're here, I'll bet, because we either aspire to an ELLPS, have an ELLPS and aspire to an LPS or are just car-nuts who know the good stuff comes from Audi, BMW, Infiniti, etc.\n",
      "I was wondering today when the last time I saw a Phaeton was -- years ago is all I could come up with. Saw several A8's today, however. I test drove a Phaeton (way back when) which was seriously discounted and sub-vented (and as a reminder I owned an A8) thinking I could get a \"new A8\" for a fraction of the cost by going with the Phaeton. The Phaeton was, closed eyes, an A8. Same sweeeet 4.2L V8, quattro (well, you know) etc. I just couldn't bring myself to pull the trigger -- probably the biggest bargain I'll ever see. Damn HUGE-[non-permissible content removed] \"VW\" emblem on the thing.\n",
      "Instead of the bargain it probably was, I knew I would be thinking, \"I paid THIS MUCH for a VW?!? What was I thinking?\"\n",
      "You know I still think if you can't or won't go with an S4, the next best thing is the Acura TL SH-AWD Advance (and I assume the TLX is even better). Even my non-car loving friends called my TL \"a Honda.\" Slamming the tinny doors was just enough of a confirmation of that notion to remind me that the Acura brand had slipped from Premium status.\n",
      "My wife collects pens -- I have perhaps four or five (that were gifts from her) -- I probably would not go out and buy a new 4-figure MontBlanc, but I do notice when I see Brian Williams use one on the air. My MontBlancs (3 of them) are all the pens I need (one of them broke and I had to send it to Germany to get it fixed -- seems as good as new). My wife must get 6 new pens per year. I sort of get it. Until her current car (the SQ5 Prestige), she liked cars, but wasn't really \"passionate\" about them.\n",
      "Get this, for about 15 minutes she actually considered a Subaru -- which was pretty nice, but kind of trucky and not at all luxurious or even terribly sporty. I knew she would love the price and by the time she needed her second tank of gas would be \"praying for the end of time\" (Meat Loaf).\n",
      "Now, however, she is \"into cars\" and is unlikely to aspire to anything other than an Audi or a BMW -- I can't see reverse aspiration being a viable option (for her or for most people, in fact).\n",
      "Anyway, this collection of ELLPS cars is perhaps the most exciting and \"strokable\" lot in all of cardom. It is here that we see innovation (often before the LPS offerings, even from the same brand), performance and often a huge leap up from even the top of the next lower line.\n",
      "Remember the Phaeton, long live the Phaeton.\n",
      "You know how to drive it . . . .\n",
      "\n"
     ]
    }
   ],
   "source": [
    "check_for_phrase(\"aspire to\")"
   ]
  }
 ],
 "metadata": {
  "kernelspec": {
   "display_name": "Python 3 (ipykernel)",
   "language": "python",
   "name": "python3"
  },
  "language_info": {
   "codemirror_mode": {
    "name": "ipython",
    "version": 3
   },
   "file_extension": ".py",
   "mimetype": "text/x-python",
   "name": "python",
   "nbconvert_exporter": "python",
   "pygments_lexer": "ipython3",
<<<<<<< HEAD
   "version": "3.11.4"
=======
   "version": "3.10.9"
>>>>>>> refs/remotes/origin/main
  }
 },
 "nbformat": 4,
 "nbformat_minor": 5
}
