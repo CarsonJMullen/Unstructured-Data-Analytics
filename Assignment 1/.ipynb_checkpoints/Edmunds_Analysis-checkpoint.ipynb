{
 "cells": [
  {
   "cell_type": "markdown",
   "id": "292a437b-c143-4fa4-8901-e94c8c4d9c7a",
   "metadata": {},
   "source": [
    "**Team Members: Ethan Wong, Timmy Ren, Mason Shu, Medha Nalamada, Carson Mullen, Bethel Kim**"
   ]
  },
  {
   "cell_type": "markdown",
   "id": "3c35e596-29fe-4a7a-b65a-dec20e12ec5c",
   "metadata": {},
   "source": [
    "*Note to all: Please pull any changes from the repo before working on this file!*"
   ]
  },
  {
   "cell_type": "markdown",
   "id": "eaa2a6a0-7b21-4ec8-a4db-dd7413b3e0c7",
   "metadata": {},
   "source": [
    "# Scraping from Edmunds.com"
   ]
  },
  {
   "cell_type": "code",
   "execution_count": 14,
   "id": "69a8b31c-fcbf-4251-bc53-690acd790cc1",
   "metadata": {},
   "outputs": [],
   "source": [
    "# Installing necessary libraries\n",
    "\n",
    "# !pip install selenium\n",
    "# !pip install google-colab-selenium\n",
    "# !pip install nltk\n",
    "# !pip install webdriver-manager"
   ]
  },
  {
   "cell_type": "code",
   "execution_count": 1,
   "id": "496b35aa-9693-4283-a43d-ae6c2ff1d5e7",
   "metadata": {},
   "outputs": [],
   "source": [
    "# Running necessary libraries\n",
    "\n",
    "import pandas as pd\n",
    "import nltk\n",
    "from nltk.corpus import stopwords\n",
    "from selenium import webdriver\n",
    "from selenium.webdriver.chrome.service import Service\n",
    "from selenium.webdriver.chrome.options import Options\n",
    "from webdriver_manager.chrome import ChromeDriverManager\n",
    "from collections import Counter\n",
    "import re\n",
    "import numpy as np\n",
    "from scipy import stats\n",
    "import matplotlib.pyplot as plt\n",
    "from collections import defaultdict\n",
    "from itertools import combinations"
   ]
  },
  {
   "cell_type": "code",
   "execution_count": 21,
   "id": "142d7894-603e-44db-9913-a485e11293e0",
   "metadata": {},
   "outputs": [],
   "source": [
    "#nltk.download('stopwords')\n",
    "\n",
    "stop_words = set(stopwords.words('english'))\n",
    "\n",
    "def remove_stopwords(sentences):\n",
    "    filtered_sentences = []\n",
    "    for sentence in sentences:\n",
    "        words = sentence.split()\n",
    "        filtered_words = [word for word in words if word.lower() not in stop_words]\n",
    "        filtered_sentence = ' '.join(filtered_words)\n",
    "        filtered_sentences.append(filtered_sentence)\n",
    "\n",
    "    return filtered_sentences"
   ]
  },
  {
   "cell_type": "markdown",
   "id": "6ef0e348-5d91-444b-9b53-013fba3922b5",
   "metadata": {},
   "source": [
    "We decided to choose the newest posts for our analyses!"
   ]
  },
  {
   "cell_type": "code",
   "execution_count": 18,
   "id": "869efe92-afee-4ddb-ae90-fe34f3260f09",
   "metadata": {},
   "outputs": [
    {
     "name": "stdout",
     "output_type": "stream",
     "text": [
      "Scraping page 435\n",
      "Scraping page 434\n",
      "Scraping page 433\n",
      "Scraping page 432\n",
      "Scraping page 431\n",
      "Scraping page 430\n",
      "Scraping page 429\n",
      "Scraping page 428\n",
      "Scraping page 427\n",
      "Scraping page 426\n",
      "Scraping page 425\n",
      "Scraping page 424\n",
      "Scraping page 423\n",
      "Scraping page 422\n",
      "Scraping page 421\n",
      "Scraping page 420\n",
      "Scraping page 419\n",
      "Scraping page 418\n",
      "Scraping page 417\n",
      "Scraping page 416\n",
      "Scraping page 415\n",
      "Scraping page 414\n",
      "Scraping page 413\n",
      "Scraping page 412\n",
      "Scraping page 411\n",
      "Scraping page 410\n",
      "Scraping page 409\n",
      "Scraping page 408\n",
      "Scraping page 407\n",
      "Scraping page 406\n",
      "Scraping page 405\n",
      "Scraping page 404\n",
      "Scraping page 403\n",
      "Scraping page 402\n",
      "Scraping page 401\n",
      "Scraping page 400\n",
      "Scraping page 399\n",
      "Scraping page 398\n",
      "Scraping page 397\n",
      "Scraping page 396\n",
      "Scraping page 395\n",
      "Scraping page 394\n",
      "Scraping page 393\n",
      "Scraping page 392\n",
      "Scraping page 391\n",
      "Scraping page 390\n",
      "Scraping page 389\n",
      "Scraping page 388\n",
      "Scraping page 387\n",
      "Scraping page 386\n",
      "Scraping page 385\n",
      "Scraping page 384\n",
      "Scraping page 383\n",
      "Scraping page 382\n",
      "Scraping page 381\n",
      "Scraping page 380\n",
      "Scraping page 379\n",
      "Scraping page 378\n",
      "Scraping page 377\n",
      "Scraping page 376\n",
      "Scraping page 375\n",
      "Scraping page 374\n",
      "Scraping page 373\n",
      "Scraping page 372\n",
      "Scraping page 371\n",
      "Scraping page 370\n",
      "Scraping page 369\n",
      "Scraping page 368\n",
      "Scraping page 367\n",
      "Scraping page 366\n",
      "Scraping page 365\n",
      "Scraping page 364\n",
      "Scraping page 363\n",
      "Scraping page 362\n",
      "Scraping page 361\n",
      "Scraping page 360\n",
      "Scraping page 359\n",
      "Scraping page 358\n",
      "Scraping page 357\n",
      "Scraping page 356\n",
      "Scraping page 355\n",
      "Scraping page 354\n",
      "Scraping page 353\n",
      "Scraping page 352\n",
      "Scraping page 351\n",
      "Scraping page 350\n",
      "Scraping page 349\n",
      "Scraping page 348\n",
      "Scraping page 347\n",
      "Scraping page 346\n",
      "Scraping page 345\n",
      "Scraping page 344\n",
      "Scraping page 343\n",
      "Scraping page 342\n",
      "Scraping page 341\n",
      "Scraping page 340\n",
      "Scraping page 339\n",
      "Scraping page 338\n",
      "Scraping page 337\n",
      "Scraping page 336\n",
      "Scraping page 335\n",
      "Collected 5000 unique posts, stopping at page 336\n"
     ]
    }
   ],
   "source": [
    "# Set up Selenium to use Chrome browser\n",
    "chrome_options = Options()\n",
    "chrome_options.add_argument(\"--headless\")  # Run in headless mode (without opening a browser window)\n",
    "chrome_service = Service(ChromeDriverManager().install())\n",
    "driver = webdriver.Chrome(service=chrome_service, options=chrome_options)\n",
    "\n",
    "# Access the last page of the discussion\n",
    "last_page = 435 \n",
    "url = f'https://forums.edmunds.com/discussion/2864/general/x/entry-level-luxury-performance-sedans/p{last_page}'\n",
    "driver.get(url)\n",
    "\n",
    "# Extract elements containing the messages and dates\n",
    "elements = driver.find_elements(\"xpath\", \"//div[contains(@class,'Message') and contains(@class,'userContent')]\")\n",
    "elements2 = driver.find_elements(\"xpath\", \"//span[@class='MItem DateCreated']//time\")\n",
    "\n",
    "text = []\n",
    "dates = []\n",
    "unique_messages = set()  # Set to track unique messages\n",
    "\n",
    "print(f\"Scraping page {last_page}\")\n",
    "for element in elements:\n",
    "    # Find blockquotes within the element and remove their text\n",
    "    blockquote_elements = element.find_elements(\"xpath\", \".//blockquote\")\n",
    "    message = element.text\n",
    "\n",
    "    for blockquote in blockquote_elements:\n",
    "        message = message.replace(blockquote.text, \"\")\n",
    "\n",
    "    if message not in unique_messages:\n",
    "        text.append(message.strip())\n",
    "        unique_messages.add(message)\n",
    "\n",
    "for element in elements2:\n",
    "    dates.append(element.text)\n",
    "\n",
    "# Loop through pages in reverse order\n",
    "for i in range(last_page - 1, 0, -1):\n",
    "    print(f\"Scraping page {i}\")\n",
    "    url = f'https://forums.edmunds.com/discussion/2864/general/x/entry-level-luxury-performance-sedans/p{i}'\n",
    "    driver.get(url)\n",
    "\n",
    "    elements = driver.find_elements(\"xpath\", \"//div[contains(@class,'Message') and contains(@class,'userContent')]\")\n",
    "    elements2 = driver.find_elements(\"xpath\", \"//span[@class='MItem DateCreated']//time\")\n",
    "\n",
    "    for element in elements:\n",
    "        # Find blockquotes within the element and remove their text\n",
    "        blockquote_elements = element.find_elements(\"xpath\", \".//blockquote\")\n",
    "        message = element.text\n",
    "        \n",
    "        for blockquote in blockquote_elements:\n",
    "            message = message.replace(blockquote.text, \"\")\n",
    "        \n",
    "        if message not in unique_messages:\n",
    "            text.append(message.strip())\n",
    "            unique_messages.add(message)\n",
    "        if len(text) >= 5000:\n",
    "            break  # Stop collecting once we have 5000 unique posts\n",
    "\n",
    "    for element in elements2:\n",
    "        dates.append(element.text)\n",
    "        if len(text) >= 5000:\n",
    "            break  # Stop collecting once we have 5000 unique posts\n",
    "\n",
    "    if len(text) >= 5000:\n",
    "        print(f\"Collected 5000 unique posts, stopping at page {i+1}\")\n",
    "        break\n",
    "\n",
    "    \n",
    "\n",
    "# Close the browser\n",
    "driver.quit()\n",
    "\n",
    "# Ensure the lengths of text and dates are the same before saving\n",
    "if len(text) > len(dates):\n",
    "    text = text[:len(dates)]\n",
    "elif len(dates) > len(text):\n",
    "    dates = dates[:len(text)]"
   ]
  },
  {
   "cell_type": "code",
   "execution_count": 2,
   "id": "8a2769d3-c3be-43a7-a4ba-dc49d51ac740",
   "metadata": {},
   "outputs": [
    {
     "ename": "NameError",
     "evalue": "name 'text' is not defined",
     "output_type": "error",
     "traceback": [
      "\u001b[0;31m---------------------------------------------------------------------------\u001b[0m",
      "\u001b[0;31mNameError\u001b[0m                                 Traceback (most recent call last)",
      "Cell \u001b[0;32mIn[2], line 2\u001b[0m\n\u001b[1;32m      1\u001b[0m \u001b[38;5;66;03m# Create a DataFrame and save it to a CSV file\u001b[39;00m\n\u001b[0;32m----> 2\u001b[0m df_original \u001b[38;5;241m=\u001b[39m pd\u001b[38;5;241m.\u001b[39mDataFrame({\u001b[38;5;124m'\u001b[39m\u001b[38;5;124mMessage\u001b[39m\u001b[38;5;124m'\u001b[39m: \u001b[43mtext\u001b[49m, \u001b[38;5;124m'\u001b[39m\u001b[38;5;124mDate\u001b[39m\u001b[38;5;124m'\u001b[39m: dates})\n\u001b[1;32m      3\u001b[0m df_original\u001b[38;5;241m.\u001b[39mto_csv(\u001b[38;5;124m'\u001b[39m\u001b[38;5;124mScrapedData.csv\u001b[39m\u001b[38;5;124m'\u001b[39m, index\u001b[38;5;241m=\u001b[39m\u001b[38;5;28;01mFalse\u001b[39;00m, encoding\u001b[38;5;241m=\u001b[39m\u001b[38;5;124m'\u001b[39m\u001b[38;5;124mutf-8\u001b[39m\u001b[38;5;124m'\u001b[39m) \u001b[38;5;66;03m# Use this for task A!\u001b[39;00m\n\u001b[1;32m      5\u001b[0m \u001b[38;5;66;03m# Remove stopwords and save the modified data\u001b[39;00m\n",
      "\u001b[0;31mNameError\u001b[0m: name 'text' is not defined"
     ]
    }
   ],
   "source": [
    "# Create a DataFrame and save it to a CSV file\n",
    "df_original = pd.DataFrame({'Message': text, 'Date': dates})\n",
    "df_original.to_csv('ScrapedData.csv', index=False, encoding='utf-8') # Use this for task A!\n",
    "\n",
    "# Remove stopwords and save the modified data\n",
    "df = df_original.copy()\n",
    "text = remove_stopwords(text)\n",
    "df['Message'] = text\n",
    "df.to_csv('ScrapedDataMod.csv', index=False, encoding='utf-8') # Use this for task B onwards!"
   ]
  },
  {
   "cell_type": "markdown",
   "id": "a90be00a-f2ef-432a-a8f4-1095a270f949",
   "metadata": {},
   "source": [
    "# Task A: Testing Zipf's law econometrically and plotting the most common 100 words in the data against the theoretical prediction of the law.\n",
    "\n",
    "Note: Stopwords not removed, and stemming or lemmatization not performed."
   ]
  },
  {
   "cell_type": "code",
   "execution_count": 3,
   "id": "170c430e",
   "metadata": {},
   "outputs": [],
   "source": [
    "# Load dataframes (to not scrape again)\n",
    "\n",
    "df_original = pd.read_csv('ScrapedData.csv')\n",
    "df = pd.read_csv('ScrapedDataMod.csv')\n",
    "\n",
    "df_original['Message'] = df_original['Message'].apply(str)\n",
    "df['Message'] = df['Message'].apply(str)"
   ]
  },
  {
   "cell_type": "code",
   "execution_count": 4,
   "id": "4814fb02-4bbd-41bb-8aff-2ae7e2ac09e3",
   "metadata": {},
   "outputs": [],
   "source": [
    "all_text = ' '.join(df_original['Message'].dropna())\n",
    "words = re.findall(r'\\w+', all_text.lower())\n",
    "word_counts = Counter(words)\n",
    "word_freq_df = pd.DataFrame(word_counts.items(), columns=['Word', 'Frequency']).sort_values(by='Frequency', ascending=False)"
   ]
  },
  {
   "cell_type": "code",
   "execution_count": 5,
   "id": "48058c7b",
   "metadata": {},
   "outputs": [
    {
     "data": {
      "text/html": [
       "<div>\n",
       "<style scoped>\n",
       "    .dataframe tbody tr th:only-of-type {\n",
       "        vertical-align: middle;\n",
       "    }\n",
       "\n",
       "    .dataframe tbody tr th {\n",
       "        vertical-align: top;\n",
       "    }\n",
       "\n",
       "    .dataframe thead th {\n",
       "        text-align: right;\n",
       "    }\n",
       "</style>\n",
       "<table border=\"1\" class=\"dataframe\">\n",
       "  <thead>\n",
       "    <tr style=\"text-align: right;\">\n",
       "      <th></th>\n",
       "      <th>Word</th>\n",
       "      <th>Frequency</th>\n",
       "    </tr>\n",
       "  </thead>\n",
       "  <tbody>\n",
       "    <tr>\n",
       "      <th>11</th>\n",
       "      <td>the</td>\n",
       "      <td>24056</td>\n",
       "    </tr>\n",
       "    <tr>\n",
       "      <th>37</th>\n",
       "      <td>a</td>\n",
       "      <td>11590</td>\n",
       "    </tr>\n",
       "    <tr>\n",
       "      <th>108</th>\n",
       "      <td>i</td>\n",
       "      <td>11040</td>\n",
       "    </tr>\n",
       "    <tr>\n",
       "      <th>35</th>\n",
       "      <td>to</td>\n",
       "      <td>10064</td>\n",
       "    </tr>\n",
       "    <tr>\n",
       "      <th>0</th>\n",
       "      <td>and</td>\n",
       "      <td>9902</td>\n",
       "    </tr>\n",
       "    <tr>\n",
       "      <th>...</th>\n",
       "      <td>...</td>\n",
       "      <td>...</td>\n",
       "    </tr>\n",
       "    <tr>\n",
       "      <th>10921</th>\n",
       "      <td>031</td>\n",
       "      <td>1</td>\n",
       "    </tr>\n",
       "    <tr>\n",
       "      <th>10920</th>\n",
       "      <td>574</td>\n",
       "      <td>1</td>\n",
       "    </tr>\n",
       "    <tr>\n",
       "      <th>10919</th>\n",
       "      <td>j30</td>\n",
       "      <td>1</td>\n",
       "    </tr>\n",
       "    <tr>\n",
       "      <th>10917</th>\n",
       "      <td>g25x</td>\n",
       "      <td>1</td>\n",
       "    </tr>\n",
       "    <tr>\n",
       "      <th>17791</th>\n",
       "      <td>labels</td>\n",
       "      <td>1</td>\n",
       "    </tr>\n",
       "  </tbody>\n",
       "</table>\n",
       "<p>17792 rows × 2 columns</p>\n",
       "</div>"
      ],
      "text/plain": [
       "         Word  Frequency\n",
       "11        the      24056\n",
       "37          a      11590\n",
       "108         i      11040\n",
       "35         to      10064\n",
       "0         and       9902\n",
       "...       ...        ...\n",
       "10921     031          1\n",
       "10920     574          1\n",
       "10919     j30          1\n",
       "10917    g25x          1\n",
       "17791  labels          1\n",
       "\n",
       "[17792 rows x 2 columns]"
      ]
     },
     "execution_count": 5,
     "metadata": {},
     "output_type": "execute_result"
    }
   ],
   "source": [
    "word_freq_df"
   ]
  },
  {
   "cell_type": "code",
   "execution_count": 7,
   "id": "ff42409b",
   "metadata": {},
   "outputs": [],
   "source": [
    "word_freq_df = word_freq_df.reset_index(drop=True)\n",
    "word_freq_df['rank'] = word_freq_df.index + 1\n",
    "wf_100 = word_freq_df[:100]"
   ]
  },
  {
   "cell_type": "code",
   "execution_count": 8,
   "id": "9ba9c6e1",
   "metadata": {},
   "outputs": [
    {
     "data": {
      "image/png": "[encoded data removed]",
      "text/plain": [
       "<Figure size 1000x600 with 1 Axes>"
      ]
     },
     "metadata": {},
     "output_type": "display_data"
    }
   ],
   "source": [
    "plt.figure(figsize=(10, 6))\n",
    "plt.plot(wf_100['rank'], wf_100['Frequency'], label='Word Frequency')\n",
    "\n",
    "plt.xscale('log')\n",
    "plt.yscale('log')\n",
    "\n",
    "plt.title(\"Zipf's Law - Word Frequency Distribution\", fontsize=14)\n",
    "plt.xlabel(\"Rank\")\n",
    "plt.ylabel(\"Frequency\")\n",
    "\n",
    "plt.legend()\n",
    "plt.show()"
   ]
  },
  {
   "cell_type": "code",
   "execution_count": 9,
   "id": "4bafb05d-94b6-4eed-b208-6c3678beba39",
   "metadata": {},
   "outputs": [
    {
     "name": "stdout",
     "output_type": "stream",
     "text": [
      "Slope: -0.8594102056651519\n",
      "R-squared: 0.9847839090861142\n"
     ]
    },
    {
     "data": {
      "image/png": "[encoded data removed]",
      "text/plain": [
       "<Figure size 800x600 with 1 Axes>"
      ]
     },
     "metadata": {},
     "output_type": "display_data"
    }
   ],
   "source": [
    "# Checking if Zip's law is supported econometrically\n",
    "\n",
    "log_rank = np.log(wf_100['rank'])\n",
    "log_freq = np.log(wf_100['Frequency'])\n",
    "\n",
    "# Linear Regression\n",
    "slope, intercept, r_value, p_value, std_err = stats.linregress(log_rank, log_freq)\n",
    "\n",
    "print(f\"Slope: {slope}\")\n",
    "print(f\"R-squared: {r_value**2}\") # squaring the R-value to get R-squared\n",
    "\n",
    "# comparing the plots of the actual data vs. theoretical prediction of Zipf's law\n",
    "#actual data\n",
    "plt.figure(figsize=(8, 6))\n",
    "plt.plot(log_rank, log_freq, color='blue', label='Word Frequency')\n",
    "\n",
    "#Zipf's law\n",
    "predicted_log_frequency = intercept + slope * log_rank\n",
    "plt.plot(log_rank, predicted_log_frequency, 'r', label=f'Fitted line: slope={slope:.2f}')\n",
    "\n",
    "plt.xlabel('log(Rank)')\n",
    "plt.ylabel('log(Frequency)')\n",
    "plt.title(\"Testing Zipf's Law for Top 100 Words\")\n",
    "plt.legend()\n",
    "plt.show()\n",
    "\n",
    "# The slope is -0.85, which is close to the Zip's law slope of -1"
   ]
  },
  {
   "cell_type": "markdown",
   "id": "2685e218-229b-4043-b7d8-475e08858a77",
   "metadata": {},
   "source": [
    "# Task B: Finding the top 10 brands from frequency counts.\n",
    "\n",
    "Note: Stopwords not counted, and analysis is performed at the brand level."
   ]
  },
  {
   "cell_type": "markdown",
   "id": "10dc8c9b-862f-4880-868c-4f409ff8d951",
   "metadata": {},
   "source": [
    "## Replacing car models with brands in the scraped data (without stopwords)."
   ]
  },
  {
   "cell_type": "code",
   "execution_count": 10,
   "id": "8fcce010-e56a-43d1-a0aa-ac22595989a7",
   "metadata": {},
   "outputs": [],
   "source": [
    "# Load car models and brands data\n",
    "df2 = pd.read_csv(\"car_models_and_brands.csv\")"
   ]
  },
  {
   "cell_type": "code",
   "execution_count": 11,
   "id": "34774347-6093-4891-9ce5-3aa98e034d98",
   "metadata": {},
   "outputs": [],
   "source": [
    "# Removing non-car brands from data\n",
    "to_drop = ['car', 'seat', 'problem', 'sedan']\n",
    "df2 = df2[~df2['Brand'].isin(to_drop)]"
   ]
  },
  {
   "cell_type": "code",
   "execution_count": 15,
   "id": "472f11cc-c5a4-4f30-b527-6e52a118ad05",
   "metadata": {},
   "outputs": [],
   "source": [
    "car_brands = df2['Brand'].str.lower().unique()\n",
    "model_to_brand = dict(zip(df2['Model'].str.lower(), df2['Brand'].str.lower()))\n",
    "results = []\n",
    "\n",
    "# Extract car brands from posts\n",
    "for index, row in df.iterrows():\n",
    "    message = row['Message']\n",
    "\n",
    "    found_brands = set([brand for brand in car_brands if brand in message.lower()]) \n",
    "    found_models = [model for model in model_to_brand if model in message.lower()]\n",
    "    found_brands.update([model_to_brand[model] for model in found_models])\n",
    "\n",
    "    results.append(', '.join(found_brands))\n",
    "\n",
    "df['Brands'] = results"
   ]
  },
  {
   "cell_type": "code",
   "execution_count": 16,
   "id": "4e5b3f7b-a160-4491-bb41-34f48caf363f",
   "metadata": {},
   "outputs": [
    {
     "name": "stdout",
     "output_type": "stream",
     "text": [
      "toyota        1186\n",
      "bmw           1088\n",
      "audi           987\n",
      "honda          617\n",
      "acura          559\n",
      "chrysler       493\n",
      "volkswagen     257\n",
      "infiniti       252\n",
      "ford           250\n",
      "mercedes       232\n",
      "Name: Brands, dtype: int64\n"
     ]
    }
   ],
   "source": [
    "df_exploded = df['Brands'].str.split(',').explode().str.strip() # explode splits brands column by the comma and seperates them into multiple rows\n",
    "\n",
    "# Filter out any empty rows\n",
    "df_exploded = df_exploded[df_exploded != '']\n",
    "\n",
    "brand_counts = df_exploded.value_counts()\n",
    "\n",
    "# Display the top 10 brands by frequency\n",
    "top_10_brands = brand_counts.head(10)\n",
    "print(top_10_brands)"
   ]
  },
  {
   "cell_type": "markdown",
   "id": "70b5034e-7857-42e5-9cf1-041951580d14",
   "metadata": {},
   "source": [
    "# Task C: Calculating the lift ratios for associations between the top 10 brands identified in Task A.\n",
    "\n",
    "Note: Counting of a brand is done once per post, and a message is not counted in the lift calculations if the mentions of the two brands are separated by approximately 5-7 words."
   ]
  },
  {
   "cell_type": "code",
   "execution_count": 22,
   "id": "dae2f543-6c84-4b50-ba96-64cfb61b9890",
   "metadata": {},
   "outputs": [
    {
     "name": "stdout",
     "output_type": "stream",
     "text": [
      "Lift values saved to 'Lift_Values.csv'.\n",
      "\n",
      "Lift values table:\n",
      "    Brand 1   Brand 2      Lift\n",
      "0      audi       bmw  0.018389\n",
      "1      audi     acura  0.018499\n",
      "2       bmw      audi  0.018389\n",
      "3       bmw     acura  0.042331\n",
      "4     acura      audi  0.018499\n",
      "5     acura       bmw  0.042331\n",
      "6     acura  infiniti  0.069157\n",
      "7     acura     honda  0.073426\n",
      "8  infiniti     acura  0.069157\n",
      "9     honda     acura  0.073426\n",
      "\n",
      "Lift matrix saved to 'Lift_Matrix.csv'.\n"
     ]
    }
   ],
   "source": [
    "top_10_brands_list = top_10_brands.index.str.lower().tolist()\n",
    "\n",
    "# Function to clean and tokenize text (removes punctuation and stopwords)\n",
    "def clean_text(text, stop_words):\n",
    "    text = re.sub(r'\\W+', ' ', text.lower())  # Remove punctuation and convert to lowercase\n",
    "    words = text.split()\n",
    "    return [word for word in words if word not in stop_words]\n",
    "\n",
    "# Function to find brand co-occurrences within a window\n",
    "def find_brand_pairs(message, brands, window=5):\n",
    "    words = message.split()\n",
    "    brand_indices = {brand: [] for brand in brands}\n",
    "    \n",
    "    # Track the position of each brand in the message\n",
    "    for i, word in enumerate(words):\n",
    "        if word in brands:\n",
    "            brand_indices[word].append(i)\n",
    "    \n",
    "    # Find pairs within the given window\n",
    "    brand_pairs = set()\n",
    "    for brand1, indices1 in brand_indices.items():\n",
    "        for brand2, indices2 in brand_indices.items():\n",
    "            if brand1 != brand2:\n",
    "                for idx1 in indices1:\n",
    "                    for idx2 in indices2:\n",
    "                        if abs(idx1 - idx2) <= window:\n",
    "                            brand_pairs.add(tuple(sorted([brand1, brand2])))  # Ensure consistent order\n",
    "    \n",
    "    return brand_pairs\n",
    "\n",
    "# Function to calculate word frequencies and word pair co-occurrences\n",
    "def calculate_frequencies(df, brands, window=5):\n",
    "    word_frequency = defaultdict(int)\n",
    "    word_pair_frequency = defaultdict(lambda: defaultdict(int))\n",
    "\n",
    "    # Loop through each post and count word occurrences\n",
    "    for index, row in df.iterrows():\n",
    "        message = row['Message']\n",
    "        words = set(clean_text(message, stop_words))  # Clean text and remove stopwords\n",
    "        brand_pairs = find_brand_pairs(message, brands, window=window)\n",
    "\n",
    "        # Update word frequencies\n",
    "        for word in words:\n",
    "            if word in brands:\n",
    "                word_frequency[word] += 1\n",
    "\n",
    "        # Update pair frequencies\n",
    "        for brand1, brand2 in brand_pairs:\n",
    "            word_pair_frequency[brand1][brand2] += 1\n",
    "            word_pair_frequency[brand2][brand1] += 1  # Update both directions\n",
    "\n",
    "    return word_frequency, word_pair_frequency\n",
    "\n",
    "# Function to calculate lift\n",
    "def calculate_lift(word_frequency, word_pair_frequency, total_posts):\n",
    "    lift_values = []\n",
    "\n",
    "    for brand1, co_occurrences in word_pair_frequency.items():\n",
    "        for brand2, count in co_occurrences.items():\n",
    "            if brand1 != brand2:\n",
    "                p_brand1 = word_frequency[brand1] / total_posts\n",
    "                p_brand2 = word_frequency[brand2] / total_posts\n",
    "                p_both = count / total_posts\n",
    "\n",
    "                if p_brand1 * p_brand2 > 0:\n",
    "                    lift = p_both / (p_brand1 * p_brand2)\n",
    "                    lift_values.append({\n",
    "                        'Brand 1': brand1,\n",
    "                        'Brand 2': brand2,\n",
    "                        'Lift': lift\n",
    "                    })\n",
    "\n",
    "    return pd.DataFrame(lift_values)\n",
    "\n",
    "# Main function to process data and compute lift ratios\n",
    "def main(df, top_10_brands_list, stop_words, window=5):\n",
    "    # Step 1: Calculate word and word pair frequencies\n",
    "    total_posts = len(df)\n",
    "    word_frequency, word_pair_frequency = calculate_frequencies(df, top_10_brands_list, window)\n",
    "\n",
    "    # Step 2: Calculate lift values\n",
    "    lift_df = calculate_lift(word_frequency, word_pair_frequency, total_posts)\n",
    "\n",
    "    # Step 3: Save the lift values to a CSV file\n",
    "    lift_df.to_csv('Lift_Values.csv', index=False)\n",
    "    print(\"Lift values saved to 'Lift_Values.csv'.\")\n",
    "\n",
    "    # Step 4: Display the lift values as a table\n",
    "    pd.set_option('display.max_rows', None)  # Display all rows\n",
    "    print(\"\\nLift values table:\")\n",
    "    print(lift_df)\n",
    "\n",
    "    # Generate lift matrix (Brand vs. Brand with Lift values)\n",
    "    lift_matrix = lift_df.pivot(index='Brand 1', columns='Brand 2', values='Lift')\n",
    "    lift_matrix.to_csv('Lift_Matrix.csv')\n",
    "    print(\"\\nLift matrix saved to 'Lift_Matrix.csv'.\")\n",
    "\n",
    "# Execute the main function\n",
    "main(df, top_10_brands_list, stop_words, window=7)  # Adjust window size as needed"
   ]
  },
  {
   "cell_type": "markdown",
   "id": "870ae44e-9793-4af1-b94a-df772e6a1a19",
   "metadata": {},
   "source": [
    "# Task D: Plotting the brands on a multi-dimensional scaling (MDS) map."
   ]
  },
  {
   "cell_type": "code",
   "execution_count": null,
   "id": "82e24f73-88c7-4a05-bc0e-0ab0103745d9",
   "metadata": {},
   "outputs": [],
   "source": []
  },
  {
   "cell_type": "markdown",
   "id": "0c36daec-6a9c-4266-a8c5-65d92c34651f",
   "metadata": {},
   "source": [
    "# Task E: Insights from Tasks C and D."
   ]
  },
  {
   "cell_type": "markdown",
   "id": "11355dc2-ce8b-4a9b-b560-710bb18a49b9",
   "metadata": {},
   "source": []
  },
  {
   "cell_type": "markdown",
   "id": "a52caa76-8f23-4a61-b472-af3d57b91705",
   "metadata": {},
   "source": [
    "# Task F: Identifying the top 5 most frequently mentioned attributes of features of cars in the discussions and which attributes are strongly associated with which of the 5 brands."
   ]
  },
  {
   "cell_type": "code",
   "execution_count": null,
   "id": "d07844b7-9dba-4b85-99fd-2f111001cf43",
   "metadata": {},
   "outputs": [],
   "source": [
    "# Need to clarify wording with professor on wording of this question."
   ]
  },
  {
   "cell_type": "markdown",
   "id": "3d4259bf-8f97-46d9-9879-d8f16538611e",
   "metadata": {},
   "source": [
    "# Task G: Advice for Client based on Task F."
   ]
  },
  {
   "cell_type": "markdown",
   "id": "0377463a-785c-4792-98ee-20589c446aca",
   "metadata": {},
   "source": []
  },
  {
   "cell_type": "markdown",
   "id": "7e861b2e-8299-4cb3-b9ef-11245724699e",
   "metadata": {},
   "source": [
    "# Task H: Identifying the most aspirational brand in the data in terms of people wanting to actually buy or own."
   ]
  },
  {
   "cell_type": "code",
   "execution_count": null,
   "id": "11094693-10a5-47ff-a4be-20b0cc6cd9c9",
   "metadata": {},
   "outputs": [],
   "source": [
    "# Describe analyses\n",
    "    # Describe how we measured \"aspirational\" and how we found the most aspirational brand. \n",
    "# Describe business implications for this brand"
   ]
  }
 ],
 "metadata": {
  "kernelspec": {
   "display_name": "Python 3 (ipykernel)",
   "language": "python",
   "name": "python3"
  },
  "language_info": {
   "codemirror_mode": {
    "name": "ipython",
    "version": 3
   },
   "file_extension": ".py",
   "mimetype": "text/x-python",
   "name": "python",
   "nbconvert_exporter": "python",
   "pygments_lexer": "ipython3",
   "version": "3.10.9"
  }
 },
 "nbformat": 4,
 "nbformat_minor": 5
}
